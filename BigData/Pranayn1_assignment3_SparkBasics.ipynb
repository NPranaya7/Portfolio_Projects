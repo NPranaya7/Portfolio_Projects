{
  "nbformat": 4,
  "nbformat_minor": 0,
  "metadata": {
    "colab": {
      "provenance": []
    },
    "kernelspec": {
      "name": "python3",
      "display_name": "Python 3"
    },
    "language_info": {
      "name": "python"
    }
  },
  "cells": [
    {
      "cell_type": "code",
      "execution_count": 1,
      "metadata": {
        "id": "rjZPwVeJmyAR"
      },
      "outputs": [],
      "source": [
        "!apt-get install openjdk-8-jdk-headless -qq > /dev/null"
      ]
    },
    {
      "cell_type": "code",
      "source": [
        "!wget -q https://dlcdn.apache.org/spark/spark-3.3.2/spark-3.3.2-bin-hadoop3.tgz"
      ],
      "metadata": {
        "id": "tO8vad82oEld"
      },
      "execution_count": 2,
      "outputs": []
    },
    {
      "cell_type": "code",
      "source": [
        "!tar -xf spark-3.3.2-bin-hadoop3.tgz"
      ],
      "metadata": {
        "id": "lCLnh_xfoGY0"
      },
      "execution_count": 3,
      "outputs": []
    },
    {
      "cell_type": "code",
      "source": [
        "!pip install -q findspark"
      ],
      "metadata": {
        "id": "0AXJDtfzoNgH"
      },
      "execution_count": 4,
      "outputs": []
    },
    {
      "cell_type": "code",
      "source": [
        "import os\n",
        "os.environ[\"JAVA_HOME\"] = \"/usr/lib/jvm/java-8-openjdk-amd64\"\n",
        "os.environ[\"SPARK_HOME\"] = \"/content/spark-3.3.2-bin-hadoop3\""
      ],
      "metadata": {
        "id": "o2mm7RhwoTq6"
      },
      "execution_count": 5,
      "outputs": []
    },
    {
      "cell_type": "code",
      "source": [
        "import findspark\n",
        "findspark.init()"
      ],
      "metadata": {
        "id": "83VGHQyToWH_"
      },
      "execution_count": 6,
      "outputs": []
    },
    {
      "cell_type": "code",
      "source": [
        "from pyspark.sql import SparkSession"
      ],
      "metadata": {
        "id": "PpSfN76foYHH"
      },
      "execution_count": 7,
      "outputs": []
    },
    {
      "cell_type": "code",
      "source": [
        "spark = SparkSession.builder\\\n",
        "        .master(\"local\")\\\n",
        "        .appName(\"Colab\")\\\n",
        "        .config('spark.ui.port', '4050')\\\n",
        "        .getOrCreate()"
      ],
      "metadata": {
        "id": "gw7hlQZnoZjl"
      },
      "execution_count": 8,
      "outputs": []
    },
    {
      "cell_type": "code",
      "source": [
        "spark"
      ],
      "metadata": {
        "colab": {
          "base_uri": "https://localhost:8080/",
          "height": 219
        },
        "id": "jOAOaepuobv6",
        "outputId": "cfa3b141-ceaa-442d-c5fd-69452464f41c"
      },
      "execution_count": 9,
      "outputs": [
        {
          "output_type": "execute_result",
          "data": {
            "text/plain": [
              "<pyspark.sql.session.SparkSession at 0x7ff5c02353d0>"
            ],
            "text/html": [
              "\n",
              "            <div>\n",
              "                <p><b>SparkSession - in-memory</b></p>\n",
              "                \n",
              "        <div>\n",
              "            <p><b>SparkContext</b></p>\n",
              "\n",
              "            <p><a href=\"http://2b332a2cc84e:4050\">Spark UI</a></p>\n",
              "\n",
              "            <dl>\n",
              "              <dt>Version</dt>\n",
              "                <dd><code>v3.3.2</code></dd>\n",
              "              <dt>Master</dt>\n",
              "                <dd><code>local</code></dd>\n",
              "              <dt>AppName</dt>\n",
              "                <dd><code>Colab</code></dd>\n",
              "            </dl>\n",
              "        </div>\n",
              "        \n",
              "            </div>\n",
              "        "
            ]
          },
          "metadata": {},
          "execution_count": 9
        }
      ]
    },
    {
      "cell_type": "code",
      "source": [
        "!wget https://bin.equinox.io/c/bNyj1mQVY4c/ngrok-v3-stable-linux-amd64.tgz\n",
        "!tar -xf ngrok-v3-stable-linux-amd64.tgz"
      ],
      "metadata": {
        "colab": {
          "base_uri": "https://localhost:8080/"
        },
        "id": "1V9VvUsPod3y",
        "outputId": "9dd8a7bb-057f-4c09-e388-161c3039b727"
      },
      "execution_count": 10,
      "outputs": [
        {
          "output_type": "stream",
          "name": "stdout",
          "text": [
            "--2023-03-12 17:31:29--  https://bin.equinox.io/c/bNyj1mQVY4c/ngrok-v3-stable-linux-amd64.tgz\n",
            "Resolving bin.equinox.io (bin.equinox.io)... 54.237.133.81, 18.205.222.128, 52.202.168.65, ...\n",
            "Connecting to bin.equinox.io (bin.equinox.io)|54.237.133.81|:443... connected.\n",
            "HTTP request sent, awaiting response... 200 OK\n",
            "Length: 9300212 (8.9M) [application/octet-stream]\n",
            "Saving to: ‘ngrok-v3-stable-linux-amd64.tgz’\n",
            "\n",
            "ngrok-v3-stable-lin 100%[===================>]   8.87M  43.3MB/s    in 0.2s    \n",
            "\n",
            "2023-03-12 17:31:30 (43.3 MB/s) - ‘ngrok-v3-stable-linux-amd64.tgz’ saved [9300212/9300212]\n",
            "\n"
          ]
        }
      ]
    },
    {
      "cell_type": "code",
      "source": [
        "# This is my token, you can setup your own ngrok account and get your own if you want\n",
        "# I'm not sure if I can launch tunnels for everyone in class, no biggie at this point if you can't get the UI up.\n",
        "# https://ngrok.com\n",
        "!./ngrok config add-authtoken 2MeuAq8RhqK5mcT1MlX8rrDLLUq_48rPK2gwQGdFeQQWPcrTL"
      ],
      "metadata": {
        "colab": {
          "base_uri": "https://localhost:8080/"
        },
        "id": "W0ZeICj4ogw1",
        "outputId": "56de70c3-ac35-44ea-e2a0-958ed3817a82"
      },
      "execution_count": 11,
      "outputs": [
        {
          "output_type": "stream",
          "name": "stdout",
          "text": [
            "Authtoken saved to configuration file: /root/.config/ngrok/ngrok.yml\n"
          ]
        }
      ]
    },
    {
      "cell_type": "code",
      "source": [
        "# start ngrok, be sure to verify ngrok email they sent you if you signed up.\n",
        "get_ipython().system_raw('./ngrok http 4050 &')"
      ],
      "metadata": {
        "id": "1HVYxCWIom0h"
      },
      "execution_count": 12,
      "outputs": []
    },
    {
      "cell_type": "code",
      "source": [
        "!curl -s http://localhost:4040/api/tunnels"
      ],
      "metadata": {
        "colab": {
          "base_uri": "https://localhost:8080/"
        },
        "id": "Ws9XbtrGookj",
        "outputId": "93525904-5411-495b-f69f-2dbb4411e67e"
      },
      "execution_count": 13,
      "outputs": [
        {
          "output_type": "stream",
          "name": "stdout",
          "text": [
            "{\"tunnels\":[],\"uri\":\"/api/tunnels\"}\n"
          ]
        }
      ]
    },
    {
      "cell_type": "code",
      "source": [
        "!pip install awscli\n",
        "!pip install boto3"
      ],
      "metadata": {
        "colab": {
          "base_uri": "https://localhost:8080/"
        },
        "id": "D897Z-xsoqIC",
        "outputId": "bfab2e7a-813b-46b6-e650-07fc51564b08"
      },
      "execution_count": 14,
      "outputs": [
        {
          "output_type": "stream",
          "name": "stdout",
          "text": [
            "Looking in indexes: https://pypi.org/simple, https://us-python.pkg.dev/colab-wheels/public/simple/\n",
            "Collecting awscli\n",
            "  Downloading awscli-1.27.89-py3-none-any.whl (4.0 MB)\n",
            "\u001b[2K     \u001b[90m━━━━━━━━━━━━━━━━━━━━━━━━━━━━━━━━━━━━━━━━\u001b[0m \u001b[32m4.0/4.0 MB\u001b[0m \u001b[31m28.9 MB/s\u001b[0m eta \u001b[36m0:00:00\u001b[0m\n",
            "\u001b[?25hCollecting botocore==1.29.89\n",
            "  Downloading botocore-1.29.89-py3-none-any.whl (10.5 MB)\n",
            "\u001b[2K     \u001b[90m━━━━━━━━━━━━━━━━━━━━━━━━━━━━━━━━━━━━━━━━\u001b[0m \u001b[32m10.5/10.5 MB\u001b[0m \u001b[31m62.0 MB/s\u001b[0m eta \u001b[36m0:00:00\u001b[0m\n",
            "\u001b[?25hCollecting s3transfer<0.7.0,>=0.6.0\n",
            "  Downloading s3transfer-0.6.0-py3-none-any.whl (79 kB)\n",
            "\u001b[2K     \u001b[90m━━━━━━━━━━━━━━━━━━━━━━━━━━━━━━━━━━━━━━━━\u001b[0m \u001b[32m79.6/79.6 KB\u001b[0m \u001b[31m7.8 MB/s\u001b[0m eta \u001b[36m0:00:00\u001b[0m\n",
            "\u001b[?25hCollecting PyYAML<5.5,>=3.10\n",
            "  Downloading PyYAML-5.4.1-cp39-cp39-manylinux1_x86_64.whl (630 kB)\n",
            "\u001b[2K     \u001b[90m━━━━━━━━━━━━━━━━━━━━━━━━━━━━━━━━━━━━━━\u001b[0m \u001b[32m630.1/630.1 KB\u001b[0m \u001b[31m38.7 MB/s\u001b[0m eta \u001b[36m0:00:00\u001b[0m\n",
            "\u001b[?25hCollecting colorama<0.4.5,>=0.2.5\n",
            "  Downloading colorama-0.4.4-py2.py3-none-any.whl (16 kB)\n",
            "Requirement already satisfied: docutils<0.17,>=0.10 in /usr/local/lib/python3.9/dist-packages (from awscli) (0.16)\n",
            "Collecting rsa<4.8,>=3.1.2\n",
            "  Downloading rsa-4.7.2-py3-none-any.whl (34 kB)\n",
            "Requirement already satisfied: python-dateutil<3.0.0,>=2.1 in /usr/local/lib/python3.9/dist-packages (from botocore==1.29.89->awscli) (2.8.2)\n",
            "Requirement already satisfied: urllib3<1.27,>=1.25.4 in /usr/local/lib/python3.9/dist-packages (from botocore==1.29.89->awscli) (1.26.14)\n",
            "Collecting jmespath<2.0.0,>=0.7.1\n",
            "  Downloading jmespath-1.0.1-py3-none-any.whl (20 kB)\n",
            "Requirement already satisfied: pyasn1>=0.1.3 in /usr/local/lib/python3.9/dist-packages (from rsa<4.8,>=3.1.2->awscli) (0.4.8)\n",
            "Requirement already satisfied: six>=1.5 in /usr/local/lib/python3.9/dist-packages (from python-dateutil<3.0.0,>=2.1->botocore==1.29.89->awscli) (1.15.0)\n",
            "Installing collected packages: rsa, PyYAML, jmespath, colorama, botocore, s3transfer, awscli\n",
            "  Attempting uninstall: rsa\n",
            "    Found existing installation: rsa 4.9\n",
            "    Uninstalling rsa-4.9:\n",
            "      Successfully uninstalled rsa-4.9\n",
            "  Attempting uninstall: PyYAML\n",
            "    Found existing installation: PyYAML 6.0\n",
            "    Uninstalling PyYAML-6.0:\n",
            "      Successfully uninstalled PyYAML-6.0\n",
            "Successfully installed PyYAML-5.4.1 awscli-1.27.89 botocore-1.29.89 colorama-0.4.4 jmespath-1.0.1 rsa-4.7.2 s3transfer-0.6.0\n",
            "Looking in indexes: https://pypi.org/simple, https://us-python.pkg.dev/colab-wheels/public/simple/\n",
            "Collecting boto3\n",
            "  Downloading boto3-1.26.89-py3-none-any.whl (134 kB)\n",
            "\u001b[2K     \u001b[90m━━━━━━━━━━━━━━━━━━━━━━━━━━━━━━━━━━━━━━━\u001b[0m \u001b[32m134.7/134.7 KB\u001b[0m \u001b[31m3.4 MB/s\u001b[0m eta \u001b[36m0:00:00\u001b[0m\n",
            "\u001b[?25hRequirement already satisfied: s3transfer<0.7.0,>=0.6.0 in /usr/local/lib/python3.9/dist-packages (from boto3) (0.6.0)\n",
            "Requirement already satisfied: botocore<1.30.0,>=1.29.89 in /usr/local/lib/python3.9/dist-packages (from boto3) (1.29.89)\n",
            "Requirement already satisfied: jmespath<2.0.0,>=0.7.1 in /usr/local/lib/python3.9/dist-packages (from boto3) (1.0.1)\n",
            "Requirement already satisfied: python-dateutil<3.0.0,>=2.1 in /usr/local/lib/python3.9/dist-packages (from botocore<1.30.0,>=1.29.89->boto3) (2.8.2)\n",
            "Requirement already satisfied: urllib3<1.27,>=1.25.4 in /usr/local/lib/python3.9/dist-packages (from botocore<1.30.0,>=1.29.89->boto3) (1.26.14)\n",
            "Requirement already satisfied: six>=1.5 in /usr/local/lib/python3.9/dist-packages (from python-dateutil<3.0.0,>=2.1->botocore<1.30.0,>=1.29.89->boto3) (1.15.0)\n",
            "Installing collected packages: boto3\n",
            "Successfully installed boto3-1.26.89\n"
          ]
        }
      ]
    },
    {
      "cell_type": "code",
      "source": [
        "!aws configure"
      ],
      "metadata": {
        "colab": {
          "base_uri": "https://localhost:8080/"
        },
        "id": "y8yak47Ko75U",
        "outputId": "ce393be8-50eb-43a7-ef5e-c05bb753c897"
      },
      "execution_count": 15,
      "outputs": [
        {
          "output_type": "stream",
          "name": "stdout",
          "text": [
            "AWS Access Key ID [None]: EJO67TBP7ZHN4KJIOMJU\n",
            "AWS Secret Access Key [None]: lqZUzZIK2VysIX4eRkXiCrH7w0HiOs5JeWF1QFUH\n",
            "Default region name [None]: us-east-1\n",
            "Default output format [None]: None\n"
          ]
        }
      ]
    },
    {
      "cell_type": "code",
      "source": [
        "import boto3\n",
        "s3 = boto3.client('s3',endpoint_url='https://s3.wasabisys.com')\n",
        "response = s3.list_buckets()"
      ],
      "metadata": {
        "id": "m_P21dyopE2e"
      },
      "execution_count": 16,
      "outputs": []
    },
    {
      "cell_type": "code",
      "source": [
        "response['Buckets']"
      ],
      "metadata": {
        "colab": {
          "base_uri": "https://localhost:8080/"
        },
        "id": "jyms40aHpSG0",
        "outputId": "d94b65e6-01e8-4911-e36a-19bb9106a918"
      },
      "execution_count": 17,
      "outputs": [
        {
          "output_type": "execute_result",
          "data": {
            "text/plain": [
              "[{'Name': 'data603',\n",
              "  'CreationDate': datetime.datetime(2023, 2, 5, 19, 38, 12, tzinfo=tzlocal())},\n",
              " {'Name': 'data603-spring2023',\n",
              "  'CreationDate': datetime.datetime(2023, 2, 5, 19, 6, 49, tzinfo=tzlocal())}]"
            ]
          },
          "metadata": {},
          "execution_count": 17
        }
      ]
    },
    {
      "cell_type": "code",
      "source": [
        "objects = s3.list_objects_v2(Bucket='data603-spring2023')\n",
        "\n",
        "for obj in objects['Contents']:\n",
        "  print(obj['Key'])"
      ],
      "metadata": {
        "colab": {
          "base_uri": "https://localhost:8080/"
        },
        "id": "uP3GJpe5pT17",
        "outputId": "3d2ffbb7-f303-4654-9047-6cff8fecdd40"
      },
      "execution_count": 18,
      "outputs": [
        {
          "output_type": "stream",
          "name": "stdout",
          "text": [
            "assignment3/\n",
            "assignment3/test-annotations-bbox.csv\n",
            "assignment3/train-annotations-bbox.csv\n",
            "assignment3/validation-annotations-bbox.csv\n",
            "classexercise1/\n",
            "classexercise1/bible.txt\n",
            "classexercise1/mapreduce.py\n",
            "homework1/\n",
            "homework1/nfl_salary.csv\n"
          ]
        }
      ]
    },
    {
      "cell_type": "code",
      "source": [
        "s3r = boto3.resource('s3', endpoint_url='https://s3.wasabisys.com')\n",
        "\n",
        "for bucket in s3r.buckets.all():\n",
        "  print(bucket.name)"
      ],
      "metadata": {
        "colab": {
          "base_uri": "https://localhost:8080/"
        },
        "id": "K4C9_cfMu4ff",
        "outputId": "d790719c-0c3e-4302-c408-6ce96d83ef78"
      },
      "execution_count": 19,
      "outputs": [
        {
          "output_type": "stream",
          "name": "stdout",
          "text": [
            "data603\n",
            "data603-spring2023\n"
          ]
        }
      ]
    },
    {
      "cell_type": "code",
      "source": [
        "bucket = s3r.Bucket('data603-spring2023')\n",
        "\n",
        "for obj in bucket.objects.all():\n",
        "  print(obj.key)"
      ],
      "metadata": {
        "colab": {
          "base_uri": "https://localhost:8080/"
        },
        "id": "6MMbHL0du4Y9",
        "outputId": "f3332371-3952-4a67-ac74-22fd8917319b"
      },
      "execution_count": 20,
      "outputs": [
        {
          "output_type": "stream",
          "name": "stdout",
          "text": [
            "assignment3/\n",
            "assignment3/test-annotations-bbox.csv\n",
            "assignment3/train-annotations-bbox.csv\n",
            "assignment3/validation-annotations-bbox.csv\n",
            "classexercise1/\n",
            "classexercise1/bible.txt\n",
            "classexercise1/mapreduce.py\n",
            "homework1/\n",
            "homework1/nfl_salary.csv\n"
          ]
        }
      ]
    },
    {
      "cell_type": "code",
      "source": [
        "s3r.Bucket('data603-spring2023').download_file(\"assignment3/test-annotations-bbox.csv\", \"/content/drive/MyDrive/Colab Notebooks/603 Big data/Data Files/test-annotations-bbox.csv\")\n",
        "s3r.Bucket('data603-spring2023').download_file(\"assignment3/train-annotations-bbox.csv\", \"/content/drive/MyDrive/Colab Notebooks/603 Big data/Data Files/train-annotations-bbox.csv\")\n",
        "s3r.Bucket('data603-spring2023').download_file(\"assignment3/validation-annotations-bbox.csv\", \"/content/drive/MyDrive/Colab Notebooks/603 Big data/Data Files/validation-annotations-bbox.csv\")\n"
      ],
      "metadata": {
        "id": "VYA2XtLkpqEb"
      },
      "execution_count": 21,
      "outputs": []
    },
    {
      "cell_type": "code",
      "source": [
        "# bounding_boxes = spark.read.csv('/content/drive/MyDrive/Colab Notebooks/603 Big data/Data Files/test-annotations-bbox.csv', header = True)\n",
        "bb_test = spark.read.csv('/content/drive/MyDrive/Colab Notebooks/603 Big data/Data Files/test-annotations-bbox.csv', header = True)\n",
        "bb_train = spark.read.csv('/content/drive/MyDrive/Colab Notebooks/603 Big data/Data Files/train-annotations-bbox.csv', header = True)\n",
        "bb_validation = spark.read.csv('/content/drive/MyDrive/Colab Notebooks/603 Big data/Data Files/validation-annotations-bbox.csv', header = True)"
      ],
      "metadata": {
        "id": "oIppHP2zqWos"
      },
      "execution_count": 22,
      "outputs": []
    },
    {
      "cell_type": "code",
      "source": [
        "bounding_boxes = bb_test.union(bb_train).union(bb_validation)"
      ],
      "metadata": {
        "id": "v0xTn0XkrFb7"
      },
      "execution_count": 23,
      "outputs": []
    },
    {
      "cell_type": "code",
      "source": [
        "bounding_boxes.show(10)"
      ],
      "metadata": {
        "colab": {
          "base_uri": "https://localhost:8080/"
        },
        "id": "I8jRhvwjrLg-",
        "outputId": "c1a26772-9fbf-4e1c-f76d-d7c3ae74375a"
      },
      "execution_count": 24,
      "outputs": [
        {
          "output_type": "stream",
          "name": "stdout",
          "text": [
            "+----------------+------+---------+----------+-----------+----------+----------+-----------+----------+-----------+---------+-----------+--------+\n",
            "|         ImageID|Source|LabelName|Confidence|       XMin|      XMax|      YMin|       YMax|IsOccluded|IsTruncated|IsGroupOf|IsDepiction|IsInside|\n",
            "+----------------+------+---------+----------+-----------+----------+----------+-----------+----------+-----------+---------+-----------+--------+\n",
            "|000026e7ee790996|xclick| /m/07j7r|         1|   0.071875| 0.1453125|   0.20625| 0.39166668|         0|          1|        1|          0|       0|\n",
            "|000026e7ee790996|xclick| /m/07j7r|         1|  0.4390625|  0.571875|0.26458332| 0.43541667|         0|          1|        1|          0|       0|\n",
            "|000026e7ee790996|xclick| /m/07j7r|         1|    0.66875|         1|         0|  0.5520833|         0|          1|        1|          0|       0|\n",
            "|000062a39995e348|xclick| /m/015p6|         1| 0.20620842|  0.849224|0.15463917|          1|         0|          0|        0|          0|       0|\n",
            "|000062a39995e348|xclick| /m/05s2s|         1| 0.13747229|0.37694013|         0| 0.88365245|         1|          1|        0|          0|       0|\n",
            "|0000c64e1253d68f|xclick|  /m/0k4j|         1|          0| 0.5132743|0.32079646|  0.6902655|         0|          1|        0|          0|       0|\n",
            "|0000c64e1253d68f|xclick|  /m/0k4j|         1|0.016224189|0.26843658|0.29867256| 0.46238938|         1|          0|        0|          0|       0|\n",
            "|0000c64e1253d68f|xclick|  /m/0k4j|         1| 0.48082596| 0.9041298|0.23230088| 0.48893806|         1|          0|        0|          0|       0|\n",
            "|0000c64e1253d68f|xclick|  /m/0k4j|         1|  0.7522124|         1| 0.3318584| 0.65707964|         0|          1|        0|          0|       0|\n",
            "|0000c64e1253d68f|xclick| /m/07yv9|         1|          0| 0.9734513|         0|0.044247787|         0|          1|        1|          0|       0|\n",
            "+----------------+------+---------+----------+-----------+----------+----------+-----------+----------+-----------+---------+-----------+--------+\n",
            "only showing top 10 rows\n",
            "\n"
          ]
        }
      ]
    },
    {
      "cell_type": "code",
      "source": [
        "bb_test.count() + bb_validation.count() + bb_train.count()"
      ],
      "metadata": {
        "colab": {
          "base_uri": "https://localhost:8080/"
        },
        "id": "VYuMkIBusSRT",
        "outputId": "a8db083c-8d6d-44d6-8bd7-efa50303477f"
      },
      "execution_count": 25,
      "outputs": [
        {
          "output_type": "execute_result",
          "data": {
            "text/plain": [
              "15851536"
            ]
          },
          "metadata": {},
          "execution_count": 25
        }
      ]
    },
    {
      "cell_type": "code",
      "source": [
        "bounding_boxes.count()"
      ],
      "metadata": {
        "colab": {
          "base_uri": "https://localhost:8080/"
        },
        "id": "KpeNx7JssXaW",
        "outputId": "f580cd15-285d-4ce8-9190-a5ee544ee282"
      },
      "execution_count": 26,
      "outputs": [
        {
          "output_type": "execute_result",
          "data": {
            "text/plain": [
              "15851536"
            ]
          },
          "metadata": {},
          "execution_count": 26
        }
      ]
    },
    {
      "cell_type": "code",
      "source": [
        "bounding_boxes.limit(20).toPandas()"
      ],
      "metadata": {
        "colab": {
          "base_uri": "https://localhost:8080/",
          "height": 677
        },
        "id": "9fcyfPmjrPQV",
        "outputId": "a040ab99-6a2d-4750-e7be-f530f28f0bc6"
      },
      "execution_count": 27,
      "outputs": [
        {
          "output_type": "execute_result",
          "data": {
            "text/plain": [
              "             ImageID  Source LabelName Confidence         XMin        XMax  \\\n",
              "0   000026e7ee790996  xclick  /m/07j7r          1     0.071875   0.1453125   \n",
              "1   000026e7ee790996  xclick  /m/07j7r          1    0.4390625    0.571875   \n",
              "2   000026e7ee790996  xclick  /m/07j7r          1      0.66875           1   \n",
              "3   000062a39995e348  xclick  /m/015p6          1   0.20620842    0.849224   \n",
              "4   000062a39995e348  xclick  /m/05s2s          1   0.13747229  0.37694013   \n",
              "5   0000c64e1253d68f  xclick   /m/0k4j          1            0   0.5132743   \n",
              "6   0000c64e1253d68f  xclick   /m/0k4j          1  0.016224189  0.26843658   \n",
              "7   0000c64e1253d68f  xclick   /m/0k4j          1   0.48082596   0.9041298   \n",
              "8   0000c64e1253d68f  xclick   /m/0k4j          1    0.7522124           1   \n",
              "9   0000c64e1253d68f  xclick  /m/07yv9          1            0   0.9734513   \n",
              "10  000132c20b84269b  xclick  /m/0dzct          1     0.140625       0.225   \n",
              "11  000132c20b84269b  xclick  /m/0dzct          1    0.1484375   0.2234375   \n",
              "12  000132c20b84269b  xclick  /m/0dzct          1     0.440625   0.5203125   \n",
              "13  000132c20b84269b  xclick  /m/0dzct          1    0.4453125   0.5109375   \n",
              "14  000132c20b84269b  xclick  /m/0dzct          1    0.5671875   0.6953125   \n",
              "15  000132c20b84269b  xclick  /m/0dzct          1    0.5859375    0.646875   \n",
              "16  000132c20b84269b  xclick  /m/0dzct          1      0.69375   0.8453125   \n",
              "17  000132c20b84269b  xclick  /m/0dzct          1    0.6984375   0.7796875   \n",
              "18  000132c20b84269b  xclick  /m/03q69          1    0.1359375     0.23125   \n",
              "19  000132c20b84269b  xclick  /m/03q69          1    0.4390625     0.51875   \n",
              "\n",
              "          YMin         YMax IsOccluded IsTruncated IsGroupOf IsDepiction  \\\n",
              "0      0.20625   0.39166668          0           1         1           0   \n",
              "1   0.26458332   0.43541667          0           1         1           0   \n",
              "2            0    0.5520833          0           1         1           0   \n",
              "3   0.15463917            1          0           0         0           0   \n",
              "4            0   0.88365245          1           1         0           0   \n",
              "5   0.32079646    0.6902655          0           1         0           0   \n",
              "6   0.29867256   0.46238938          1           0         0           0   \n",
              "7   0.23230088   0.48893806          1           0         0           0   \n",
              "8    0.3318584   0.65707964          0           1         0           0   \n",
              "9            0  0.044247787          0           1         1           0   \n",
              "10     0.26875   0.42083332          0           0         0           0   \n",
              "11  0.30208334   0.41041666          0           0         0           0   \n",
              "12  0.15833333          0.3          0           0         0           0   \n",
              "13  0.17083333   0.29583332          0           0         0           0   \n",
              "14  0.17083333   0.34583333          0           0         0           0   \n",
              "15  0.19791667      0.31875          0           0         0           0   \n",
              "16  0.26041666   0.43958333          0           0         0           0   \n",
              "17     0.28125   0.40833333          0           0         0           0   \n",
              "18  0.26666668   0.36458334          0           0         0           0   \n",
              "19  0.16041666   0.23541667          0           0         0           0   \n",
              "\n",
              "   IsInside  \n",
              "0         0  \n",
              "1         0  \n",
              "2         0  \n",
              "3         0  \n",
              "4         0  \n",
              "5         0  \n",
              "6         0  \n",
              "7         0  \n",
              "8         0  \n",
              "9         0  \n",
              "10        0  \n",
              "11        0  \n",
              "12        0  \n",
              "13        0  \n",
              "14        0  \n",
              "15        0  \n",
              "16        0  \n",
              "17        0  \n",
              "18        0  \n",
              "19        0  "
            ],
            "text/html": [
              "\n",
              "  <div id=\"df-e8ddcb7d-ee56-446f-9be8-7164ecfd4907\">\n",
              "    <div class=\"colab-df-container\">\n",
              "      <div>\n",
              "<style scoped>\n",
              "    .dataframe tbody tr th:only-of-type {\n",
              "        vertical-align: middle;\n",
              "    }\n",
              "\n",
              "    .dataframe tbody tr th {\n",
              "        vertical-align: top;\n",
              "    }\n",
              "\n",
              "    .dataframe thead th {\n",
              "        text-align: right;\n",
              "    }\n",
              "</style>\n",
              "<table border=\"1\" class=\"dataframe\">\n",
              "  <thead>\n",
              "    <tr style=\"text-align: right;\">\n",
              "      <th></th>\n",
              "      <th>ImageID</th>\n",
              "      <th>Source</th>\n",
              "      <th>LabelName</th>\n",
              "      <th>Confidence</th>\n",
              "      <th>XMin</th>\n",
              "      <th>XMax</th>\n",
              "      <th>YMin</th>\n",
              "      <th>YMax</th>\n",
              "      <th>IsOccluded</th>\n",
              "      <th>IsTruncated</th>\n",
              "      <th>IsGroupOf</th>\n",
              "      <th>IsDepiction</th>\n",
              "      <th>IsInside</th>\n",
              "    </tr>\n",
              "  </thead>\n",
              "  <tbody>\n",
              "    <tr>\n",
              "      <th>0</th>\n",
              "      <td>000026e7ee790996</td>\n",
              "      <td>xclick</td>\n",
              "      <td>/m/07j7r</td>\n",
              "      <td>1</td>\n",
              "      <td>0.071875</td>\n",
              "      <td>0.1453125</td>\n",
              "      <td>0.20625</td>\n",
              "      <td>0.39166668</td>\n",
              "      <td>0</td>\n",
              "      <td>1</td>\n",
              "      <td>1</td>\n",
              "      <td>0</td>\n",
              "      <td>0</td>\n",
              "    </tr>\n",
              "    <tr>\n",
              "      <th>1</th>\n",
              "      <td>000026e7ee790996</td>\n",
              "      <td>xclick</td>\n",
              "      <td>/m/07j7r</td>\n",
              "      <td>1</td>\n",
              "      <td>0.4390625</td>\n",
              "      <td>0.571875</td>\n",
              "      <td>0.26458332</td>\n",
              "      <td>0.43541667</td>\n",
              "      <td>0</td>\n",
              "      <td>1</td>\n",
              "      <td>1</td>\n",
              "      <td>0</td>\n",
              "      <td>0</td>\n",
              "    </tr>\n",
              "    <tr>\n",
              "      <th>2</th>\n",
              "      <td>000026e7ee790996</td>\n",
              "      <td>xclick</td>\n",
              "      <td>/m/07j7r</td>\n",
              "      <td>1</td>\n",
              "      <td>0.66875</td>\n",
              "      <td>1</td>\n",
              "      <td>0</td>\n",
              "      <td>0.5520833</td>\n",
              "      <td>0</td>\n",
              "      <td>1</td>\n",
              "      <td>1</td>\n",
              "      <td>0</td>\n",
              "      <td>0</td>\n",
              "    </tr>\n",
              "    <tr>\n",
              "      <th>3</th>\n",
              "      <td>000062a39995e348</td>\n",
              "      <td>xclick</td>\n",
              "      <td>/m/015p6</td>\n",
              "      <td>1</td>\n",
              "      <td>0.20620842</td>\n",
              "      <td>0.849224</td>\n",
              "      <td>0.15463917</td>\n",
              "      <td>1</td>\n",
              "      <td>0</td>\n",
              "      <td>0</td>\n",
              "      <td>0</td>\n",
              "      <td>0</td>\n",
              "      <td>0</td>\n",
              "    </tr>\n",
              "    <tr>\n",
              "      <th>4</th>\n",
              "      <td>000062a39995e348</td>\n",
              "      <td>xclick</td>\n",
              "      <td>/m/05s2s</td>\n",
              "      <td>1</td>\n",
              "      <td>0.13747229</td>\n",
              "      <td>0.37694013</td>\n",
              "      <td>0</td>\n",
              "      <td>0.88365245</td>\n",
              "      <td>1</td>\n",
              "      <td>1</td>\n",
              "      <td>0</td>\n",
              "      <td>0</td>\n",
              "      <td>0</td>\n",
              "    </tr>\n",
              "    <tr>\n",
              "      <th>5</th>\n",
              "      <td>0000c64e1253d68f</td>\n",
              "      <td>xclick</td>\n",
              "      <td>/m/0k4j</td>\n",
              "      <td>1</td>\n",
              "      <td>0</td>\n",
              "      <td>0.5132743</td>\n",
              "      <td>0.32079646</td>\n",
              "      <td>0.6902655</td>\n",
              "      <td>0</td>\n",
              "      <td>1</td>\n",
              "      <td>0</td>\n",
              "      <td>0</td>\n",
              "      <td>0</td>\n",
              "    </tr>\n",
              "    <tr>\n",
              "      <th>6</th>\n",
              "      <td>0000c64e1253d68f</td>\n",
              "      <td>xclick</td>\n",
              "      <td>/m/0k4j</td>\n",
              "      <td>1</td>\n",
              "      <td>0.016224189</td>\n",
              "      <td>0.26843658</td>\n",
              "      <td>0.29867256</td>\n",
              "      <td>0.46238938</td>\n",
              "      <td>1</td>\n",
              "      <td>0</td>\n",
              "      <td>0</td>\n",
              "      <td>0</td>\n",
              "      <td>0</td>\n",
              "    </tr>\n",
              "    <tr>\n",
              "      <th>7</th>\n",
              "      <td>0000c64e1253d68f</td>\n",
              "      <td>xclick</td>\n",
              "      <td>/m/0k4j</td>\n",
              "      <td>1</td>\n",
              "      <td>0.48082596</td>\n",
              "      <td>0.9041298</td>\n",
              "      <td>0.23230088</td>\n",
              "      <td>0.48893806</td>\n",
              "      <td>1</td>\n",
              "      <td>0</td>\n",
              "      <td>0</td>\n",
              "      <td>0</td>\n",
              "      <td>0</td>\n",
              "    </tr>\n",
              "    <tr>\n",
              "      <th>8</th>\n",
              "      <td>0000c64e1253d68f</td>\n",
              "      <td>xclick</td>\n",
              "      <td>/m/0k4j</td>\n",
              "      <td>1</td>\n",
              "      <td>0.7522124</td>\n",
              "      <td>1</td>\n",
              "      <td>0.3318584</td>\n",
              "      <td>0.65707964</td>\n",
              "      <td>0</td>\n",
              "      <td>1</td>\n",
              "      <td>0</td>\n",
              "      <td>0</td>\n",
              "      <td>0</td>\n",
              "    </tr>\n",
              "    <tr>\n",
              "      <th>9</th>\n",
              "      <td>0000c64e1253d68f</td>\n",
              "      <td>xclick</td>\n",
              "      <td>/m/07yv9</td>\n",
              "      <td>1</td>\n",
              "      <td>0</td>\n",
              "      <td>0.9734513</td>\n",
              "      <td>0</td>\n",
              "      <td>0.044247787</td>\n",
              "      <td>0</td>\n",
              "      <td>1</td>\n",
              "      <td>1</td>\n",
              "      <td>0</td>\n",
              "      <td>0</td>\n",
              "    </tr>\n",
              "    <tr>\n",
              "      <th>10</th>\n",
              "      <td>000132c20b84269b</td>\n",
              "      <td>xclick</td>\n",
              "      <td>/m/0dzct</td>\n",
              "      <td>1</td>\n",
              "      <td>0.140625</td>\n",
              "      <td>0.225</td>\n",
              "      <td>0.26875</td>\n",
              "      <td>0.42083332</td>\n",
              "      <td>0</td>\n",
              "      <td>0</td>\n",
              "      <td>0</td>\n",
              "      <td>0</td>\n",
              "      <td>0</td>\n",
              "    </tr>\n",
              "    <tr>\n",
              "      <th>11</th>\n",
              "      <td>000132c20b84269b</td>\n",
              "      <td>xclick</td>\n",
              "      <td>/m/0dzct</td>\n",
              "      <td>1</td>\n",
              "      <td>0.1484375</td>\n",
              "      <td>0.2234375</td>\n",
              "      <td>0.30208334</td>\n",
              "      <td>0.41041666</td>\n",
              "      <td>0</td>\n",
              "      <td>0</td>\n",
              "      <td>0</td>\n",
              "      <td>0</td>\n",
              "      <td>0</td>\n",
              "    </tr>\n",
              "    <tr>\n",
              "      <th>12</th>\n",
              "      <td>000132c20b84269b</td>\n",
              "      <td>xclick</td>\n",
              "      <td>/m/0dzct</td>\n",
              "      <td>1</td>\n",
              "      <td>0.440625</td>\n",
              "      <td>0.5203125</td>\n",
              "      <td>0.15833333</td>\n",
              "      <td>0.3</td>\n",
              "      <td>0</td>\n",
              "      <td>0</td>\n",
              "      <td>0</td>\n",
              "      <td>0</td>\n",
              "      <td>0</td>\n",
              "    </tr>\n",
              "    <tr>\n",
              "      <th>13</th>\n",
              "      <td>000132c20b84269b</td>\n",
              "      <td>xclick</td>\n",
              "      <td>/m/0dzct</td>\n",
              "      <td>1</td>\n",
              "      <td>0.4453125</td>\n",
              "      <td>0.5109375</td>\n",
              "      <td>0.17083333</td>\n",
              "      <td>0.29583332</td>\n",
              "      <td>0</td>\n",
              "      <td>0</td>\n",
              "      <td>0</td>\n",
              "      <td>0</td>\n",
              "      <td>0</td>\n",
              "    </tr>\n",
              "    <tr>\n",
              "      <th>14</th>\n",
              "      <td>000132c20b84269b</td>\n",
              "      <td>xclick</td>\n",
              "      <td>/m/0dzct</td>\n",
              "      <td>1</td>\n",
              "      <td>0.5671875</td>\n",
              "      <td>0.6953125</td>\n",
              "      <td>0.17083333</td>\n",
              "      <td>0.34583333</td>\n",
              "      <td>0</td>\n",
              "      <td>0</td>\n",
              "      <td>0</td>\n",
              "      <td>0</td>\n",
              "      <td>0</td>\n",
              "    </tr>\n",
              "    <tr>\n",
              "      <th>15</th>\n",
              "      <td>000132c20b84269b</td>\n",
              "      <td>xclick</td>\n",
              "      <td>/m/0dzct</td>\n",
              "      <td>1</td>\n",
              "      <td>0.5859375</td>\n",
              "      <td>0.646875</td>\n",
              "      <td>0.19791667</td>\n",
              "      <td>0.31875</td>\n",
              "      <td>0</td>\n",
              "      <td>0</td>\n",
              "      <td>0</td>\n",
              "      <td>0</td>\n",
              "      <td>0</td>\n",
              "    </tr>\n",
              "    <tr>\n",
              "      <th>16</th>\n",
              "      <td>000132c20b84269b</td>\n",
              "      <td>xclick</td>\n",
              "      <td>/m/0dzct</td>\n",
              "      <td>1</td>\n",
              "      <td>0.69375</td>\n",
              "      <td>0.8453125</td>\n",
              "      <td>0.26041666</td>\n",
              "      <td>0.43958333</td>\n",
              "      <td>0</td>\n",
              "      <td>0</td>\n",
              "      <td>0</td>\n",
              "      <td>0</td>\n",
              "      <td>0</td>\n",
              "    </tr>\n",
              "    <tr>\n",
              "      <th>17</th>\n",
              "      <td>000132c20b84269b</td>\n",
              "      <td>xclick</td>\n",
              "      <td>/m/0dzct</td>\n",
              "      <td>1</td>\n",
              "      <td>0.6984375</td>\n",
              "      <td>0.7796875</td>\n",
              "      <td>0.28125</td>\n",
              "      <td>0.40833333</td>\n",
              "      <td>0</td>\n",
              "      <td>0</td>\n",
              "      <td>0</td>\n",
              "      <td>0</td>\n",
              "      <td>0</td>\n",
              "    </tr>\n",
              "    <tr>\n",
              "      <th>18</th>\n",
              "      <td>000132c20b84269b</td>\n",
              "      <td>xclick</td>\n",
              "      <td>/m/03q69</td>\n",
              "      <td>1</td>\n",
              "      <td>0.1359375</td>\n",
              "      <td>0.23125</td>\n",
              "      <td>0.26666668</td>\n",
              "      <td>0.36458334</td>\n",
              "      <td>0</td>\n",
              "      <td>0</td>\n",
              "      <td>0</td>\n",
              "      <td>0</td>\n",
              "      <td>0</td>\n",
              "    </tr>\n",
              "    <tr>\n",
              "      <th>19</th>\n",
              "      <td>000132c20b84269b</td>\n",
              "      <td>xclick</td>\n",
              "      <td>/m/03q69</td>\n",
              "      <td>1</td>\n",
              "      <td>0.4390625</td>\n",
              "      <td>0.51875</td>\n",
              "      <td>0.16041666</td>\n",
              "      <td>0.23541667</td>\n",
              "      <td>0</td>\n",
              "      <td>0</td>\n",
              "      <td>0</td>\n",
              "      <td>0</td>\n",
              "      <td>0</td>\n",
              "    </tr>\n",
              "  </tbody>\n",
              "</table>\n",
              "</div>\n",
              "      <button class=\"colab-df-convert\" onclick=\"convertToInteractive('df-e8ddcb7d-ee56-446f-9be8-7164ecfd4907')\"\n",
              "              title=\"Convert this dataframe to an interactive table.\"\n",
              "              style=\"display:none;\">\n",
              "        \n",
              "  <svg xmlns=\"http://www.w3.org/2000/svg\" height=\"24px\"viewBox=\"0 0 24 24\"\n",
              "       width=\"24px\">\n",
              "    <path d=\"M0 0h24v24H0V0z\" fill=\"none\"/>\n",
              "    <path d=\"M18.56 5.44l.94 2.06.94-2.06 2.06-.94-2.06-.94-.94-2.06-.94 2.06-2.06.94zm-11 1L8.5 8.5l.94-2.06 2.06-.94-2.06-.94L8.5 2.5l-.94 2.06-2.06.94zm10 10l.94 2.06.94-2.06 2.06-.94-2.06-.94-.94-2.06-.94 2.06-2.06.94z\"/><path d=\"M17.41 7.96l-1.37-1.37c-.4-.4-.92-.59-1.43-.59-.52 0-1.04.2-1.43.59L10.3 9.45l-7.72 7.72c-.78.78-.78 2.05 0 2.83L4 21.41c.39.39.9.59 1.41.59.51 0 1.02-.2 1.41-.59l7.78-7.78 2.81-2.81c.8-.78.8-2.07 0-2.86zM5.41 20L4 18.59l7.72-7.72 1.47 1.35L5.41 20z\"/>\n",
              "  </svg>\n",
              "      </button>\n",
              "      \n",
              "  <style>\n",
              "    .colab-df-container {\n",
              "      display:flex;\n",
              "      flex-wrap:wrap;\n",
              "      gap: 12px;\n",
              "    }\n",
              "\n",
              "    .colab-df-convert {\n",
              "      background-color: #E8F0FE;\n",
              "      border: none;\n",
              "      border-radius: 50%;\n",
              "      cursor: pointer;\n",
              "      display: none;\n",
              "      fill: #1967D2;\n",
              "      height: 32px;\n",
              "      padding: 0 0 0 0;\n",
              "      width: 32px;\n",
              "    }\n",
              "\n",
              "    .colab-df-convert:hover {\n",
              "      background-color: #E2EBFA;\n",
              "      box-shadow: 0px 1px 2px rgba(60, 64, 67, 0.3), 0px 1px 3px 1px rgba(60, 64, 67, 0.15);\n",
              "      fill: #174EA6;\n",
              "    }\n",
              "\n",
              "    [theme=dark] .colab-df-convert {\n",
              "      background-color: #3B4455;\n",
              "      fill: #D2E3FC;\n",
              "    }\n",
              "\n",
              "    [theme=dark] .colab-df-convert:hover {\n",
              "      background-color: #434B5C;\n",
              "      box-shadow: 0px 1px 3px 1px rgba(0, 0, 0, 0.15);\n",
              "      filter: drop-shadow(0px 1px 2px rgba(0, 0, 0, 0.3));\n",
              "      fill: #FFFFFF;\n",
              "    }\n",
              "  </style>\n",
              "\n",
              "      <script>\n",
              "        const buttonEl =\n",
              "          document.querySelector('#df-e8ddcb7d-ee56-446f-9be8-7164ecfd4907 button.colab-df-convert');\n",
              "        buttonEl.style.display =\n",
              "          google.colab.kernel.accessAllowed ? 'block' : 'none';\n",
              "\n",
              "        async function convertToInteractive(key) {\n",
              "          const element = document.querySelector('#df-e8ddcb7d-ee56-446f-9be8-7164ecfd4907');\n",
              "          const dataTable =\n",
              "            await google.colab.kernel.invokeFunction('convertToInteractive',\n",
              "                                                     [key], {});\n",
              "          if (!dataTable) return;\n",
              "\n",
              "          const docLinkHtml = 'Like what you see? Visit the ' +\n",
              "            '<a target=\"_blank\" href=https://colab.research.google.com/notebooks/data_table.ipynb>data table notebook</a>'\n",
              "            + ' to learn more about interactive tables.';\n",
              "          element.innerHTML = '';\n",
              "          dataTable['output_type'] = 'display_data';\n",
              "          await google.colab.output.renderOutput(dataTable, element);\n",
              "          const docLink = document.createElement('div');\n",
              "          docLink.innerHTML = docLinkHtml;\n",
              "          element.appendChild(docLink);\n",
              "        }\n",
              "      </script>\n",
              "    </div>\n",
              "  </div>\n",
              "  "
            ]
          },
          "metadata": {},
          "execution_count": 27
        }
      ]
    },
    {
      "cell_type": "code",
      "source": [
        "# bounding_boxes.sort(bounding_boxes.XMin.desc()).collect()\n",
        "# bounding_boxes.sort(\"XMin\", ascending=False).collect()"
      ],
      "metadata": {
        "id": "TW_A9Tq2rU60"
      },
      "execution_count": 28,
      "outputs": []
    },
    {
      "cell_type": "code",
      "source": [
        "bounding_boxes.printSchema()"
      ],
      "metadata": {
        "colab": {
          "base_uri": "https://localhost:8080/"
        },
        "id": "2CWxFs1ms6Yq",
        "outputId": "5bff2218-dbf2-408a-9a37-85f3521d3687"
      },
      "execution_count": 29,
      "outputs": [
        {
          "output_type": "stream",
          "name": "stdout",
          "text": [
            "root\n",
            " |-- ImageID: string (nullable = true)\n",
            " |-- Source: string (nullable = true)\n",
            " |-- LabelName: string (nullable = true)\n",
            " |-- Confidence: string (nullable = true)\n",
            " |-- XMin: string (nullable = true)\n",
            " |-- XMax: string (nullable = true)\n",
            " |-- YMin: string (nullable = true)\n",
            " |-- YMax: string (nullable = true)\n",
            " |-- IsOccluded: string (nullable = true)\n",
            " |-- IsTruncated: string (nullable = true)\n",
            " |-- IsGroupOf: string (nullable = true)\n",
            " |-- IsDepiction: string (nullable = true)\n",
            " |-- IsInside: string (nullable = true)\n",
            "\n"
          ]
        }
      ]
    },
    {
      "cell_type": "code",
      "source": [
        "type(bounding_boxes)"
      ],
      "metadata": {
        "colab": {
          "base_uri": "https://localhost:8080/"
        },
        "id": "-CLTAa_gwhJS",
        "outputId": "83f39fbb-fdba-4675-fc11-e6ccf8f12c1f"
      },
      "execution_count": 30,
      "outputs": [
        {
          "output_type": "execute_result",
          "data": {
            "text/plain": [
              "pyspark.sql.dataframe.DataFrame"
            ]
          },
          "metadata": {},
          "execution_count": 30
        }
      ]
    },
    {
      "cell_type": "code",
      "source": [
        "from pyspark.sql.types import DoubleType\n",
        "\n",
        "bounding_boxes = bounding_boxes.withColumn(\"XMin\", bounding_boxes['XMin'].cast(DoubleType()))\n",
        "bounding_boxes = bounding_boxes.withColumn(\"XMax\", bounding_boxes['XMax'].cast(DoubleType()))\n",
        "bounding_boxes = bounding_boxes.withColumn(\"YMin\", bounding_boxes['YMin'].cast(DoubleType()))\n",
        "bounding_boxes = bounding_boxes.withColumn(\"YMax\", bounding_boxes['YMax'].cast(DoubleType()))\n",
        "bounding_boxes = bounding_boxes.withColumn(\"Confidence\", bounding_boxes['Confidence'].cast(DoubleType()))"
      ],
      "metadata": {
        "id": "D7y9edJjx3N1"
      },
      "execution_count": 31,
      "outputs": []
    },
    {
      "cell_type": "code",
      "source": [
        "bounding_boxes.printSchema()"
      ],
      "metadata": {
        "colab": {
          "base_uri": "https://localhost:8080/"
        },
        "id": "WcQsifEYyAA0",
        "outputId": "57400515-14e6-4625-9c64-ed12f77f40f5"
      },
      "execution_count": 32,
      "outputs": [
        {
          "output_type": "stream",
          "name": "stdout",
          "text": [
            "root\n",
            " |-- ImageID: string (nullable = true)\n",
            " |-- Source: string (nullable = true)\n",
            " |-- LabelName: string (nullable = true)\n",
            " |-- Confidence: double (nullable = true)\n",
            " |-- XMin: double (nullable = true)\n",
            " |-- XMax: double (nullable = true)\n",
            " |-- YMin: double (nullable = true)\n",
            " |-- YMax: double (nullable = true)\n",
            " |-- IsOccluded: string (nullable = true)\n",
            " |-- IsTruncated: string (nullable = true)\n",
            " |-- IsGroupOf: string (nullable = true)\n",
            " |-- IsDepiction: string (nullable = true)\n",
            " |-- IsInside: string (nullable = true)\n",
            "\n"
          ]
        }
      ]
    },
    {
      "cell_type": "code",
      "source": [
        "sorteddf = bounding_boxes.sort(\"XMin\", ascending=False).show()"
      ],
      "metadata": {
        "colab": {
          "base_uri": "https://localhost:8080/"
        },
        "id": "wveQHnI3yuQ1",
        "outputId": "54f72e4e-f2dd-418d-cd15-5493bd2680fc"
      },
      "execution_count": 33,
      "outputs": [
        {
          "output_type": "stream",
          "name": "stdout",
          "text": [
            "+----------------+------+----------+----------+--------+----+--------+--------+----------+-----------+---------+-----------+--------+\n",
            "|         ImageID|Source| LabelName|Confidence|    XMin|XMax|    YMin|    YMax|IsOccluded|IsTruncated|IsGroupOf|IsDepiction|IsInside|\n",
            "+----------------+------+----------+----------+--------+----+--------+--------+----------+-----------+---------+-----------+--------+\n",
            "|df28cb59b47aa0c0|xclick|  /m/07j7r|       1.0|0.999375| 1.0|     0.0|0.255159|         0|          1|        0|          0|       0|\n",
            "|7b0eafddaeb725cc|xclick|/m/04dr76w|       1.0|0.999375| 1.0|  0.2625|  0.2825|         0|          0|        0|          0|       0|\n",
            "|a49c40de46f0f01a|xclick|  /m/05s2s|       1.0|0.999375| 1.0|0.670759|0.698661|         0|          0|        0|          0|       0|\n",
            "|9618684128b830c7|xclick|  /m/083wq|       1.0|0.999375| 1.0|0.247191|0.261236|         1|          0|        0|          0|       0|\n",
            "|fab15cce08eec8e4|xclick|  /m/07j7r|       1.0|0.999375| 1.0|0.549834|0.999169|         1|          0|        0|          0|       0|\n",
            "|fa07d530f52bae24|xclick|  /m/079cl|       1.0|0.999375| 1.0|   0.345|    0.74|         0|          0|        0|          0|       0|\n",
            "|4f5621cc67c13ce6|xclick|  /m/09j2d|       1.0|0.999375| 1.0|0.500942|0.702448|         1|          0|        0|          0|       0|\n",
            "|50241898b7164012|xclick|  /m/07j7r|       1.0|0.999375| 1.0|0.510748|0.760963|         1|          0|        0|          0|       0|\n",
            "|88ea8deb07853f76|xclick|  /m/07j7r|       1.0|0.999375| 1.0|0.056667|0.430833|         1|          1|        1|          0|       0|\n",
            "|398f175cb4f61543|xclick|  /m/09j5n|       1.0|0.999375| 1.0|0.641917|0.662594|         0|          1|        0|          0|       0|\n",
            "|0901d293ba2c9106|xclick|  /m/0d4v4|       1.0|0.999375| 1.0|0.467521|0.560684|         0|          0|        0|          0|       0|\n",
            "|6ab280d25de831ad|xclick| /m/04bcr3|       1.0|0.999375| 1.0|0.753283|0.991557|         1|          1|        0|          0|       0|\n",
            "|86a3865f4975e163|xclick|  /m/07j7r|       1.0|0.999375| 1.0|0.999167|     1.0|         0|          0|        0|          0|       0|\n",
            "|74eac9b39ab1d708|xclick|  /m/05s2s|       1.0|0.999375| 1.0|0.589167|0.603333|         1|          1|        0|          0|       0|\n",
            "|4025fc558f8ba0b0|xclick| /m/08dz3q|       1.0|0.999375| 1.0|0.469541|0.999063|         0|          0|        0|          0|       0|\n",
            "|cf06075f20f2df36|xclick|  /m/0dzf4|       1.0|0.999375| 1.0|0.367778|0.437778|         1|          0|        0|          0|       0|\n",
            "|ec04c57bf08e4813|xclick|  /m/0cgh4|       1.0|0.999375| 1.0|     0.0|0.957494|         1|          1|        1|          0|       0|\n",
            "|fb791667e5b7e38f|xclick|  /m/07j7r|       1.0|0.999295| 1.0|  0.3625|0.999375|         1|          1|        1|          0|       0|\n",
            "|e67f47df555592e4|xclick|  /m/083wq|       1.0|0.999219| 1.0|0.716667|0.755208|         0|          0|        0|          0|       0|\n",
            "|e5353176f389d321|xclick| /m/0c9ph5|       1.0|0.999132| 1.0|0.486111|0.513889|         1|          0|        0|          0|       0|\n",
            "+----------------+------+----------+----------+--------+----+--------+--------+----------+-----------+---------+-----------+--------+\n",
            "only showing top 20 rows\n",
            "\n"
          ]
        }
      ]
    },
    {
      "cell_type": "code",
      "source": [
        "sorteddf = bounding_boxes.sort(\"XMin\", ascending=False)"
      ],
      "metadata": {
        "id": "1Y_RXz5vy0Tl"
      },
      "execution_count": 34,
      "outputs": []
    },
    {
      "cell_type": "code",
      "source": [
        "sorteddf.show(5)"
      ],
      "metadata": {
        "colab": {
          "base_uri": "https://localhost:8080/"
        },
        "id": "8DTHn2cR2WMu",
        "outputId": "1580c0b0-943c-4063-b49e-10a923307d9d"
      },
      "execution_count": 35,
      "outputs": [
        {
          "output_type": "stream",
          "name": "stdout",
          "text": [
            "+----------------+------+---------+----------+--------+----+--------+--------+----------+-----------+---------+-----------+--------+\n",
            "|         ImageID|Source|LabelName|Confidence|    XMin|XMax|    YMin|    YMax|IsOccluded|IsTruncated|IsGroupOf|IsDepiction|IsInside|\n",
            "+----------------+------+---------+----------+--------+----+--------+--------+----------+-----------+---------+-----------+--------+\n",
            "|50241898b7164012|xclick| /m/07j7r|       1.0|0.999375| 1.0|0.510748|0.760963|         1|          0|        0|          0|       0|\n",
            "|4025fc558f8ba0b0|xclick|/m/08dz3q|       1.0|0.999375| 1.0|0.469541|0.999063|         0|          0|        0|          0|       0|\n",
            "|398f175cb4f61543|xclick| /m/09j5n|       1.0|0.999375| 1.0|0.641917|0.662594|         0|          1|        0|          0|       0|\n",
            "|4f5621cc67c13ce6|xclick| /m/09j2d|       1.0|0.999375| 1.0|0.500942|0.702448|         1|          0|        0|          0|       0|\n",
            "|0901d293ba2c9106|xclick| /m/0d4v4|       1.0|0.999375| 1.0|0.467521|0.560684|         0|          0|        0|          0|       0|\n",
            "+----------------+------+---------+----------+--------+----+--------+--------+----------+-----------+---------+-----------+--------+\n",
            "only showing top 5 rows\n",
            "\n"
          ]
        }
      ]
    },
    {
      "cell_type": "code",
      "source": [
        "pdf = sorteddf.limit(20).toPandas()\n",
        "type(pdf)"
      ],
      "metadata": {
        "colab": {
          "base_uri": "https://localhost:8080/"
        },
        "id": "wKjyT5S4257_",
        "outputId": "c9fbf2b5-e512-421a-935c-8647c5dcb190"
      },
      "execution_count": 36,
      "outputs": [
        {
          "output_type": "execute_result",
          "data": {
            "text/plain": [
              "pandas.core.frame.DataFrame"
            ]
          },
          "metadata": {},
          "execution_count": 36
        }
      ]
    },
    {
      "cell_type": "code",
      "source": [
        "pdf"
      ],
      "metadata": {
        "colab": {
          "base_uri": "https://localhost:8080/",
          "height": 677
        },
        "id": "XZm_7u1k31tK",
        "outputId": "99e2e5bc-8a58-4f89-f66e-e48a54514dad"
      },
      "execution_count": 37,
      "outputs": [
        {
          "output_type": "execute_result",
          "data": {
            "text/plain": [
              "             ImageID  Source   LabelName  Confidence      XMin  XMax  \\\n",
              "0   fab15cce08eec8e4  xclick    /m/07j7r         1.0  0.999375   1.0   \n",
              "1   9618684128b830c7  xclick    /m/083wq         1.0  0.999375   1.0   \n",
              "2   cf06075f20f2df36  xclick    /m/0dzf4         1.0  0.999375   1.0   \n",
              "3   74eac9b39ab1d708  xclick    /m/05s2s         1.0  0.999375   1.0   \n",
              "4   df28cb59b47aa0c0  xclick    /m/07j7r         1.0  0.999375   1.0   \n",
              "5   a49c40de46f0f01a  xclick    /m/05s2s         1.0  0.999375   1.0   \n",
              "6   fa07d530f52bae24  xclick    /m/079cl         1.0  0.999375   1.0   \n",
              "7   398f175cb4f61543  xclick    /m/09j5n         1.0  0.999375   1.0   \n",
              "8   50241898b7164012  xclick    /m/07j7r         1.0  0.999375   1.0   \n",
              "9   4f5621cc67c13ce6  xclick    /m/09j2d         1.0  0.999375   1.0   \n",
              "10  4025fc558f8ba0b0  xclick   /m/08dz3q         1.0  0.999375   1.0   \n",
              "11  86a3865f4975e163  xclick    /m/07j7r         1.0  0.999375   1.0   \n",
              "12  6ab280d25de831ad  xclick   /m/04bcr3         1.0  0.999375   1.0   \n",
              "13  7b0eafddaeb725cc  xclick  /m/04dr76w         1.0  0.999375   1.0   \n",
              "14  0901d293ba2c9106  xclick    /m/0d4v4         1.0  0.999375   1.0   \n",
              "15  88ea8deb07853f76  xclick    /m/07j7r         1.0  0.999375   1.0   \n",
              "16  ec04c57bf08e4813  xclick    /m/0cgh4         1.0  0.999375   1.0   \n",
              "17  fb791667e5b7e38f  xclick    /m/07j7r         1.0  0.999295   1.0   \n",
              "18  e67f47df555592e4  xclick    /m/083wq         1.0  0.999219   1.0   \n",
              "19  e5353176f389d321  xclick   /m/0c9ph5         1.0  0.999132   1.0   \n",
              "\n",
              "        YMin      YMax IsOccluded IsTruncated IsGroupOf IsDepiction IsInside  \n",
              "0   0.549834  0.999169          1           0         0           0        0  \n",
              "1   0.247191  0.261236          1           0         0           0        0  \n",
              "2   0.367778  0.437778          1           0         0           0        0  \n",
              "3   0.589167  0.603333          1           1         0           0        0  \n",
              "4   0.000000  0.255159          0           1         0           0        0  \n",
              "5   0.670759  0.698661          0           0         0           0        0  \n",
              "6   0.345000  0.740000          0           0         0           0        0  \n",
              "7   0.641917  0.662594          0           1         0           0        0  \n",
              "8   0.510748  0.760963          1           0         0           0        0  \n",
              "9   0.500942  0.702448          1           0         0           0        0  \n",
              "10  0.469541  0.999063          0           0         0           0        0  \n",
              "11  0.999167  1.000000          0           0         0           0        0  \n",
              "12  0.753283  0.991557          1           1         0           0        0  \n",
              "13  0.262500  0.282500          0           0         0           0        0  \n",
              "14  0.467521  0.560684          0           0         0           0        0  \n",
              "15  0.056667  0.430833          1           1         1           0        0  \n",
              "16  0.000000  0.957494          1           1         1           0        0  \n",
              "17  0.362500  0.999375          1           1         1           0        0  \n",
              "18  0.716667  0.755208          0           0         0           0        0  \n",
              "19  0.486111  0.513889          1           0         0           0        0  "
            ],
            "text/html": [
              "\n",
              "  <div id=\"df-12d07151-5e12-47d5-91f8-61aef607a17a\">\n",
              "    <div class=\"colab-df-container\">\n",
              "      <div>\n",
              "<style scoped>\n",
              "    .dataframe tbody tr th:only-of-type {\n",
              "        vertical-align: middle;\n",
              "    }\n",
              "\n",
              "    .dataframe tbody tr th {\n",
              "        vertical-align: top;\n",
              "    }\n",
              "\n",
              "    .dataframe thead th {\n",
              "        text-align: right;\n",
              "    }\n",
              "</style>\n",
              "<table border=\"1\" class=\"dataframe\">\n",
              "  <thead>\n",
              "    <tr style=\"text-align: right;\">\n",
              "      <th></th>\n",
              "      <th>ImageID</th>\n",
              "      <th>Source</th>\n",
              "      <th>LabelName</th>\n",
              "      <th>Confidence</th>\n",
              "      <th>XMin</th>\n",
              "      <th>XMax</th>\n",
              "      <th>YMin</th>\n",
              "      <th>YMax</th>\n",
              "      <th>IsOccluded</th>\n",
              "      <th>IsTruncated</th>\n",
              "      <th>IsGroupOf</th>\n",
              "      <th>IsDepiction</th>\n",
              "      <th>IsInside</th>\n",
              "    </tr>\n",
              "  </thead>\n",
              "  <tbody>\n",
              "    <tr>\n",
              "      <th>0</th>\n",
              "      <td>fab15cce08eec8e4</td>\n",
              "      <td>xclick</td>\n",
              "      <td>/m/07j7r</td>\n",
              "      <td>1.0</td>\n",
              "      <td>0.999375</td>\n",
              "      <td>1.0</td>\n",
              "      <td>0.549834</td>\n",
              "      <td>0.999169</td>\n",
              "      <td>1</td>\n",
              "      <td>0</td>\n",
              "      <td>0</td>\n",
              "      <td>0</td>\n",
              "      <td>0</td>\n",
              "    </tr>\n",
              "    <tr>\n",
              "      <th>1</th>\n",
              "      <td>9618684128b830c7</td>\n",
              "      <td>xclick</td>\n",
              "      <td>/m/083wq</td>\n",
              "      <td>1.0</td>\n",
              "      <td>0.999375</td>\n",
              "      <td>1.0</td>\n",
              "      <td>0.247191</td>\n",
              "      <td>0.261236</td>\n",
              "      <td>1</td>\n",
              "      <td>0</td>\n",
              "      <td>0</td>\n",
              "      <td>0</td>\n",
              "      <td>0</td>\n",
              "    </tr>\n",
              "    <tr>\n",
              "      <th>2</th>\n",
              "      <td>cf06075f20f2df36</td>\n",
              "      <td>xclick</td>\n",
              "      <td>/m/0dzf4</td>\n",
              "      <td>1.0</td>\n",
              "      <td>0.999375</td>\n",
              "      <td>1.0</td>\n",
              "      <td>0.367778</td>\n",
              "      <td>0.437778</td>\n",
              "      <td>1</td>\n",
              "      <td>0</td>\n",
              "      <td>0</td>\n",
              "      <td>0</td>\n",
              "      <td>0</td>\n",
              "    </tr>\n",
              "    <tr>\n",
              "      <th>3</th>\n",
              "      <td>74eac9b39ab1d708</td>\n",
              "      <td>xclick</td>\n",
              "      <td>/m/05s2s</td>\n",
              "      <td>1.0</td>\n",
              "      <td>0.999375</td>\n",
              "      <td>1.0</td>\n",
              "      <td>0.589167</td>\n",
              "      <td>0.603333</td>\n",
              "      <td>1</td>\n",
              "      <td>1</td>\n",
              "      <td>0</td>\n",
              "      <td>0</td>\n",
              "      <td>0</td>\n",
              "    </tr>\n",
              "    <tr>\n",
              "      <th>4</th>\n",
              "      <td>df28cb59b47aa0c0</td>\n",
              "      <td>xclick</td>\n",
              "      <td>/m/07j7r</td>\n",
              "      <td>1.0</td>\n",
              "      <td>0.999375</td>\n",
              "      <td>1.0</td>\n",
              "      <td>0.000000</td>\n",
              "      <td>0.255159</td>\n",
              "      <td>0</td>\n",
              "      <td>1</td>\n",
              "      <td>0</td>\n",
              "      <td>0</td>\n",
              "      <td>0</td>\n",
              "    </tr>\n",
              "    <tr>\n",
              "      <th>5</th>\n",
              "      <td>a49c40de46f0f01a</td>\n",
              "      <td>xclick</td>\n",
              "      <td>/m/05s2s</td>\n",
              "      <td>1.0</td>\n",
              "      <td>0.999375</td>\n",
              "      <td>1.0</td>\n",
              "      <td>0.670759</td>\n",
              "      <td>0.698661</td>\n",
              "      <td>0</td>\n",
              "      <td>0</td>\n",
              "      <td>0</td>\n",
              "      <td>0</td>\n",
              "      <td>0</td>\n",
              "    </tr>\n",
              "    <tr>\n",
              "      <th>6</th>\n",
              "      <td>fa07d530f52bae24</td>\n",
              "      <td>xclick</td>\n",
              "      <td>/m/079cl</td>\n",
              "      <td>1.0</td>\n",
              "      <td>0.999375</td>\n",
              "      <td>1.0</td>\n",
              "      <td>0.345000</td>\n",
              "      <td>0.740000</td>\n",
              "      <td>0</td>\n",
              "      <td>0</td>\n",
              "      <td>0</td>\n",
              "      <td>0</td>\n",
              "      <td>0</td>\n",
              "    </tr>\n",
              "    <tr>\n",
              "      <th>7</th>\n",
              "      <td>398f175cb4f61543</td>\n",
              "      <td>xclick</td>\n",
              "      <td>/m/09j5n</td>\n",
              "      <td>1.0</td>\n",
              "      <td>0.999375</td>\n",
              "      <td>1.0</td>\n",
              "      <td>0.641917</td>\n",
              "      <td>0.662594</td>\n",
              "      <td>0</td>\n",
              "      <td>1</td>\n",
              "      <td>0</td>\n",
              "      <td>0</td>\n",
              "      <td>0</td>\n",
              "    </tr>\n",
              "    <tr>\n",
              "      <th>8</th>\n",
              "      <td>50241898b7164012</td>\n",
              "      <td>xclick</td>\n",
              "      <td>/m/07j7r</td>\n",
              "      <td>1.0</td>\n",
              "      <td>0.999375</td>\n",
              "      <td>1.0</td>\n",
              "      <td>0.510748</td>\n",
              "      <td>0.760963</td>\n",
              "      <td>1</td>\n",
              "      <td>0</td>\n",
              "      <td>0</td>\n",
              "      <td>0</td>\n",
              "      <td>0</td>\n",
              "    </tr>\n",
              "    <tr>\n",
              "      <th>9</th>\n",
              "      <td>4f5621cc67c13ce6</td>\n",
              "      <td>xclick</td>\n",
              "      <td>/m/09j2d</td>\n",
              "      <td>1.0</td>\n",
              "      <td>0.999375</td>\n",
              "      <td>1.0</td>\n",
              "      <td>0.500942</td>\n",
              "      <td>0.702448</td>\n",
              "      <td>1</td>\n",
              "      <td>0</td>\n",
              "      <td>0</td>\n",
              "      <td>0</td>\n",
              "      <td>0</td>\n",
              "    </tr>\n",
              "    <tr>\n",
              "      <th>10</th>\n",
              "      <td>4025fc558f8ba0b0</td>\n",
              "      <td>xclick</td>\n",
              "      <td>/m/08dz3q</td>\n",
              "      <td>1.0</td>\n",
              "      <td>0.999375</td>\n",
              "      <td>1.0</td>\n",
              "      <td>0.469541</td>\n",
              "      <td>0.999063</td>\n",
              "      <td>0</td>\n",
              "      <td>0</td>\n",
              "      <td>0</td>\n",
              "      <td>0</td>\n",
              "      <td>0</td>\n",
              "    </tr>\n",
              "    <tr>\n",
              "      <th>11</th>\n",
              "      <td>86a3865f4975e163</td>\n",
              "      <td>xclick</td>\n",
              "      <td>/m/07j7r</td>\n",
              "      <td>1.0</td>\n",
              "      <td>0.999375</td>\n",
              "      <td>1.0</td>\n",
              "      <td>0.999167</td>\n",
              "      <td>1.000000</td>\n",
              "      <td>0</td>\n",
              "      <td>0</td>\n",
              "      <td>0</td>\n",
              "      <td>0</td>\n",
              "      <td>0</td>\n",
              "    </tr>\n",
              "    <tr>\n",
              "      <th>12</th>\n",
              "      <td>6ab280d25de831ad</td>\n",
              "      <td>xclick</td>\n",
              "      <td>/m/04bcr3</td>\n",
              "      <td>1.0</td>\n",
              "      <td>0.999375</td>\n",
              "      <td>1.0</td>\n",
              "      <td>0.753283</td>\n",
              "      <td>0.991557</td>\n",
              "      <td>1</td>\n",
              "      <td>1</td>\n",
              "      <td>0</td>\n",
              "      <td>0</td>\n",
              "      <td>0</td>\n",
              "    </tr>\n",
              "    <tr>\n",
              "      <th>13</th>\n",
              "      <td>7b0eafddaeb725cc</td>\n",
              "      <td>xclick</td>\n",
              "      <td>/m/04dr76w</td>\n",
              "      <td>1.0</td>\n",
              "      <td>0.999375</td>\n",
              "      <td>1.0</td>\n",
              "      <td>0.262500</td>\n",
              "      <td>0.282500</td>\n",
              "      <td>0</td>\n",
              "      <td>0</td>\n",
              "      <td>0</td>\n",
              "      <td>0</td>\n",
              "      <td>0</td>\n",
              "    </tr>\n",
              "    <tr>\n",
              "      <th>14</th>\n",
              "      <td>0901d293ba2c9106</td>\n",
              "      <td>xclick</td>\n",
              "      <td>/m/0d4v4</td>\n",
              "      <td>1.0</td>\n",
              "      <td>0.999375</td>\n",
              "      <td>1.0</td>\n",
              "      <td>0.467521</td>\n",
              "      <td>0.560684</td>\n",
              "      <td>0</td>\n",
              "      <td>0</td>\n",
              "      <td>0</td>\n",
              "      <td>0</td>\n",
              "      <td>0</td>\n",
              "    </tr>\n",
              "    <tr>\n",
              "      <th>15</th>\n",
              "      <td>88ea8deb07853f76</td>\n",
              "      <td>xclick</td>\n",
              "      <td>/m/07j7r</td>\n",
              "      <td>1.0</td>\n",
              "      <td>0.999375</td>\n",
              "      <td>1.0</td>\n",
              "      <td>0.056667</td>\n",
              "      <td>0.430833</td>\n",
              "      <td>1</td>\n",
              "      <td>1</td>\n",
              "      <td>1</td>\n",
              "      <td>0</td>\n",
              "      <td>0</td>\n",
              "    </tr>\n",
              "    <tr>\n",
              "      <th>16</th>\n",
              "      <td>ec04c57bf08e4813</td>\n",
              "      <td>xclick</td>\n",
              "      <td>/m/0cgh4</td>\n",
              "      <td>1.0</td>\n",
              "      <td>0.999375</td>\n",
              "      <td>1.0</td>\n",
              "      <td>0.000000</td>\n",
              "      <td>0.957494</td>\n",
              "      <td>1</td>\n",
              "      <td>1</td>\n",
              "      <td>1</td>\n",
              "      <td>0</td>\n",
              "      <td>0</td>\n",
              "    </tr>\n",
              "    <tr>\n",
              "      <th>17</th>\n",
              "      <td>fb791667e5b7e38f</td>\n",
              "      <td>xclick</td>\n",
              "      <td>/m/07j7r</td>\n",
              "      <td>1.0</td>\n",
              "      <td>0.999295</td>\n",
              "      <td>1.0</td>\n",
              "      <td>0.362500</td>\n",
              "      <td>0.999375</td>\n",
              "      <td>1</td>\n",
              "      <td>1</td>\n",
              "      <td>1</td>\n",
              "      <td>0</td>\n",
              "      <td>0</td>\n",
              "    </tr>\n",
              "    <tr>\n",
              "      <th>18</th>\n",
              "      <td>e67f47df555592e4</td>\n",
              "      <td>xclick</td>\n",
              "      <td>/m/083wq</td>\n",
              "      <td>1.0</td>\n",
              "      <td>0.999219</td>\n",
              "      <td>1.0</td>\n",
              "      <td>0.716667</td>\n",
              "      <td>0.755208</td>\n",
              "      <td>0</td>\n",
              "      <td>0</td>\n",
              "      <td>0</td>\n",
              "      <td>0</td>\n",
              "      <td>0</td>\n",
              "    </tr>\n",
              "    <tr>\n",
              "      <th>19</th>\n",
              "      <td>e5353176f389d321</td>\n",
              "      <td>xclick</td>\n",
              "      <td>/m/0c9ph5</td>\n",
              "      <td>1.0</td>\n",
              "      <td>0.999132</td>\n",
              "      <td>1.0</td>\n",
              "      <td>0.486111</td>\n",
              "      <td>0.513889</td>\n",
              "      <td>1</td>\n",
              "      <td>0</td>\n",
              "      <td>0</td>\n",
              "      <td>0</td>\n",
              "      <td>0</td>\n",
              "    </tr>\n",
              "  </tbody>\n",
              "</table>\n",
              "</div>\n",
              "      <button class=\"colab-df-convert\" onclick=\"convertToInteractive('df-12d07151-5e12-47d5-91f8-61aef607a17a')\"\n",
              "              title=\"Convert this dataframe to an interactive table.\"\n",
              "              style=\"display:none;\">\n",
              "        \n",
              "  <svg xmlns=\"http://www.w3.org/2000/svg\" height=\"24px\"viewBox=\"0 0 24 24\"\n",
              "       width=\"24px\">\n",
              "    <path d=\"M0 0h24v24H0V0z\" fill=\"none\"/>\n",
              "    <path d=\"M18.56 5.44l.94 2.06.94-2.06 2.06-.94-2.06-.94-.94-2.06-.94 2.06-2.06.94zm-11 1L8.5 8.5l.94-2.06 2.06-.94-2.06-.94L8.5 2.5l-.94 2.06-2.06.94zm10 10l.94 2.06.94-2.06 2.06-.94-2.06-.94-.94-2.06-.94 2.06-2.06.94z\"/><path d=\"M17.41 7.96l-1.37-1.37c-.4-.4-.92-.59-1.43-.59-.52 0-1.04.2-1.43.59L10.3 9.45l-7.72 7.72c-.78.78-.78 2.05 0 2.83L4 21.41c.39.39.9.59 1.41.59.51 0 1.02-.2 1.41-.59l7.78-7.78 2.81-2.81c.8-.78.8-2.07 0-2.86zM5.41 20L4 18.59l7.72-7.72 1.47 1.35L5.41 20z\"/>\n",
              "  </svg>\n",
              "      </button>\n",
              "      \n",
              "  <style>\n",
              "    .colab-df-container {\n",
              "      display:flex;\n",
              "      flex-wrap:wrap;\n",
              "      gap: 12px;\n",
              "    }\n",
              "\n",
              "    .colab-df-convert {\n",
              "      background-color: #E8F0FE;\n",
              "      border: none;\n",
              "      border-radius: 50%;\n",
              "      cursor: pointer;\n",
              "      display: none;\n",
              "      fill: #1967D2;\n",
              "      height: 32px;\n",
              "      padding: 0 0 0 0;\n",
              "      width: 32px;\n",
              "    }\n",
              "\n",
              "    .colab-df-convert:hover {\n",
              "      background-color: #E2EBFA;\n",
              "      box-shadow: 0px 1px 2px rgba(60, 64, 67, 0.3), 0px 1px 3px 1px rgba(60, 64, 67, 0.15);\n",
              "      fill: #174EA6;\n",
              "    }\n",
              "\n",
              "    [theme=dark] .colab-df-convert {\n",
              "      background-color: #3B4455;\n",
              "      fill: #D2E3FC;\n",
              "    }\n",
              "\n",
              "    [theme=dark] .colab-df-convert:hover {\n",
              "      background-color: #434B5C;\n",
              "      box-shadow: 0px 1px 3px 1px rgba(0, 0, 0, 0.15);\n",
              "      filter: drop-shadow(0px 1px 2px rgba(0, 0, 0, 0.3));\n",
              "      fill: #FFFFFF;\n",
              "    }\n",
              "  </style>\n",
              "\n",
              "      <script>\n",
              "        const buttonEl =\n",
              "          document.querySelector('#df-12d07151-5e12-47d5-91f8-61aef607a17a button.colab-df-convert');\n",
              "        buttonEl.style.display =\n",
              "          google.colab.kernel.accessAllowed ? 'block' : 'none';\n",
              "\n",
              "        async function convertToInteractive(key) {\n",
              "          const element = document.querySelector('#df-12d07151-5e12-47d5-91f8-61aef607a17a');\n",
              "          const dataTable =\n",
              "            await google.colab.kernel.invokeFunction('convertToInteractive',\n",
              "                                                     [key], {});\n",
              "          if (!dataTable) return;\n",
              "\n",
              "          const docLinkHtml = 'Like what you see? Visit the ' +\n",
              "            '<a target=\"_blank\" href=https://colab.research.google.com/notebooks/data_table.ipynb>data table notebook</a>'\n",
              "            + ' to learn more about interactive tables.';\n",
              "          element.innerHTML = '';\n",
              "          dataTable['output_type'] = 'display_data';\n",
              "          await google.colab.output.renderOutput(dataTable, element);\n",
              "          const docLink = document.createElement('div');\n",
              "          docLink.innerHTML = docLinkHtml;\n",
              "          element.appendChild(docLink);\n",
              "        }\n",
              "      </script>\n",
              "    </div>\n",
              "  </div>\n",
              "  "
            ]
          },
          "metadata": {},
          "execution_count": 37
        }
      ]
    },
    {
      "cell_type": "code",
      "source": [],
      "metadata": {
        "id": "VS01o-M84MPn"
      },
      "execution_count": 37,
      "outputs": []
    }
  ]
}