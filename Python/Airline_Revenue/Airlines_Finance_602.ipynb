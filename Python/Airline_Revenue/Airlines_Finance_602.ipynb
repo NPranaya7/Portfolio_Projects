{
  "nbformat": 4,
  "nbformat_minor": 0,
  "metadata": {
    "colab": {
      "provenance": [],
      "collapsed_sections": [
        "WRRz7G3EeXGN",
        "hX6KTob2iuPC",
        "lDJbUWu8J1BD",
        "ZNVxTUEsp52A",
        "OjYFvGSoKG3n",
        "rkbeYCExKNua",
        "RuwTdG1jKRD6",
        "Dn8ERoWoKgy-",
        "SlUytCIUKdgH",
        "WolPpi6VKfAM",
        "rpnnKPxYoRV0",
        "PHamLNt1Y8m8",
        "VHZSJRK3gHgV",
        "Ai6Qa9sj4bwL",
        "UghZhEMoqlJn",
        "3OBtxs7-rFMN"
      ],
      "include_colab_link": true
    },
    "kernelspec": {
      "name": "python3",
      "display_name": "Python 3"
    },
    "language_info": {
      "name": "python"
    }
  },
  "cells": [
    {
      "cell_type": "markdown",
      "metadata": {
        "id": "view-in-github",
        "colab_type": "text"
      },
      "source": [
        "<a href=\"https://colab.research.google.com/github/NPranaya7/Portfolio_Projects/blob/main/Python/Airline_Revenue%20/Airlines_Finance_602.ipynb\" target=\"_parent\"><img src=\"https://colab.research.google.com/assets/colab-badge.svg\" alt=\"Open In Colab\"/></a>"
      ]
    },
    {
      "cell_type": "markdown",
      "source": [
        "# 602 - Intro Data Analysis and ML\n",
        "# Airline Revenue\n",
        "\n"
      ],
      "metadata": {
        "id": "Li_U-TgKEHWA"
      }
    },
    {
      "cell_type": "markdown",
      "source": [
        "#### Importing Libraries"
      ],
      "metadata": {
        "id": "TPfbmpBV_oXF"
      }
    },
    {
      "cell_type": "code",
      "execution_count": null,
      "metadata": {
        "id": "e4aZeFbNsfAS"
      },
      "outputs": [],
      "source": [
        "import pandas as pd\n",
        "import numpy as np\n",
        "import seaborn as sns\n",
        "import statsmodels.api as sm\n",
        "import pylab as py\n",
        "import matplotlib.pyplot as plt\n",
        "from sklearn import metrics\n",
        "from sklearn.preprocessing import StandardScaler\n",
        "from sklearn.model_selection import train_test_split"
      ]
    },
    {
      "cell_type": "markdown",
      "source": [
        "#### Reading the Data \n",
        "- Performing EDA\n",
        "  - Removing unnecessary Columns from the Data\n",
        "  - Converting the String data into Numeric data\n",
        "  - makeing the Year column to datetime and make it as Index\n",
        "  - Converting the Quaterly data to Monthly Data with the help of interpolate."
      ],
      "metadata": {
        "id": "-36oaV-C_l24"
      }
    },
    {
      "cell_type": "code",
      "source": [
        "df_O = pd.read_csv(\"Operating_Rev.csv\")\n",
        "df_O.columns = df_O.iloc[0]\n",
        "df_O = df_O.drop(index = 0)\n",
        "df_O = df_O.dropna()\n",
        "df_O = df_O.loc[df_O['Quarter'] != \"TOTAL\"]\n",
        "df_O = df_O.reset_index()\n",
        "df_O = df_O.drop(['index'],axis = 1)\n",
        "#df_O = df_O.drop(['index','LATIN AMERICA','ATLANTIC','PACIFIC'],axis = 1)\n",
        "df_O = df_O.replace(['1','2','3','4'],['3', '6','9','12'])\n",
        "df_O['Year'] = df_O['Year'] + '-'+ df_O['Quarter']\n",
        "df_O['DOMESTIC'] = df_O['DOMESTIC'].str.replace(',','')\n",
        "df_O['INTERNATIONAL'] = df_O['INTERNATIONAL'].str.replace(',','')\n",
        "df_O['PACIFIC'] = df_O['PACIFIC'].str.replace(',','')\n",
        "df_O['LATIN AMERICA'] = df_O['LATIN AMERICA'].str.replace(',','')\n",
        "df_O['ATLANTIC'] = df_O['ATLANTIC'].str.replace(',','')\n",
        "df_O['TOTAL'] = df_O['TOTAL'].str.replace(',','')\n",
        "cols = df_O.columns\n",
        "df_O[cols] = df_O[cols].apply(pd.to_numeric,  errors='ignore')\n",
        "df_O['Year'] = pd.to_datetime(df_O['Year'])\n",
        "#df_O['Year'] = pd.to_datetime(df_O['Year']).dt.to_period('M')\n",
        "df_O"
      ],
      "metadata": {
        "colab": {
          "base_uri": "https://localhost:8080/",
          "height": 424
        },
        "id": "FFMVOXW5JYL2",
        "outputId": "0eae2166-e52e-493b-b4ef-d3a0874ab7ad"
      },
      "execution_count": null,
      "outputs": [
        {
          "output_type": "execute_result",
          "data": {
            "text/plain": [
              "0        Year  Quarter  DOMESTIC  LATIN AMERICA  ATLANTIC  PACIFIC  \\\n",
              "0  2000-03-01        3  23262183        1639679   2690229  2240370   \n",
              "1  2000-06-01        6  25573067        1626743   3419032  2432840   \n",
              "2  2000-09-01        9  25313087        1776933   3796968  2801208   \n",
              "3  2000-12-01       12  24751473        1761932   3113734  2545414   \n",
              "4  2001-03-01        3  23620312        1848448   2913460  2319491   \n",
              "..        ...      ...       ...            ...       ...      ...   \n",
              "85 2021-06-01        6  35276277        3570739   3870582  3146913   \n",
              "86 2021-09-01        9  41300066        4043858   5132636  3216892   \n",
              "87 2021-12-01       12  43918677        4330499   5381293  3471123   \n",
              "88 2022-03-01        3  41233121        4587336   5084736  3423807   \n",
              "89 2022-06-01        6  55307339        5541106   8779708  3727903   \n",
              "\n",
              "0   INTERNATIONAL     TOTAL  \n",
              "0          370524  30202987  \n",
              "1          390007  33441689  \n",
              "2          370491  34058686  \n",
              "3          372305  32544858  \n",
              "4          409925  31111636  \n",
              "..            ...       ...  \n",
              "85        1596887  47461399  \n",
              "86        1680301  55373753  \n",
              "87        1824171  58925763  \n",
              "88        1673416  56002415  \n",
              "89        1966049  75322105  \n",
              "\n",
              "[90 rows x 8 columns]"
            ],
            "text/html": [
              "\n",
              "  <div id=\"df-b5536c8f-62ba-485f-8d81-c3ee9b1fd360\">\n",
              "    <div class=\"colab-df-container\">\n",
              "      <div>\n",
              "<style scoped>\n",
              "    .dataframe tbody tr th:only-of-type {\n",
              "        vertical-align: middle;\n",
              "    }\n",
              "\n",
              "    .dataframe tbody tr th {\n",
              "        vertical-align: top;\n",
              "    }\n",
              "\n",
              "    .dataframe thead th {\n",
              "        text-align: right;\n",
              "    }\n",
              "</style>\n",
              "<table border=\"1\" class=\"dataframe\">\n",
              "  <thead>\n",
              "    <tr style=\"text-align: right;\">\n",
              "      <th></th>\n",
              "      <th>Year</th>\n",
              "      <th>Quarter</th>\n",
              "      <th>DOMESTIC</th>\n",
              "      <th>LATIN AMERICA</th>\n",
              "      <th>ATLANTIC</th>\n",
              "      <th>PACIFIC</th>\n",
              "      <th>INTERNATIONAL</th>\n",
              "      <th>TOTAL</th>\n",
              "    </tr>\n",
              "  </thead>\n",
              "  <tbody>\n",
              "    <tr>\n",
              "      <th>0</th>\n",
              "      <td>2000-03-01</td>\n",
              "      <td>3</td>\n",
              "      <td>23262183</td>\n",
              "      <td>1639679</td>\n",
              "      <td>2690229</td>\n",
              "      <td>2240370</td>\n",
              "      <td>370524</td>\n",
              "      <td>30202987</td>\n",
              "    </tr>\n",
              "    <tr>\n",
              "      <th>1</th>\n",
              "      <td>2000-06-01</td>\n",
              "      <td>6</td>\n",
              "      <td>25573067</td>\n",
              "      <td>1626743</td>\n",
              "      <td>3419032</td>\n",
              "      <td>2432840</td>\n",
              "      <td>390007</td>\n",
              "      <td>33441689</td>\n",
              "    </tr>\n",
              "    <tr>\n",
              "      <th>2</th>\n",
              "      <td>2000-09-01</td>\n",
              "      <td>9</td>\n",
              "      <td>25313087</td>\n",
              "      <td>1776933</td>\n",
              "      <td>3796968</td>\n",
              "      <td>2801208</td>\n",
              "      <td>370491</td>\n",
              "      <td>34058686</td>\n",
              "    </tr>\n",
              "    <tr>\n",
              "      <th>3</th>\n",
              "      <td>2000-12-01</td>\n",
              "      <td>12</td>\n",
              "      <td>24751473</td>\n",
              "      <td>1761932</td>\n",
              "      <td>3113734</td>\n",
              "      <td>2545414</td>\n",
              "      <td>372305</td>\n",
              "      <td>32544858</td>\n",
              "    </tr>\n",
              "    <tr>\n",
              "      <th>4</th>\n",
              "      <td>2001-03-01</td>\n",
              "      <td>3</td>\n",
              "      <td>23620312</td>\n",
              "      <td>1848448</td>\n",
              "      <td>2913460</td>\n",
              "      <td>2319491</td>\n",
              "      <td>409925</td>\n",
              "      <td>31111636</td>\n",
              "    </tr>\n",
              "    <tr>\n",
              "      <th>...</th>\n",
              "      <td>...</td>\n",
              "      <td>...</td>\n",
              "      <td>...</td>\n",
              "      <td>...</td>\n",
              "      <td>...</td>\n",
              "      <td>...</td>\n",
              "      <td>...</td>\n",
              "      <td>...</td>\n",
              "    </tr>\n",
              "    <tr>\n",
              "      <th>85</th>\n",
              "      <td>2021-06-01</td>\n",
              "      <td>6</td>\n",
              "      <td>35276277</td>\n",
              "      <td>3570739</td>\n",
              "      <td>3870582</td>\n",
              "      <td>3146913</td>\n",
              "      <td>1596887</td>\n",
              "      <td>47461399</td>\n",
              "    </tr>\n",
              "    <tr>\n",
              "      <th>86</th>\n",
              "      <td>2021-09-01</td>\n",
              "      <td>9</td>\n",
              "      <td>41300066</td>\n",
              "      <td>4043858</td>\n",
              "      <td>5132636</td>\n",
              "      <td>3216892</td>\n",
              "      <td>1680301</td>\n",
              "      <td>55373753</td>\n",
              "    </tr>\n",
              "    <tr>\n",
              "      <th>87</th>\n",
              "      <td>2021-12-01</td>\n",
              "      <td>12</td>\n",
              "      <td>43918677</td>\n",
              "      <td>4330499</td>\n",
              "      <td>5381293</td>\n",
              "      <td>3471123</td>\n",
              "      <td>1824171</td>\n",
              "      <td>58925763</td>\n",
              "    </tr>\n",
              "    <tr>\n",
              "      <th>88</th>\n",
              "      <td>2022-03-01</td>\n",
              "      <td>3</td>\n",
              "      <td>41233121</td>\n",
              "      <td>4587336</td>\n",
              "      <td>5084736</td>\n",
              "      <td>3423807</td>\n",
              "      <td>1673416</td>\n",
              "      <td>56002415</td>\n",
              "    </tr>\n",
              "    <tr>\n",
              "      <th>89</th>\n",
              "      <td>2022-06-01</td>\n",
              "      <td>6</td>\n",
              "      <td>55307339</td>\n",
              "      <td>5541106</td>\n",
              "      <td>8779708</td>\n",
              "      <td>3727903</td>\n",
              "      <td>1966049</td>\n",
              "      <td>75322105</td>\n",
              "    </tr>\n",
              "  </tbody>\n",
              "</table>\n",
              "<p>90 rows × 8 columns</p>\n",
              "</div>\n",
              "      <button class=\"colab-df-convert\" onclick=\"convertToInteractive('df-b5536c8f-62ba-485f-8d81-c3ee9b1fd360')\"\n",
              "              title=\"Convert this dataframe to an interactive table.\"\n",
              "              style=\"display:none;\">\n",
              "        \n",
              "  <svg xmlns=\"http://www.w3.org/2000/svg\" height=\"24px\"viewBox=\"0 0 24 24\"\n",
              "       width=\"24px\">\n",
              "    <path d=\"M0 0h24v24H0V0z\" fill=\"none\"/>\n",
              "    <path d=\"M18.56 5.44l.94 2.06.94-2.06 2.06-.94-2.06-.94-.94-2.06-.94 2.06-2.06.94zm-11 1L8.5 8.5l.94-2.06 2.06-.94-2.06-.94L8.5 2.5l-.94 2.06-2.06.94zm10 10l.94 2.06.94-2.06 2.06-.94-2.06-.94-.94-2.06-.94 2.06-2.06.94z\"/><path d=\"M17.41 7.96l-1.37-1.37c-.4-.4-.92-.59-1.43-.59-.52 0-1.04.2-1.43.59L10.3 9.45l-7.72 7.72c-.78.78-.78 2.05 0 2.83L4 21.41c.39.39.9.59 1.41.59.51 0 1.02-.2 1.41-.59l7.78-7.78 2.81-2.81c.8-.78.8-2.07 0-2.86zM5.41 20L4 18.59l7.72-7.72 1.47 1.35L5.41 20z\"/>\n",
              "  </svg>\n",
              "      </button>\n",
              "      \n",
              "  <style>\n",
              "    .colab-df-container {\n",
              "      display:flex;\n",
              "      flex-wrap:wrap;\n",
              "      gap: 12px;\n",
              "    }\n",
              "\n",
              "    .colab-df-convert {\n",
              "      background-color: #E8F0FE;\n",
              "      border: none;\n",
              "      border-radius: 50%;\n",
              "      cursor: pointer;\n",
              "      display: none;\n",
              "      fill: #1967D2;\n",
              "      height: 32px;\n",
              "      padding: 0 0 0 0;\n",
              "      width: 32px;\n",
              "    }\n",
              "\n",
              "    .colab-df-convert:hover {\n",
              "      background-color: #E2EBFA;\n",
              "      box-shadow: 0px 1px 2px rgba(60, 64, 67, 0.3), 0px 1px 3px 1px rgba(60, 64, 67, 0.15);\n",
              "      fill: #174EA6;\n",
              "    }\n",
              "\n",
              "    [theme=dark] .colab-df-convert {\n",
              "      background-color: #3B4455;\n",
              "      fill: #D2E3FC;\n",
              "    }\n",
              "\n",
              "    [theme=dark] .colab-df-convert:hover {\n",
              "      background-color: #434B5C;\n",
              "      box-shadow: 0px 1px 3px 1px rgba(0, 0, 0, 0.15);\n",
              "      filter: drop-shadow(0px 1px 2px rgba(0, 0, 0, 0.3));\n",
              "      fill: #FFFFFF;\n",
              "    }\n",
              "  </style>\n",
              "\n",
              "      <script>\n",
              "        const buttonEl =\n",
              "          document.querySelector('#df-b5536c8f-62ba-485f-8d81-c3ee9b1fd360 button.colab-df-convert');\n",
              "        buttonEl.style.display =\n",
              "          google.colab.kernel.accessAllowed ? 'block' : 'none';\n",
              "\n",
              "        async function convertToInteractive(key) {\n",
              "          const element = document.querySelector('#df-b5536c8f-62ba-485f-8d81-c3ee9b1fd360');\n",
              "          const dataTable =\n",
              "            await google.colab.kernel.invokeFunction('convertToInteractive',\n",
              "                                                     [key], {});\n",
              "          if (!dataTable) return;\n",
              "\n",
              "          const docLinkHtml = 'Like what you see? Visit the ' +\n",
              "            '<a target=\"_blank\" href=https://colab.research.google.com/notebooks/data_table.ipynb>data table notebook</a>'\n",
              "            + ' to learn more about interactive tables.';\n",
              "          element.innerHTML = '';\n",
              "          dataTable['output_type'] = 'display_data';\n",
              "          await google.colab.output.renderOutput(dataTable, element);\n",
              "          const docLink = document.createElement('div');\n",
              "          docLink.innerHTML = docLinkHtml;\n",
              "          element.appendChild(docLink);\n",
              "        }\n",
              "      </script>\n",
              "    </div>\n",
              "  </div>\n",
              "  "
            ]
          },
          "metadata": {},
          "execution_count": 2
        }
      ]
    },
    {
      "cell_type": "markdown",
      "source": [
        "#### Dealing with missing value "
      ],
      "metadata": {
        "id": "FxgSMBw4anU0"
      }
    },
    {
      "cell_type": "code",
      "source": [
        "df_O['Year'] = pd.to_datetime(df_O['Year']).dt.to_period('M')\n",
        "df_O = df_O.set_index('Year').resample('M').interpolate()"
      ],
      "metadata": {
        "id": "FxnuPCubUZDj"
      },
      "execution_count": null,
      "outputs": []
    },
    {
      "cell_type": "markdown",
      "source": [
        "- Interploation is a very common method for missing Values in the data. the interpolation estimates the missing values by assuming a relationship within a range of data points.\n"
      ],
      "metadata": {
        "id": "xmEkn0EbgrQ2"
      }
    },
    {
      "cell_type": "code",
      "source": [
        "df_O.drop(columns = 'Quarter').to_timestamp()"
      ],
      "metadata": {
        "id": "ZMt5UFAZiMds",
        "colab": {
          "base_uri": "https://localhost:8080/",
          "height": 455
        },
        "outputId": "79fb4999-fc24-4e2d-c4de-4ccd0e45c588"
      },
      "execution_count": null,
      "outputs": [
        {
          "output_type": "execute_result",
          "data": {
            "text/plain": [
              "0               DOMESTIC  LATIN AMERICA      ATLANTIC       PACIFIC  \\\n",
              "Year                                                                  \n",
              "2000-03-01  2.326218e+07   1.639679e+06  2.690229e+06  2.240370e+06   \n",
              "2000-04-01  2.403248e+07   1.635367e+06  2.933163e+06  2.304527e+06   \n",
              "2000-05-01  2.480277e+07   1.631055e+06  3.176098e+06  2.368683e+06   \n",
              "2000-06-01  2.557307e+07   1.626743e+06  3.419032e+06  2.432840e+06   \n",
              "2000-07-01  2.548641e+07   1.676806e+06  3.545011e+06  2.555629e+06   \n",
              "...                  ...            ...           ...           ...   \n",
              "2022-02-01  4.212831e+07   4.501724e+06  5.183588e+06  3.439579e+06   \n",
              "2022-03-01  4.123312e+07   4.587336e+06  5.084736e+06  3.423807e+06   \n",
              "2022-04-01  4.592453e+07   4.905259e+06  6.316393e+06  3.525172e+06   \n",
              "2022-05-01  5.061593e+07   5.223183e+06  7.548051e+06  3.626538e+06   \n",
              "2022-06-01  5.530734e+07   5.541106e+06  8.779708e+06  3.727903e+06   \n",
              "\n",
              "0           INTERNATIONAL         TOTAL  \n",
              "Year                                     \n",
              "2000-03-01   3.705240e+05  3.020299e+07  \n",
              "2000-04-01   3.770183e+05  3.128255e+07  \n",
              "2000-05-01   3.835127e+05  3.236212e+07  \n",
              "2000-06-01   3.900070e+05  3.344169e+07  \n",
              "2000-07-01   3.835017e+05  3.364735e+07  \n",
              "...                   ...           ...  \n",
              "2022-02-01   1.723668e+06  5.697686e+07  \n",
              "2022-03-01   1.673416e+06  5.600242e+07  \n",
              "2022-04-01   1.770960e+06  6.244231e+07  \n",
              "2022-05-01   1.868505e+06  6.888221e+07  \n",
              "2022-06-01   1.966049e+06  7.532210e+07  \n",
              "\n",
              "[268 rows x 6 columns]"
            ],
            "text/html": [
              "\n",
              "  <div id=\"df-5b3fa3a9-814c-4492-b781-8c4ab6137d6f\">\n",
              "    <div class=\"colab-df-container\">\n",
              "      <div>\n",
              "<style scoped>\n",
              "    .dataframe tbody tr th:only-of-type {\n",
              "        vertical-align: middle;\n",
              "    }\n",
              "\n",
              "    .dataframe tbody tr th {\n",
              "        vertical-align: top;\n",
              "    }\n",
              "\n",
              "    .dataframe thead th {\n",
              "        text-align: right;\n",
              "    }\n",
              "</style>\n",
              "<table border=\"1\" class=\"dataframe\">\n",
              "  <thead>\n",
              "    <tr style=\"text-align: right;\">\n",
              "      <th></th>\n",
              "      <th>DOMESTIC</th>\n",
              "      <th>LATIN AMERICA</th>\n",
              "      <th>ATLANTIC</th>\n",
              "      <th>PACIFIC</th>\n",
              "      <th>INTERNATIONAL</th>\n",
              "      <th>TOTAL</th>\n",
              "    </tr>\n",
              "    <tr>\n",
              "      <th>Year</th>\n",
              "      <th></th>\n",
              "      <th></th>\n",
              "      <th></th>\n",
              "      <th></th>\n",
              "      <th></th>\n",
              "      <th></th>\n",
              "    </tr>\n",
              "  </thead>\n",
              "  <tbody>\n",
              "    <tr>\n",
              "      <th>2000-03-01</th>\n",
              "      <td>2.326218e+07</td>\n",
              "      <td>1.639679e+06</td>\n",
              "      <td>2.690229e+06</td>\n",
              "      <td>2.240370e+06</td>\n",
              "      <td>3.705240e+05</td>\n",
              "      <td>3.020299e+07</td>\n",
              "    </tr>\n",
              "    <tr>\n",
              "      <th>2000-04-01</th>\n",
              "      <td>2.403248e+07</td>\n",
              "      <td>1.635367e+06</td>\n",
              "      <td>2.933163e+06</td>\n",
              "      <td>2.304527e+06</td>\n",
              "      <td>3.770183e+05</td>\n",
              "      <td>3.128255e+07</td>\n",
              "    </tr>\n",
              "    <tr>\n",
              "      <th>2000-05-01</th>\n",
              "      <td>2.480277e+07</td>\n",
              "      <td>1.631055e+06</td>\n",
              "      <td>3.176098e+06</td>\n",
              "      <td>2.368683e+06</td>\n",
              "      <td>3.835127e+05</td>\n",
              "      <td>3.236212e+07</td>\n",
              "    </tr>\n",
              "    <tr>\n",
              "      <th>2000-06-01</th>\n",
              "      <td>2.557307e+07</td>\n",
              "      <td>1.626743e+06</td>\n",
              "      <td>3.419032e+06</td>\n",
              "      <td>2.432840e+06</td>\n",
              "      <td>3.900070e+05</td>\n",
              "      <td>3.344169e+07</td>\n",
              "    </tr>\n",
              "    <tr>\n",
              "      <th>2000-07-01</th>\n",
              "      <td>2.548641e+07</td>\n",
              "      <td>1.676806e+06</td>\n",
              "      <td>3.545011e+06</td>\n",
              "      <td>2.555629e+06</td>\n",
              "      <td>3.835017e+05</td>\n",
              "      <td>3.364735e+07</td>\n",
              "    </tr>\n",
              "    <tr>\n",
              "      <th>...</th>\n",
              "      <td>...</td>\n",
              "      <td>...</td>\n",
              "      <td>...</td>\n",
              "      <td>...</td>\n",
              "      <td>...</td>\n",
              "      <td>...</td>\n",
              "    </tr>\n",
              "    <tr>\n",
              "      <th>2022-02-01</th>\n",
              "      <td>4.212831e+07</td>\n",
              "      <td>4.501724e+06</td>\n",
              "      <td>5.183588e+06</td>\n",
              "      <td>3.439579e+06</td>\n",
              "      <td>1.723668e+06</td>\n",
              "      <td>5.697686e+07</td>\n",
              "    </tr>\n",
              "    <tr>\n",
              "      <th>2022-03-01</th>\n",
              "      <td>4.123312e+07</td>\n",
              "      <td>4.587336e+06</td>\n",
              "      <td>5.084736e+06</td>\n",
              "      <td>3.423807e+06</td>\n",
              "      <td>1.673416e+06</td>\n",
              "      <td>5.600242e+07</td>\n",
              "    </tr>\n",
              "    <tr>\n",
              "      <th>2022-04-01</th>\n",
              "      <td>4.592453e+07</td>\n",
              "      <td>4.905259e+06</td>\n",
              "      <td>6.316393e+06</td>\n",
              "      <td>3.525172e+06</td>\n",
              "      <td>1.770960e+06</td>\n",
              "      <td>6.244231e+07</td>\n",
              "    </tr>\n",
              "    <tr>\n",
              "      <th>2022-05-01</th>\n",
              "      <td>5.061593e+07</td>\n",
              "      <td>5.223183e+06</td>\n",
              "      <td>7.548051e+06</td>\n",
              "      <td>3.626538e+06</td>\n",
              "      <td>1.868505e+06</td>\n",
              "      <td>6.888221e+07</td>\n",
              "    </tr>\n",
              "    <tr>\n",
              "      <th>2022-06-01</th>\n",
              "      <td>5.530734e+07</td>\n",
              "      <td>5.541106e+06</td>\n",
              "      <td>8.779708e+06</td>\n",
              "      <td>3.727903e+06</td>\n",
              "      <td>1.966049e+06</td>\n",
              "      <td>7.532210e+07</td>\n",
              "    </tr>\n",
              "  </tbody>\n",
              "</table>\n",
              "<p>268 rows × 6 columns</p>\n",
              "</div>\n",
              "      <button class=\"colab-df-convert\" onclick=\"convertToInteractive('df-5b3fa3a9-814c-4492-b781-8c4ab6137d6f')\"\n",
              "              title=\"Convert this dataframe to an interactive table.\"\n",
              "              style=\"display:none;\">\n",
              "        \n",
              "  <svg xmlns=\"http://www.w3.org/2000/svg\" height=\"24px\"viewBox=\"0 0 24 24\"\n",
              "       width=\"24px\">\n",
              "    <path d=\"M0 0h24v24H0V0z\" fill=\"none\"/>\n",
              "    <path d=\"M18.56 5.44l.94 2.06.94-2.06 2.06-.94-2.06-.94-.94-2.06-.94 2.06-2.06.94zm-11 1L8.5 8.5l.94-2.06 2.06-.94-2.06-.94L8.5 2.5l-.94 2.06-2.06.94zm10 10l.94 2.06.94-2.06 2.06-.94-2.06-.94-.94-2.06-.94 2.06-2.06.94z\"/><path d=\"M17.41 7.96l-1.37-1.37c-.4-.4-.92-.59-1.43-.59-.52 0-1.04.2-1.43.59L10.3 9.45l-7.72 7.72c-.78.78-.78 2.05 0 2.83L4 21.41c.39.39.9.59 1.41.59.51 0 1.02-.2 1.41-.59l7.78-7.78 2.81-2.81c.8-.78.8-2.07 0-2.86zM5.41 20L4 18.59l7.72-7.72 1.47 1.35L5.41 20z\"/>\n",
              "  </svg>\n",
              "      </button>\n",
              "      \n",
              "  <style>\n",
              "    .colab-df-container {\n",
              "      display:flex;\n",
              "      flex-wrap:wrap;\n",
              "      gap: 12px;\n",
              "    }\n",
              "\n",
              "    .colab-df-convert {\n",
              "      background-color: #E8F0FE;\n",
              "      border: none;\n",
              "      border-radius: 50%;\n",
              "      cursor: pointer;\n",
              "      display: none;\n",
              "      fill: #1967D2;\n",
              "      height: 32px;\n",
              "      padding: 0 0 0 0;\n",
              "      width: 32px;\n",
              "    }\n",
              "\n",
              "    .colab-df-convert:hover {\n",
              "      background-color: #E2EBFA;\n",
              "      box-shadow: 0px 1px 2px rgba(60, 64, 67, 0.3), 0px 1px 3px 1px rgba(60, 64, 67, 0.15);\n",
              "      fill: #174EA6;\n",
              "    }\n",
              "\n",
              "    [theme=dark] .colab-df-convert {\n",
              "      background-color: #3B4455;\n",
              "      fill: #D2E3FC;\n",
              "    }\n",
              "\n",
              "    [theme=dark] .colab-df-convert:hover {\n",
              "      background-color: #434B5C;\n",
              "      box-shadow: 0px 1px 3px 1px rgba(0, 0, 0, 0.15);\n",
              "      filter: drop-shadow(0px 1px 2px rgba(0, 0, 0, 0.3));\n",
              "      fill: #FFFFFF;\n",
              "    }\n",
              "  </style>\n",
              "\n",
              "      <script>\n",
              "        const buttonEl =\n",
              "          document.querySelector('#df-5b3fa3a9-814c-4492-b781-8c4ab6137d6f button.colab-df-convert');\n",
              "        buttonEl.style.display =\n",
              "          google.colab.kernel.accessAllowed ? 'block' : 'none';\n",
              "\n",
              "        async function convertToInteractive(key) {\n",
              "          const element = document.querySelector('#df-5b3fa3a9-814c-4492-b781-8c4ab6137d6f');\n",
              "          const dataTable =\n",
              "            await google.colab.kernel.invokeFunction('convertToInteractive',\n",
              "                                                     [key], {});\n",
              "          if (!dataTable) return;\n",
              "\n",
              "          const docLinkHtml = 'Like what you see? Visit the ' +\n",
              "            '<a target=\"_blank\" href=https://colab.research.google.com/notebooks/data_table.ipynb>data table notebook</a>'\n",
              "            + ' to learn more about interactive tables.';\n",
              "          element.innerHTML = '';\n",
              "          dataTable['output_type'] = 'display_data';\n",
              "          await google.colab.output.renderOutput(dataTable, element);\n",
              "          const docLink = document.createElement('div');\n",
              "          docLink.innerHTML = docLinkHtml;\n",
              "          element.appendChild(docLink);\n",
              "        }\n",
              "      </script>\n",
              "    </div>\n",
              "  </div>\n",
              "  "
            ]
          },
          "metadata": {},
          "execution_count": 95
        }
      ]
    },
    {
      "cell_type": "markdown",
      "source": [
        "# Total Revenue\n",
        "- Implementing Time Series Models on Total Revenue Generated by all Major US carrier opertated from Major US airports"
      ],
      "metadata": {
        "id": "1M_1MoBnhLkE"
      }
    },
    {
      "cell_type": "code",
      "source": [
        "df = df_O['TOTAL']"
      ],
      "metadata": {
        "id": "AmhwDEF0VEol"
      },
      "execution_count": null,
      "outputs": []
    },
    {
      "cell_type": "code",
      "source": [
        "df = df.to_timestamp()"
      ],
      "metadata": {
        "id": "wEmmk0TMVcXh"
      },
      "execution_count": null,
      "outputs": []
    },
    {
      "cell_type": "code",
      "source": [
        "df = pd.DataFrame(df)"
      ],
      "metadata": {
        "id": "E4yq-4X7arK9"
      },
      "execution_count": null,
      "outputs": []
    },
    {
      "cell_type": "code",
      "source": [
        "df.head()"
      ],
      "metadata": {
        "id": "x4ingVEOiNK7",
        "colab": {
          "base_uri": "https://localhost:8080/",
          "height": 238
        },
        "outputId": "56205935-b0f0-497f-d104-b0ee504d4df4"
      },
      "execution_count": null,
      "outputs": [
        {
          "output_type": "execute_result",
          "data": {
            "text/plain": [
              "                   TOTAL\n",
              "Year                    \n",
              "2000-03-01  3.020299e+07\n",
              "2000-04-01  3.128255e+07\n",
              "2000-05-01  3.236212e+07\n",
              "2000-06-01  3.344169e+07\n",
              "2000-07-01  3.364735e+07"
            ],
            "text/html": [
              "\n",
              "  <div id=\"df-ecc6aa45-ee2c-47a5-882f-4554d0337598\">\n",
              "    <div class=\"colab-df-container\">\n",
              "      <div>\n",
              "<style scoped>\n",
              "    .dataframe tbody tr th:only-of-type {\n",
              "        vertical-align: middle;\n",
              "    }\n",
              "\n",
              "    .dataframe tbody tr th {\n",
              "        vertical-align: top;\n",
              "    }\n",
              "\n",
              "    .dataframe thead th {\n",
              "        text-align: right;\n",
              "    }\n",
              "</style>\n",
              "<table border=\"1\" class=\"dataframe\">\n",
              "  <thead>\n",
              "    <tr style=\"text-align: right;\">\n",
              "      <th></th>\n",
              "      <th>TOTAL</th>\n",
              "    </tr>\n",
              "    <tr>\n",
              "      <th>Year</th>\n",
              "      <th></th>\n",
              "    </tr>\n",
              "  </thead>\n",
              "  <tbody>\n",
              "    <tr>\n",
              "      <th>2000-03-01</th>\n",
              "      <td>3.020299e+07</td>\n",
              "    </tr>\n",
              "    <tr>\n",
              "      <th>2000-04-01</th>\n",
              "      <td>3.128255e+07</td>\n",
              "    </tr>\n",
              "    <tr>\n",
              "      <th>2000-05-01</th>\n",
              "      <td>3.236212e+07</td>\n",
              "    </tr>\n",
              "    <tr>\n",
              "      <th>2000-06-01</th>\n",
              "      <td>3.344169e+07</td>\n",
              "    </tr>\n",
              "    <tr>\n",
              "      <th>2000-07-01</th>\n",
              "      <td>3.364735e+07</td>\n",
              "    </tr>\n",
              "  </tbody>\n",
              "</table>\n",
              "</div>\n",
              "      <button class=\"colab-df-convert\" onclick=\"convertToInteractive('df-ecc6aa45-ee2c-47a5-882f-4554d0337598')\"\n",
              "              title=\"Convert this dataframe to an interactive table.\"\n",
              "              style=\"display:none;\">\n",
              "        \n",
              "  <svg xmlns=\"http://www.w3.org/2000/svg\" height=\"24px\"viewBox=\"0 0 24 24\"\n",
              "       width=\"24px\">\n",
              "    <path d=\"M0 0h24v24H0V0z\" fill=\"none\"/>\n",
              "    <path d=\"M18.56 5.44l.94 2.06.94-2.06 2.06-.94-2.06-.94-.94-2.06-.94 2.06-2.06.94zm-11 1L8.5 8.5l.94-2.06 2.06-.94-2.06-.94L8.5 2.5l-.94 2.06-2.06.94zm10 10l.94 2.06.94-2.06 2.06-.94-2.06-.94-.94-2.06-.94 2.06-2.06.94z\"/><path d=\"M17.41 7.96l-1.37-1.37c-.4-.4-.92-.59-1.43-.59-.52 0-1.04.2-1.43.59L10.3 9.45l-7.72 7.72c-.78.78-.78 2.05 0 2.83L4 21.41c.39.39.9.59 1.41.59.51 0 1.02-.2 1.41-.59l7.78-7.78 2.81-2.81c.8-.78.8-2.07 0-2.86zM5.41 20L4 18.59l7.72-7.72 1.47 1.35L5.41 20z\"/>\n",
              "  </svg>\n",
              "      </button>\n",
              "      \n",
              "  <style>\n",
              "    .colab-df-container {\n",
              "      display:flex;\n",
              "      flex-wrap:wrap;\n",
              "      gap: 12px;\n",
              "    }\n",
              "\n",
              "    .colab-df-convert {\n",
              "      background-color: #E8F0FE;\n",
              "      border: none;\n",
              "      border-radius: 50%;\n",
              "      cursor: pointer;\n",
              "      display: none;\n",
              "      fill: #1967D2;\n",
              "      height: 32px;\n",
              "      padding: 0 0 0 0;\n",
              "      width: 32px;\n",
              "    }\n",
              "\n",
              "    .colab-df-convert:hover {\n",
              "      background-color: #E2EBFA;\n",
              "      box-shadow: 0px 1px 2px rgba(60, 64, 67, 0.3), 0px 1px 3px 1px rgba(60, 64, 67, 0.15);\n",
              "      fill: #174EA6;\n",
              "    }\n",
              "\n",
              "    [theme=dark] .colab-df-convert {\n",
              "      background-color: #3B4455;\n",
              "      fill: #D2E3FC;\n",
              "    }\n",
              "\n",
              "    [theme=dark] .colab-df-convert:hover {\n",
              "      background-color: #434B5C;\n",
              "      box-shadow: 0px 1px 3px 1px rgba(0, 0, 0, 0.15);\n",
              "      filter: drop-shadow(0px 1px 2px rgba(0, 0, 0, 0.3));\n",
              "      fill: #FFFFFF;\n",
              "    }\n",
              "  </style>\n",
              "\n",
              "      <script>\n",
              "        const buttonEl =\n",
              "          document.querySelector('#df-ecc6aa45-ee2c-47a5-882f-4554d0337598 button.colab-df-convert');\n",
              "        buttonEl.style.display =\n",
              "          google.colab.kernel.accessAllowed ? 'block' : 'none';\n",
              "\n",
              "        async function convertToInteractive(key) {\n",
              "          const element = document.querySelector('#df-ecc6aa45-ee2c-47a5-882f-4554d0337598');\n",
              "          const dataTable =\n",
              "            await google.colab.kernel.invokeFunction('convertToInteractive',\n",
              "                                                     [key], {});\n",
              "          if (!dataTable) return;\n",
              "\n",
              "          const docLinkHtml = 'Like what you see? Visit the ' +\n",
              "            '<a target=\"_blank\" href=https://colab.research.google.com/notebooks/data_table.ipynb>data table notebook</a>'\n",
              "            + ' to learn more about interactive tables.';\n",
              "          element.innerHTML = '';\n",
              "          dataTable['output_type'] = 'display_data';\n",
              "          await google.colab.output.renderOutput(dataTable, element);\n",
              "          const docLink = document.createElement('div');\n",
              "          docLink.innerHTML = docLinkHtml;\n",
              "          element.appendChild(docLink);\n",
              "        }\n",
              "      </script>\n",
              "    </div>\n",
              "  </div>\n",
              "  "
            ]
          },
          "metadata": {},
          "execution_count": 8
        }
      ]
    },
    {
      "cell_type": "markdown",
      "source": [
        "#### Plotting"
      ],
      "metadata": {
        "id": "R5cG9URcekad"
      }
    },
    {
      "cell_type": "code",
      "source": [
        "fig, ax = plt.subplots(figsize = (16 , 7),nrows=2, ncols=1)\n",
        "#fig, axes = plt.subplots(nrows=2, ncols=2)\n",
        "\n",
        "df_O.drop(['Quarter','DOMESTIC','TOTAL'],axis = 1).plot(ax = ax[1])\n",
        "df_O.drop(['PACIFIC','ATLANTIC','LATIN AMERICA','INTERNATIONAL'],axis = 1).plot(ax = ax[0])\n",
        "\n",
        "#plt.title('Airline Operating Revenue')\n",
        "plt.xlabel('Year')\n",
        "plt.ylabel('Frequency')\n",
        "plt.show()"
      ],
      "metadata": {
        "id": "oeZYQvD0xOZd",
        "colab": {
          "base_uri": "https://localhost:8080/",
          "height": 453
        },
        "outputId": "0cd9dae9-0311-4730-cc6d-dd520412f3f3"
      },
      "execution_count": null,
      "outputs": [
        {
          "output_type": "display_data",
          "data": {
            "text/plain": [
              "<Figure size 1152x504 with 2 Axes>"
            ],
            "image/png": "[encoded data removed]"
          },
          "metadata": {
            "needs_background": "light"
          }
        }
      ]
    },
    {
      "cell_type": "markdown",
      "source": [
        "## Plotting Trend, seasonality, cyclicality, and noise graph of the the data of Total Revenue "
      ],
      "metadata": {
        "id": "WRRz7G3EeXGN"
      }
    },
    {
      "cell_type": "code",
      "source": [
        "from random import randrange\n",
        "from pandas import Series\n",
        "from matplotlib import pyplot\n",
        "from statsmodels.tsa.seasonal import seasonal_decompose\n",
        "#series = [i+randrange(10) for i in range(1,100)]\n",
        "result = seasonal_decompose(df, model='additive', period=12)\n",
        "result.plot()\n",
        "pyplot.show()"
      ],
      "metadata": {
        "id": "6XCsjd4EU_ui",
        "colab": {
          "base_uri": "https://localhost:8080/",
          "height": 297
        },
        "outputId": "c28c321f-8287-403c-bd17-02322c0f4f04"
      },
      "execution_count": null,
      "outputs": [
        {
          "output_type": "display_data",
          "data": {
            "text/plain": [
              "<Figure size 432x288 with 4 Axes>"
            ],
            "image/png": "[encoded data removed]"
          },
          "metadata": {
            "needs_background": "light"
          }
        }
      ]
    },
    {
      "cell_type": "markdown",
      "source": [
        "- In the first graph, we see the behavior of the raw data.it has a upward trend despite a drop at the end of the first quarter of 2020.\n",
        "- The second plot exhibits the trend of the data. Trend shows the overall movement of a time series.\n",
        "- Seasonality is the third plot which shows periodical ups and downs in the data.\n",
        "- The last graph show the residuals.After eliminating the trend and seasonal components from the time series, this was generated. If the residual is steady in the end, Then our data has a stationary structure and is prepared to go on to the modeling phase. but my data in residuals at end is not stedy so in next step we need to do the stationarity check and differencing"
      ],
      "metadata": {
        "id": "tOxQbIPDfaY5"
      }
    },
    {
      "cell_type": "code",
      "source": [
        "df"
      ],
      "metadata": {
        "id": "R8f-FMjTKqLN",
        "colab": {
          "base_uri": "https://localhost:8080/",
          "height": 455
        },
        "outputId": "f568042b-e38b-485a-d725-15ff27cecc76"
      },
      "execution_count": null,
      "outputs": [
        {
          "output_type": "execute_result",
          "data": {
            "text/plain": [
              "                   TOTAL\n",
              "Year                    \n",
              "2000-03-01  3.020299e+07\n",
              "2000-04-01  3.128255e+07\n",
              "2000-05-01  3.236212e+07\n",
              "2000-06-01  3.344169e+07\n",
              "2000-07-01  3.364735e+07\n",
              "...                  ...\n",
              "2022-02-01  5.697686e+07\n",
              "2022-03-01  5.600242e+07\n",
              "2022-04-01  6.244231e+07\n",
              "2022-05-01  6.888221e+07\n",
              "2022-06-01  7.532210e+07\n",
              "\n",
              "[268 rows x 1 columns]"
            ],
            "text/html": [
              "\n",
              "  <div id=\"df-1b641056-b585-4416-9949-0bd4d5f470fa\">\n",
              "    <div class=\"colab-df-container\">\n",
              "      <div>\n",
              "<style scoped>\n",
              "    .dataframe tbody tr th:only-of-type {\n",
              "        vertical-align: middle;\n",
              "    }\n",
              "\n",
              "    .dataframe tbody tr th {\n",
              "        vertical-align: top;\n",
              "    }\n",
              "\n",
              "    .dataframe thead th {\n",
              "        text-align: right;\n",
              "    }\n",
              "</style>\n",
              "<table border=\"1\" class=\"dataframe\">\n",
              "  <thead>\n",
              "    <tr style=\"text-align: right;\">\n",
              "      <th></th>\n",
              "      <th>TOTAL</th>\n",
              "    </tr>\n",
              "    <tr>\n",
              "      <th>Year</th>\n",
              "      <th></th>\n",
              "    </tr>\n",
              "  </thead>\n",
              "  <tbody>\n",
              "    <tr>\n",
              "      <th>2000-03-01</th>\n",
              "      <td>3.020299e+07</td>\n",
              "    </tr>\n",
              "    <tr>\n",
              "      <th>2000-04-01</th>\n",
              "      <td>3.128255e+07</td>\n",
              "    </tr>\n",
              "    <tr>\n",
              "      <th>2000-05-01</th>\n",
              "      <td>3.236212e+07</td>\n",
              "    </tr>\n",
              "    <tr>\n",
              "      <th>2000-06-01</th>\n",
              "      <td>3.344169e+07</td>\n",
              "    </tr>\n",
              "    <tr>\n",
              "      <th>2000-07-01</th>\n",
              "      <td>3.364735e+07</td>\n",
              "    </tr>\n",
              "    <tr>\n",
              "      <th>...</th>\n",
              "      <td>...</td>\n",
              "    </tr>\n",
              "    <tr>\n",
              "      <th>2022-02-01</th>\n",
              "      <td>5.697686e+07</td>\n",
              "    </tr>\n",
              "    <tr>\n",
              "      <th>2022-03-01</th>\n",
              "      <td>5.600242e+07</td>\n",
              "    </tr>\n",
              "    <tr>\n",
              "      <th>2022-04-01</th>\n",
              "      <td>6.244231e+07</td>\n",
              "    </tr>\n",
              "    <tr>\n",
              "      <th>2022-05-01</th>\n",
              "      <td>6.888221e+07</td>\n",
              "    </tr>\n",
              "    <tr>\n",
              "      <th>2022-06-01</th>\n",
              "      <td>7.532210e+07</td>\n",
              "    </tr>\n",
              "  </tbody>\n",
              "</table>\n",
              "<p>268 rows × 1 columns</p>\n",
              "</div>\n",
              "      <button class=\"colab-df-convert\" onclick=\"convertToInteractive('df-1b641056-b585-4416-9949-0bd4d5f470fa')\"\n",
              "              title=\"Convert this dataframe to an interactive table.\"\n",
              "              style=\"display:none;\">\n",
              "        \n",
              "  <svg xmlns=\"http://www.w3.org/2000/svg\" height=\"24px\"viewBox=\"0 0 24 24\"\n",
              "       width=\"24px\">\n",
              "    <path d=\"M0 0h24v24H0V0z\" fill=\"none\"/>\n",
              "    <path d=\"M18.56 5.44l.94 2.06.94-2.06 2.06-.94-2.06-.94-.94-2.06-.94 2.06-2.06.94zm-11 1L8.5 8.5l.94-2.06 2.06-.94-2.06-.94L8.5 2.5l-.94 2.06-2.06.94zm10 10l.94 2.06.94-2.06 2.06-.94-2.06-.94-.94-2.06-.94 2.06-2.06.94z\"/><path d=\"M17.41 7.96l-1.37-1.37c-.4-.4-.92-.59-1.43-.59-.52 0-1.04.2-1.43.59L10.3 9.45l-7.72 7.72c-.78.78-.78 2.05 0 2.83L4 21.41c.39.39.9.59 1.41.59.51 0 1.02-.2 1.41-.59l7.78-7.78 2.81-2.81c.8-.78.8-2.07 0-2.86zM5.41 20L4 18.59l7.72-7.72 1.47 1.35L5.41 20z\"/>\n",
              "  </svg>\n",
              "      </button>\n",
              "      \n",
              "  <style>\n",
              "    .colab-df-container {\n",
              "      display:flex;\n",
              "      flex-wrap:wrap;\n",
              "      gap: 12px;\n",
              "    }\n",
              "\n",
              "    .colab-df-convert {\n",
              "      background-color: #E8F0FE;\n",
              "      border: none;\n",
              "      border-radius: 50%;\n",
              "      cursor: pointer;\n",
              "      display: none;\n",
              "      fill: #1967D2;\n",
              "      height: 32px;\n",
              "      padding: 0 0 0 0;\n",
              "      width: 32px;\n",
              "    }\n",
              "\n",
              "    .colab-df-convert:hover {\n",
              "      background-color: #E2EBFA;\n",
              "      box-shadow: 0px 1px 2px rgba(60, 64, 67, 0.3), 0px 1px 3px 1px rgba(60, 64, 67, 0.15);\n",
              "      fill: #174EA6;\n",
              "    }\n",
              "\n",
              "    [theme=dark] .colab-df-convert {\n",
              "      background-color: #3B4455;\n",
              "      fill: #D2E3FC;\n",
              "    }\n",
              "\n",
              "    [theme=dark] .colab-df-convert:hover {\n",
              "      background-color: #434B5C;\n",
              "      box-shadow: 0px 1px 3px 1px rgba(0, 0, 0, 0.15);\n",
              "      filter: drop-shadow(0px 1px 2px rgba(0, 0, 0, 0.3));\n",
              "      fill: #FFFFFF;\n",
              "    }\n",
              "  </style>\n",
              "\n",
              "      <script>\n",
              "        const buttonEl =\n",
              "          document.querySelector('#df-1b641056-b585-4416-9949-0bd4d5f470fa button.colab-df-convert');\n",
              "        buttonEl.style.display =\n",
              "          google.colab.kernel.accessAllowed ? 'block' : 'none';\n",
              "\n",
              "        async function convertToInteractive(key) {\n",
              "          const element = document.querySelector('#df-1b641056-b585-4416-9949-0bd4d5f470fa');\n",
              "          const dataTable =\n",
              "            await google.colab.kernel.invokeFunction('convertToInteractive',\n",
              "                                                     [key], {});\n",
              "          if (!dataTable) return;\n",
              "\n",
              "          const docLinkHtml = 'Like what you see? Visit the ' +\n",
              "            '<a target=\"_blank\" href=https://colab.research.google.com/notebooks/data_table.ipynb>data table notebook</a>'\n",
              "            + ' to learn more about interactive tables.';\n",
              "          element.innerHTML = '';\n",
              "          dataTable['output_type'] = 'display_data';\n",
              "          await google.colab.output.renderOutput(dataTable, element);\n",
              "          const docLink = document.createElement('div');\n",
              "          docLink.innerHTML = docLinkHtml;\n",
              "          element.appendChild(docLink);\n",
              "        }\n",
              "      </script>\n",
              "    </div>\n",
              "  </div>\n",
              "  "
            ]
          },
          "metadata": {},
          "execution_count": 11
        }
      ]
    },
    {
      "cell_type": "markdown",
      "source": [
        "## Stationarity Check\n",
        "- Before Modeling the data we need to Check the Stationarity of the data\n",
        "- if the Data is not stationary then we need to make the data stationary by differencing the data.\n",
        "- A stationary data is one whose properties do not depend on the previous values of data at which the series is observed. \n",
        "- the trend and seasonality will affect the value of the time series at different times."
      ],
      "metadata": {
        "id": "hX6KTob2iuPC"
      }
    },
    {
      "cell_type": "markdown",
      "source": [
        "### ADF (Augmented Dickey Fuller)\n",
        "- ADF test is one of the statistical check to see wheather the data is Stationary or not"
      ],
      "metadata": {
        "id": "lDJbUWu8J1BD"
      }
    },
    {
      "cell_type": "code",
      "source": [
        "from statsmodels.tsa.stattools import adfuller\n",
        "stat_test = adfuller(df)\n",
        "print('The statistic value is {} and p-value is {}'.format(stat_test[0], stat_test[1]))"
      ],
      "metadata": {
        "id": "yF3cpnQxx7-N",
        "colab": {
          "base_uri": "https://localhost:8080/"
        },
        "outputId": "55ab472a-7ea3-4e1d-bfa5-46cf17ad105b"
      },
      "execution_count": null,
      "outputs": [
        {
          "output_type": "stream",
          "name": "stdout",
          "text": [
            "The statistic value is -1.9218267237545246 and p-value is 0.32186381639991424\n"
          ]
        }
      ]
    },
    {
      "cell_type": "markdown",
      "source": [
        "- the p-value of the data suggests that the time series is non-stationary as it is higher than 0.05 \n",
        "- Now we need to make the Data Stationary by applying differencing to it"
      ],
      "metadata": {
        "id": "t1cNoNjYpcMA"
      }
    },
    {
      "cell_type": "markdown",
      "source": [
        "#### ACF test is also one  of the statistical check to see wheather the data is Stationary or not"
      ],
      "metadata": {
        "id": "ZNVxTUEsp52A"
      }
    },
    {
      "cell_type": "markdown",
      "source": [
        "### ACF (Auto Correlation Function)\n",
        "- The longer of the bar in the acf plot, the more dependence a series has."
      ],
      "metadata": {
        "id": "OjYFvGSoKG3n"
      }
    },
    {
      "cell_type": "code",
      "source": [
        "import statsmodels.api as sm\n",
        "fig, ax = plt.subplots(figsize = (10 , 7))\n",
        "sm.graphics.tsa.plot_acf(df, lags=20,ax =ax);"
      ],
      "metadata": {
        "id": "PxiIafyryOcF",
        "colab": {
          "base_uri": "https://localhost:8080/",
          "height": 444
        },
        "outputId": "7feb608d-61b6-4bbf-9a96-1c70a018bc4e"
      },
      "execution_count": null,
      "outputs": [
        {
          "output_type": "display_data",
          "data": {
            "text/plain": [
              "<Figure size 720x504 with 1 Axes>"
            ],
            "image/png": "[encoded data removed]"
          },
          "metadata": {
            "needs_background": "light"
          }
        }
      ]
    },
    {
      "cell_type": "markdown",
      "source": [
        "- The acf plot indicates that acf is slowly decaying, which is an indicator of non-stationarity.\n",
        "- The Blue Shaded area represents the confidence interval\n",
        "- If the bar falls inside this confidence interval, it means that there is no significant correlation between the lag and current node. it is used to identife the optimal lag\n",
        "- this order of this ACF model is used in the MOving Average "
      ],
      "metadata": {
        "id": "0dXnbU3UqpE1"
      }
    },
    {
      "cell_type": "markdown",
      "source": [
        "### PACF \n",
        "- PACF is another model to check the stationarity of data \n",
        "- PACF model provides information on correlation between current value of a time series and its lagged values controlling for the other correlations."
      ],
      "metadata": {
        "id": "rkbeYCExKNua"
      }
    },
    {
      "cell_type": "code",
      "source": [
        "fig, ax = plt.subplots(figsize = (10 , 7))\n",
        "sm.graphics.tsa.plot_pacf(df, lags=10,ax =ax);"
      ],
      "metadata": {
        "id": "86GSw3dtyisW",
        "colab": {
          "base_uri": "https://localhost:8080/",
          "height": 444
        },
        "outputId": "4cb21eb7-6aab-4715-ae64-13b6d9142c6d"
      },
      "execution_count": null,
      "outputs": [
        {
          "output_type": "display_data",
          "data": {
            "text/plain": [
              "<Figure size 720x504 with 1 Axes>"
            ],
            "image/png": "[encoded data removed]"
          },
          "metadata": {
            "needs_background": "light"
          }
        }
      ]
    },
    {
      "cell_type": "markdown",
      "source": [
        "### Differencing\n",
        "- Inorder to make the data stationary we need to differentiate the data \n",
        "- we can differeniate the data n times until the p value in ADF is below 0.05"
      ],
      "metadata": {
        "id": "RuwTdG1jKRD6"
      }
    },
    {
      "cell_type": "code",
      "source": [
        "df_diff = df.diff()"
      ],
      "metadata": {
        "id": "oJyqo-mElCYv"
      },
      "execution_count": null,
      "outputs": []
    },
    {
      "cell_type": "code",
      "source": [
        "fig, ax = plt.subplots(figsize = (10 , 7))\n",
        "df_diff = df_diff.dropna()\n",
        "df_diff.plot(ax = ax)"
      ],
      "metadata": {
        "id": "SXO2A-TxlCLz",
        "colab": {
          "base_uri": "https://localhost:8080/",
          "height": 470
        },
        "outputId": "3550b110-885a-4514-ee72-29f28f300829"
      },
      "execution_count": null,
      "outputs": [
        {
          "output_type": "execute_result",
          "data": {
            "text/plain": [
              "<matplotlib.axes._subplots.AxesSubplot at 0x7f809497e6d0>"
            ]
          },
          "metadata": {},
          "execution_count": 16
        },
        {
          "output_type": "display_data",
          "data": {
            "text/plain": [
              "<Figure size 720x504 with 1 Axes>"
            ],
            "image/png": "[encoded data removed]"
          },
          "metadata": {
            "needs_background": "light"
          }
        }
      ]
    },
    {
      "cell_type": "markdown",
      "source": [
        "### ADF"
      ],
      "metadata": {
        "id": "Dn8ERoWoKgy-"
      }
    },
    {
      "cell_type": "code",
      "source": [
        "from statsmodels.tsa.stattools import adfuller\n",
        "stat_test = adfuller(df_diff)\n",
        "print('The statistic value is {} and p-value is {}'.format(stat_test[0], stat_test[1]))"
      ],
      "metadata": {
        "id": "gW7oUPMGKgfW",
        "colab": {
          "base_uri": "https://localhost:8080/"
        },
        "outputId": "861caf10-cbde-4b2a-b56b-a488667407bf"
      },
      "execution_count": null,
      "outputs": [
        {
          "output_type": "stream",
          "name": "stdout",
          "text": [
            "The statistic value is -3.426113249767509 and p-value is 0.010100237992522456\n"
          ]
        }
      ]
    },
    {
      "cell_type": "markdown",
      "source": [
        "- the p-value is below 0.05 \n",
        "- now data become stationary "
      ],
      "metadata": {
        "id": "zJloRn7XvtC0"
      }
    },
    {
      "cell_type": "code",
      "source": [
        "from random import randrange\n",
        "from pandas import Series\n",
        "from matplotlib import pyplot\n",
        "from statsmodels.tsa.seasonal import seasonal_decompose\n",
        "#series = [i+randrange(10) for i in range(1,100)]\n",
        "result = seasonal_decompose(df_diff, model='additive', period=12)\n",
        "result.plot()\n",
        "pyplot.show()"
      ],
      "metadata": {
        "colab": {
          "base_uri": "https://localhost:8080/",
          "height": 297
        },
        "id": "Lk4WMaq1HRRO",
        "outputId": "911f2af1-39cd-4250-b443-a7f2315e9b1d"
      },
      "execution_count": null,
      "outputs": [
        {
          "output_type": "display_data",
          "data": {
            "text/plain": [
              "<Figure size 432x288 with 4 Axes>"
            ],
            "image/png": "[encoded data removed]"
          },
          "metadata": {
            "needs_background": "light"
          }
        }
      ]
    },
    {
      "cell_type": "markdown",
      "source": [
        "### ACF"
      ],
      "metadata": {
        "id": "SlUytCIUKdgH"
      }
    },
    {
      "cell_type": "code",
      "source": [
        "fig, ax = plt.subplots(figsize = (10 , 7))\n",
        "sm.graphics.tsa.plot_acf(df_diff, lags=20,ax =ax);"
      ],
      "metadata": {
        "id": "oZ_UHuxdlCHv",
        "colab": {
          "base_uri": "https://localhost:8080/",
          "height": 444
        },
        "outputId": "9a3ed586-dc66-4eba-f69e-1f9b344b31ec"
      },
      "execution_count": null,
      "outputs": [
        {
          "output_type": "display_data",
          "data": {
            "text/plain": [
              "<Figure size 720x504 with 1 Axes>"
            ],
            "image/png": "[encoded data removed]"
          },
          "metadata": {
            "needs_background": "light"
          }
        }
      ]
    },
    {
      "cell_type": "markdown",
      "source": [
        "- The above-given acf plot exhibits that there is a spike at the 2nd and \n",
        "6th lags.\n",
        "- the larger lag work better so i choose lag 2nd\n"
      ],
      "metadata": {
        "id": "iCsGDgfXwGDL"
      }
    },
    {
      "cell_type": "markdown",
      "source": [
        "### PACF"
      ],
      "metadata": {
        "id": "WolPpi6VKfAM"
      }
    },
    {
      "cell_type": "code",
      "source": [
        "fig, ax = plt.subplots(figsize = (10 , 7))\n",
        "sm.graphics.tsa.plot_pacf(df_diff, lags=10,ax =ax);"
      ],
      "metadata": {
        "id": "bvjd4eVClCAY",
        "colab": {
          "base_uri": "https://localhost:8080/",
          "height": 444
        },
        "outputId": "d91e79d6-f0f0-42d2-ec23-38082ee33f2c"
      },
      "execution_count": null,
      "outputs": [
        {
          "output_type": "display_data",
          "data": {
            "text/plain": [
              "<Figure size 720x504 with 1 Axes>"
            ],
            "image/png": "[encoded data removed]"
          },
          "metadata": {
            "needs_background": "light"
          }
        }
      ]
    },
    {
      "cell_type": "markdown",
      "source": [
        "- The above-given pacf plot exhibits that there is a spike at mostly all lags \n",
        "- the larger lag(Spike) work better so i choose lag 7th. \n"
      ],
      "metadata": {
        "id": "xZZ2w_wTwtx4"
      }
    },
    {
      "cell_type": "markdown",
      "source": [
        "## Moving Average"
      ],
      "metadata": {
        "id": "WQvRu52Qnua_"
      }
    },
    {
      "cell_type": "code",
      "source": [
        "import warnings\n",
        "from statsmodels.tools.sm_exceptions import ConvergenceWarning\n",
        "warnings.simplefilter('ignore', ConvergenceWarning)"
      ],
      "metadata": {
        "id": "mTgztMiXS8yp"
      },
      "execution_count": null,
      "outputs": []
    },
    {
      "cell_type": "code",
      "source": [
        "df_diff = df.diff().dropna()"
      ],
      "metadata": {
        "id": "ztKlUfaoZnmi"
      },
      "execution_count": null,
      "outputs": []
    },
    {
      "cell_type": "code",
      "source": [
        "from statsmodels.tsa.arima.model import ARIMA\n",
        "from sklearn.metrics import mean_absolute_error, mean_squared_error"
      ],
      "metadata": {
        "id": "-Pj2oNAHzHFO"
      },
      "execution_count": null,
      "outputs": []
    },
    {
      "cell_type": "code",
      "source": [
        "train_len = int(len(df_diff) * 0.75)\n",
        "dtrain = df_diff[:train_len]\n",
        "dtest  = df_diff[train_len:]"
      ],
      "metadata": {
        "id": "WRyWG5uTzNXz"
      },
      "execution_count": null,
      "outputs": []
    },
    {
      "cell_type": "code",
      "source": [
        "start = len(dtrain)\n",
        "end = len(dtrain) + len(dtest) - 1"
      ],
      "metadata": {
        "id": "mnbJ9o_OzrnO"
      },
      "execution_count": null,
      "outputs": []
    },
    {
      "cell_type": "code",
      "source": [
        "ma_model = ARIMA(dtrain, order=(0, 0, 6))\n",
        "ma_result = ma_model.fit()"
      ],
      "metadata": {
        "id": "irqu4vUpzKQK"
      },
      "execution_count": null,
      "outputs": []
    },
    {
      "cell_type": "code",
      "source": [
        "ma_pred = ma_result.predict(start, end)\n",
        "ma_pred.index = dtest.index"
      ],
      "metadata": {
        "id": "81nvoryMzrjt"
      },
      "execution_count": null,
      "outputs": []
    },
    {
      "cell_type": "code",
      "source": [
        "fig, ax = plt.subplots(figsize = (10 , 7))\n",
        "plt.plot(dtrain.index,dtrain, label = 'Train')\n",
        "plt.plot(dtest.index,dtest, label = 'Test')\n",
        "plt.plot(ma_pred.index,ma_pred, label = 'Prediction')\n",
        "plt.title(\"MA Predictions\")\n",
        "plt.legend()\n",
        "plt.xlabel('Date')\n",
        "plt.ylabel('Frequency')\n",
        "plt.show()"
      ],
      "metadata": {
        "id": "XDukZCVtzgpi",
        "colab": {
          "base_uri": "https://localhost:8080/",
          "height": 458
        },
        "outputId": "44ae54ad-0abc-4269-85db-f01c1d2430f5"
      },
      "execution_count": null,
      "outputs": [
        {
          "output_type": "display_data",
          "data": {
            "text/plain": [
              "<Figure size 720x504 with 1 Axes>"
            ],
            "image/png": "[encoded data removed]"
          },
          "metadata": {
            "needs_background": "light"
          }
        }
      ]
    },
    {
      "cell_type": "code",
      "source": [
        "mae_MA = mean_absolute_error(dtest, ma_pred)\n",
        "mse_MA = mean_squared_error(dtest, ma_pred)\n",
        "rmse_MA = np.sqrt(mean_squared_error(dtest, ma_pred))"
      ],
      "metadata": {
        "id": "RiH1tiS9zt2b"
      },
      "execution_count": null,
      "outputs": []
    },
    {
      "cell_type": "code",
      "source": [
        "print(\"Predictive Performance of \\nMAE = {}  \\nMSE = {} \\nRMSE ={} \".format(mae_MA ,mse_MA, rmse_MA))"
      ],
      "metadata": {
        "id": "UC6AJeTGoGZ-",
        "colab": {
          "base_uri": "https://localhost:8080/"
        },
        "outputId": "1a4aef7c-711c-419f-ae99-730e2358ffa7"
      },
      "execution_count": null,
      "outputs": [
        {
          "output_type": "stream",
          "name": "stdout",
          "text": [
            "Predictive Performance of \n",
            "MAE = 2031937.2170573883  \n",
            "MSE = 9532594806548.484 \n",
            "RMSE =3087490.049627445 \n"
          ]
        }
      ]
    },
    {
      "cell_type": "code",
      "source": [
        "ma_perf = {'mae_MA': mae_MA,\n",
        "             'mse_MA':mse_MA,\n",
        "             'rmse_MA':rmse_MA}\n",
        "ma_perf = pd.DataFrame([ma_perf])\n",
        "ma_perf"
      ],
      "metadata": {
        "id": "-qYrV8lVL5lh",
        "colab": {
          "base_uri": "https://localhost:8080/",
          "height": 81
        },
        "outputId": "706cd792-84ec-48db-aaa1-0acbfe9df191"
      },
      "execution_count": null,
      "outputs": [
        {
          "output_type": "execute_result",
          "data": {
            "text/plain": [
              "         mae_MA        mse_MA       rmse_MA\n",
              "0  2.031937e+06  9.532595e+12  3.087490e+06"
            ],
            "text/html": [
              "\n",
              "  <div id=\"df-977a5c2f-dfcc-4d61-b1a2-ffdc9ee72711\">\n",
              "    <div class=\"colab-df-container\">\n",
              "      <div>\n",
              "<style scoped>\n",
              "    .dataframe tbody tr th:only-of-type {\n",
              "        vertical-align: middle;\n",
              "    }\n",
              "\n",
              "    .dataframe tbody tr th {\n",
              "        vertical-align: top;\n",
              "    }\n",
              "\n",
              "    .dataframe thead th {\n",
              "        text-align: right;\n",
              "    }\n",
              "</style>\n",
              "<table border=\"1\" class=\"dataframe\">\n",
              "  <thead>\n",
              "    <tr style=\"text-align: right;\">\n",
              "      <th></th>\n",
              "      <th>mae_MA</th>\n",
              "      <th>mse_MA</th>\n",
              "      <th>rmse_MA</th>\n",
              "    </tr>\n",
              "  </thead>\n",
              "  <tbody>\n",
              "    <tr>\n",
              "      <th>0</th>\n",
              "      <td>2.031937e+06</td>\n",
              "      <td>9.532595e+12</td>\n",
              "      <td>3.087490e+06</td>\n",
              "    </tr>\n",
              "  </tbody>\n",
              "</table>\n",
              "</div>\n",
              "      <button class=\"colab-df-convert\" onclick=\"convertToInteractive('df-977a5c2f-dfcc-4d61-b1a2-ffdc9ee72711')\"\n",
              "              title=\"Convert this dataframe to an interactive table.\"\n",
              "              style=\"display:none;\">\n",
              "        \n",
              "  <svg xmlns=\"http://www.w3.org/2000/svg\" height=\"24px\"viewBox=\"0 0 24 24\"\n",
              "       width=\"24px\">\n",
              "    <path d=\"M0 0h24v24H0V0z\" fill=\"none\"/>\n",
              "    <path d=\"M18.56 5.44l.94 2.06.94-2.06 2.06-.94-2.06-.94-.94-2.06-.94 2.06-2.06.94zm-11 1L8.5 8.5l.94-2.06 2.06-.94-2.06-.94L8.5 2.5l-.94 2.06-2.06.94zm10 10l.94 2.06.94-2.06 2.06-.94-2.06-.94-.94-2.06-.94 2.06-2.06.94z\"/><path d=\"M17.41 7.96l-1.37-1.37c-.4-.4-.92-.59-1.43-.59-.52 0-1.04.2-1.43.59L10.3 9.45l-7.72 7.72c-.78.78-.78 2.05 0 2.83L4 21.41c.39.39.9.59 1.41.59.51 0 1.02-.2 1.41-.59l7.78-7.78 2.81-2.81c.8-.78.8-2.07 0-2.86zM5.41 20L4 18.59l7.72-7.72 1.47 1.35L5.41 20z\"/>\n",
              "  </svg>\n",
              "      </button>\n",
              "      \n",
              "  <style>\n",
              "    .colab-df-container {\n",
              "      display:flex;\n",
              "      flex-wrap:wrap;\n",
              "      gap: 12px;\n",
              "    }\n",
              "\n",
              "    .colab-df-convert {\n",
              "      background-color: #E8F0FE;\n",
              "      border: none;\n",
              "      border-radius: 50%;\n",
              "      cursor: pointer;\n",
              "      display: none;\n",
              "      fill: #1967D2;\n",
              "      height: 32px;\n",
              "      padding: 0 0 0 0;\n",
              "      width: 32px;\n",
              "    }\n",
              "\n",
              "    .colab-df-convert:hover {\n",
              "      background-color: #E2EBFA;\n",
              "      box-shadow: 0px 1px 2px rgba(60, 64, 67, 0.3), 0px 1px 3px 1px rgba(60, 64, 67, 0.15);\n",
              "      fill: #174EA6;\n",
              "    }\n",
              "\n",
              "    [theme=dark] .colab-df-convert {\n",
              "      background-color: #3B4455;\n",
              "      fill: #D2E3FC;\n",
              "    }\n",
              "\n",
              "    [theme=dark] .colab-df-convert:hover {\n",
              "      background-color: #434B5C;\n",
              "      box-shadow: 0px 1px 3px 1px rgba(0, 0, 0, 0.15);\n",
              "      filter: drop-shadow(0px 1px 2px rgba(0, 0, 0, 0.3));\n",
              "      fill: #FFFFFF;\n",
              "    }\n",
              "  </style>\n",
              "\n",
              "      <script>\n",
              "        const buttonEl =\n",
              "          document.querySelector('#df-977a5c2f-dfcc-4d61-b1a2-ffdc9ee72711 button.colab-df-convert');\n",
              "        buttonEl.style.display =\n",
              "          google.colab.kernel.accessAllowed ? 'block' : 'none';\n",
              "\n",
              "        async function convertToInteractive(key) {\n",
              "          const element = document.querySelector('#df-977a5c2f-dfcc-4d61-b1a2-ffdc9ee72711');\n",
              "          const dataTable =\n",
              "            await google.colab.kernel.invokeFunction('convertToInteractive',\n",
              "                                                     [key], {});\n",
              "          if (!dataTable) return;\n",
              "\n",
              "          const docLinkHtml = 'Like what you see? Visit the ' +\n",
              "            '<a target=\"_blank\" href=https://colab.research.google.com/notebooks/data_table.ipynb>data table notebook</a>'\n",
              "            + ' to learn more about interactive tables.';\n",
              "          element.innerHTML = '';\n",
              "          dataTable['output_type'] = 'display_data';\n",
              "          await google.colab.output.renderOutput(dataTable, element);\n",
              "          const docLink = document.createElement('div');\n",
              "          docLink.innerHTML = docLinkHtml;\n",
              "          element.appendChild(docLink);\n",
              "        }\n",
              "      </script>\n",
              "    </div>\n",
              "  </div>\n",
              "  "
            ]
          },
          "metadata": {},
          "execution_count": 31
        }
      ]
    },
    {
      "cell_type": "code",
      "source": [
        "ma_model = ARIMA(df_diff, order=(0, 0, 6))\n",
        "ma_result = ma_model.fit()"
      ],
      "metadata": {
        "id": "tbwpEc6nHtPQ",
        "colab": {
          "base_uri": "https://localhost:8080/"
        },
        "outputId": "019f0248-2d9e-4b1d-db95-6ff242dab725"
      },
      "execution_count": null,
      "outputs": [
        {
          "output_type": "stream",
          "name": "stderr",
          "text": [
            "/usr/local/lib/python3.8/dist-packages/statsmodels/tsa/statespace/sarimax.py:978: UserWarning: Non-invertible starting MA parameters found. Using zeros as starting parameters.\n",
            "  warn('Non-invertible starting MA parameters found.'\n"
          ]
        }
      ]
    },
    {
      "cell_type": "code",
      "source": [
        "forecast_index = pd.date_range(dtest.index[-1]+ pd.DateOffset(months=1), periods=24 ,freq = 'MS')\n",
        "ma_forecast = ma_result.forecast(steps=24)\n",
        "ma_forecast.index = forecast_index"
      ],
      "metadata": {
        "id": "O8Kr2G2Qz1uE"
      },
      "execution_count": null,
      "outputs": []
    },
    {
      "cell_type": "code",
      "source": [],
      "metadata": {
        "id": "UCVhjeB5eZKc"
      },
      "execution_count": null,
      "outputs": []
    },
    {
      "cell_type": "code",
      "source": [
        "fig, ax = plt.subplots(figsize = (10 , 7))\n",
        "plt.plot(df_diff.index, df_diff, label='Actual')\n",
        "plt.plot(ma_forecast.index, ma_forecast, label='Forecast')\n",
        "plt.legend()\n",
        "plt.title('MA Forecasts')\n",
        "plt.xlabel('Dates')\n",
        "plt.show()"
      ],
      "metadata": {
        "id": "NVXDIn9dz-Vz",
        "colab": {
          "base_uri": "https://localhost:8080/",
          "height": 458
        },
        "outputId": "b34e9357-5362-46c0-80e8-0902c683fbe2"
      },
      "execution_count": null,
      "outputs": [
        {
          "output_type": "display_data",
          "data": {
            "text/plain": [
              "<Figure size 720x504 with 1 Axes>"
            ],
            "image/png": "[encoded data removed]"
          },
          "metadata": {
            "needs_background": "light"
          }
        }
      ]
    },
    {
      "cell_type": "markdown",
      "source": [
        "## Autoregressive model"
      ],
      "metadata": {
        "id": "rpnnKPxYoRV0"
      }
    },
    {
      "cell_type": "code",
      "source": [
        "train_lenarm = int(len(df_diff) * 0.75)\n",
        "dtrain_arm = df_diff[:train_lenarm]\n",
        "dtest_arm  = df_diff[train_lenarm:]"
      ],
      "metadata": {
        "id": "tBC5c8OmoUsx"
      },
      "execution_count": null,
      "outputs": []
    },
    {
      "cell_type": "code",
      "source": [
        "start = len(dtrain_arm)\n",
        "end = len(dtrain_arm) + len(dtest_arm) - 1"
      ],
      "metadata": {
        "id": "d4LVAGkssgXA"
      },
      "execution_count": null,
      "outputs": []
    },
    {
      "cell_type": "code",
      "source": [
        "arm_model = ARIMA(dtrain_arm, order=(3, 0, 0))\n",
        "arm_result = arm_model.fit()"
      ],
      "metadata": {
        "id": "rQfi5tjkx43z"
      },
      "execution_count": null,
      "outputs": []
    },
    {
      "cell_type": "code",
      "source": [
        "arm_pred = arm_result.predict(start, end)\n",
        "arm_pred.index = dtest_arm.index"
      ],
      "metadata": {
        "id": "1hwoha6hsiAX"
      },
      "execution_count": null,
      "outputs": []
    },
    {
      "cell_type": "code",
      "source": [
        "fig, ax = plt.subplots(figsize = (10 , 7))\n",
        "plt.plot(dtrain_arm.index,dtrain_arm, label = 'Train')\n",
        "plt.plot(dtest_arm.index,dtest_arm, label = 'Test')\n",
        "plt.plot(arm_pred.index,arm_pred, label = 'Prediction')\n",
        "plt.title(\"ARM Predictions\")\n",
        "plt.legend()\n",
        "plt.xlabel('Date')\n",
        "plt.ylabel('Frequency')\n",
        "plt.show()"
      ],
      "metadata": {
        "id": "wn2q_fuWsj8V",
        "colab": {
          "base_uri": "https://localhost:8080/",
          "height": 458
        },
        "outputId": "2f3447b0-4935-43bb-b650-d33ea58ce82e"
      },
      "execution_count": null,
      "outputs": [
        {
          "output_type": "display_data",
          "data": {
            "text/plain": [
              "<Figure size 720x504 with 1 Axes>"
            ],
            "image/png": "[encoded data removed]"
          },
          "metadata": {
            "needs_background": "light"
          }
        }
      ]
    },
    {
      "cell_type": "code",
      "source": [
        "arm_model = ARIMA(df_diff, order=(3, 0, 0))\n",
        "arm_result = arm_model.fit()"
      ],
      "metadata": {
        "id": "Ds7FsdC0zUYN"
      },
      "execution_count": null,
      "outputs": []
    },
    {
      "cell_type": "code",
      "source": [
        "forecast_indexarm = pd.date_range(df_diff.index[-1]+ pd.DateOffset(months=1), periods=24 ,freq = 'MS')"
      ],
      "metadata": {
        "id": "Fd8E9P_jsmqH"
      },
      "execution_count": null,
      "outputs": []
    },
    {
      "cell_type": "code",
      "source": [
        "arm_forecast = arm_result.forecast(steps=24)\n",
        "arm_forecast.index = forecast_indexarm"
      ],
      "metadata": {
        "id": "knYA6gUcsotJ"
      },
      "execution_count": null,
      "outputs": []
    },
    {
      "cell_type": "code",
      "source": [
        "fig, ax = plt.subplots(figsize = (10 , 7))\n",
        "plt.plot(df_diff.index, df_diff, label='Actual')\n",
        "plt.plot(arm_forecast.index, arm_forecast, label='Forecast')\n",
        "plt.legend()\n",
        "plt.title('ARM Forecasts')\n",
        "plt.xlabel('Dates')\n",
        "plt.show()"
      ],
      "metadata": {
        "id": "H_qpo8PZsqkw",
        "colab": {
          "base_uri": "https://localhost:8080/",
          "height": 458
        },
        "outputId": "862266a1-6c5a-41b9-a088-4783df4133a7"
      },
      "execution_count": null,
      "outputs": [
        {
          "output_type": "display_data",
          "data": {
            "text/plain": [
              "<Figure size 720x504 with 1 Axes>"
            ],
            "image/png": "[encoded data removed]"
          },
          "metadata": {
            "needs_background": "light"
          }
        }
      ]
    },
    {
      "cell_type": "code",
      "source": [
        "mae_arm = mean_absolute_error(dtest_arm, arm_pred)\n",
        "mse_arm = mean_squared_error(dtest_arm, arm_pred)\n",
        "rmse_arm = np.sqrt(mean_squared_error(dtest_arm, arm_pred))\n",
        "print(\"Predictive Performance of Autoregressive model is \\nMAE = {}  \\nMSE = {} \\nRMSE ={} \".format(mae_arm ,mse_arm, rmse_arm))"
      ],
      "metadata": {
        "id": "0RvoMuUAssYt",
        "colab": {
          "base_uri": "https://localhost:8080/"
        },
        "outputId": "93263a94-8e68-41b7-b7a3-ff754bf3fa4e"
      },
      "execution_count": null,
      "outputs": [
        {
          "output_type": "stream",
          "name": "stdout",
          "text": [
            "Predictive Performance of Autoregressive model is \n",
            "MAE = 2035881.3735889925  \n",
            "MSE = 9518187655345.832 \n",
            "RMSE =3085156.0179909593 \n"
          ]
        }
      ]
    },
    {
      "cell_type": "code",
      "source": [
        "ar_perf = {'mae_ARM': mae_arm,\n",
        "             'mse_ARM':mse_arm,\n",
        "             'rmse_ARM':rmse_arm}\n",
        "ar_perf = pd.DataFrame([ar_perf])\n",
        "ar_perf"
      ],
      "metadata": {
        "id": "DVwv3XSUMbu8",
        "colab": {
          "base_uri": "https://localhost:8080/",
          "height": 81
        },
        "outputId": "7d954239-fc3b-44b0-b584-b923199e289b"
      },
      "execution_count": null,
      "outputs": [
        {
          "output_type": "execute_result",
          "data": {
            "text/plain": [
              "        mae_ARM       mse_ARM      rmse_ARM\n",
              "0  2.035881e+06  9.518188e+12  3.085156e+06"
            ],
            "text/html": [
              "\n",
              "  <div id=\"df-bb1a0d5f-d93a-47c5-bc7c-f93bf93ee80d\">\n",
              "    <div class=\"colab-df-container\">\n",
              "      <div>\n",
              "<style scoped>\n",
              "    .dataframe tbody tr th:only-of-type {\n",
              "        vertical-align: middle;\n",
              "    }\n",
              "\n",
              "    .dataframe tbody tr th {\n",
              "        vertical-align: top;\n",
              "    }\n",
              "\n",
              "    .dataframe thead th {\n",
              "        text-align: right;\n",
              "    }\n",
              "</style>\n",
              "<table border=\"1\" class=\"dataframe\">\n",
              "  <thead>\n",
              "    <tr style=\"text-align: right;\">\n",
              "      <th></th>\n",
              "      <th>mae_ARM</th>\n",
              "      <th>mse_ARM</th>\n",
              "      <th>rmse_ARM</th>\n",
              "    </tr>\n",
              "  </thead>\n",
              "  <tbody>\n",
              "    <tr>\n",
              "      <th>0</th>\n",
              "      <td>2.035881e+06</td>\n",
              "      <td>9.518188e+12</td>\n",
              "      <td>3.085156e+06</td>\n",
              "    </tr>\n",
              "  </tbody>\n",
              "</table>\n",
              "</div>\n",
              "      <button class=\"colab-df-convert\" onclick=\"convertToInteractive('df-bb1a0d5f-d93a-47c5-bc7c-f93bf93ee80d')\"\n",
              "              title=\"Convert this dataframe to an interactive table.\"\n",
              "              style=\"display:none;\">\n",
              "        \n",
              "  <svg xmlns=\"http://www.w3.org/2000/svg\" height=\"24px\"viewBox=\"0 0 24 24\"\n",
              "       width=\"24px\">\n",
              "    <path d=\"M0 0h24v24H0V0z\" fill=\"none\"/>\n",
              "    <path d=\"M18.56 5.44l.94 2.06.94-2.06 2.06-.94-2.06-.94-.94-2.06-.94 2.06-2.06.94zm-11 1L8.5 8.5l.94-2.06 2.06-.94-2.06-.94L8.5 2.5l-.94 2.06-2.06.94zm10 10l.94 2.06.94-2.06 2.06-.94-2.06-.94-.94-2.06-.94 2.06-2.06.94z\"/><path d=\"M17.41 7.96l-1.37-1.37c-.4-.4-.92-.59-1.43-.59-.52 0-1.04.2-1.43.59L10.3 9.45l-7.72 7.72c-.78.78-.78 2.05 0 2.83L4 21.41c.39.39.9.59 1.41.59.51 0 1.02-.2 1.41-.59l7.78-7.78 2.81-2.81c.8-.78.8-2.07 0-2.86zM5.41 20L4 18.59l7.72-7.72 1.47 1.35L5.41 20z\"/>\n",
              "  </svg>\n",
              "      </button>\n",
              "      \n",
              "  <style>\n",
              "    .colab-df-container {\n",
              "      display:flex;\n",
              "      flex-wrap:wrap;\n",
              "      gap: 12px;\n",
              "    }\n",
              "\n",
              "    .colab-df-convert {\n",
              "      background-color: #E8F0FE;\n",
              "      border: none;\n",
              "      border-radius: 50%;\n",
              "      cursor: pointer;\n",
              "      display: none;\n",
              "      fill: #1967D2;\n",
              "      height: 32px;\n",
              "      padding: 0 0 0 0;\n",
              "      width: 32px;\n",
              "    }\n",
              "\n",
              "    .colab-df-convert:hover {\n",
              "      background-color: #E2EBFA;\n",
              "      box-shadow: 0px 1px 2px rgba(60, 64, 67, 0.3), 0px 1px 3px 1px rgba(60, 64, 67, 0.15);\n",
              "      fill: #174EA6;\n",
              "    }\n",
              "\n",
              "    [theme=dark] .colab-df-convert {\n",
              "      background-color: #3B4455;\n",
              "      fill: #D2E3FC;\n",
              "    }\n",
              "\n",
              "    [theme=dark] .colab-df-convert:hover {\n",
              "      background-color: #434B5C;\n",
              "      box-shadow: 0px 1px 3px 1px rgba(0, 0, 0, 0.15);\n",
              "      filter: drop-shadow(0px 1px 2px rgba(0, 0, 0, 0.3));\n",
              "      fill: #FFFFFF;\n",
              "    }\n",
              "  </style>\n",
              "\n",
              "      <script>\n",
              "        const buttonEl =\n",
              "          document.querySelector('#df-bb1a0d5f-d93a-47c5-bc7c-f93bf93ee80d button.colab-df-convert');\n",
              "        buttonEl.style.display =\n",
              "          google.colab.kernel.accessAllowed ? 'block' : 'none';\n",
              "\n",
              "        async function convertToInteractive(key) {\n",
              "          const element = document.querySelector('#df-bb1a0d5f-d93a-47c5-bc7c-f93bf93ee80d');\n",
              "          const dataTable =\n",
              "            await google.colab.kernel.invokeFunction('convertToInteractive',\n",
              "                                                     [key], {});\n",
              "          if (!dataTable) return;\n",
              "\n",
              "          const docLinkHtml = 'Like what you see? Visit the ' +\n",
              "            '<a target=\"_blank\" href=https://colab.research.google.com/notebooks/data_table.ipynb>data table notebook</a>'\n",
              "            + ' to learn more about interactive tables.';\n",
              "          element.innerHTML = '';\n",
              "          dataTable['output_type'] = 'display_data';\n",
              "          await google.colab.output.renderOutput(dataTable, element);\n",
              "          const docLink = document.createElement('div');\n",
              "          docLink.innerHTML = docLinkHtml;\n",
              "          element.appendChild(docLink);\n",
              "        }\n",
              "      </script>\n",
              "    </div>\n",
              "  </div>\n",
              "  "
            ]
          },
          "metadata": {},
          "execution_count": 45
        }
      ]
    },
    {
      "cell_type": "markdown",
      "source": [
        "## ARMA"
      ],
      "metadata": {
        "id": "PHamLNt1Y8m8"
      }
    },
    {
      "cell_type": "code",
      "source": [
        "train_len = int(len(df_diff) * 0.75)\n",
        "dtrain = df_diff[:train_len]\n",
        "dtest  = df_diff[train_len:]"
      ],
      "metadata": {
        "id": "E9BWOaVIuSz2"
      },
      "execution_count": null,
      "outputs": []
    },
    {
      "cell_type": "code",
      "source": [
        "start = len(dtrain)\n",
        "end = len(dtrain) + len(dtest) - 1"
      ],
      "metadata": {
        "id": "_WBG-xcVY_eh"
      },
      "execution_count": null,
      "outputs": []
    },
    {
      "cell_type": "code",
      "source": [
        "arma_model = ARIMA(dtrain, order=(3, 0, 6))\n",
        "arma_results = arma_model.fit()"
      ],
      "metadata": {
        "id": "wTNvD8EyZBfA"
      },
      "execution_count": null,
      "outputs": []
    },
    {
      "cell_type": "code",
      "source": [
        "arma_pred = arma_results.predict(start, end)\n",
        "arma_pred.index = dtest.index"
      ],
      "metadata": {
        "id": "POFLPbXZZHHW"
      },
      "execution_count": null,
      "outputs": []
    },
    {
      "cell_type": "code",
      "source": [
        "plt.plot(dtrain, label='Train')\n",
        "plt.plot(dtest, label='Test')\n",
        "plt.plot(arma_pred, label='ARMA Predictions')\n",
        "plt.title('ARMA predictions')\n",
        "plt.xlabel('Date')\n",
        "plt.legend()\n",
        "plt.show()"
      ],
      "metadata": {
        "id": "1R3v62rTfSuK",
        "colab": {
          "base_uri": "https://localhost:8080/",
          "height": 295
        },
        "outputId": "7c3b1c22-9536-4e9c-ae17-31deab623625"
      },
      "execution_count": null,
      "outputs": [
        {
          "output_type": "display_data",
          "data": {
            "text/plain": [
              "<Figure size 432x288 with 1 Axes>"
            ],
            "image/png": "[encoded data removed]"
          },
          "metadata": {
            "needs_background": "light"
          }
        }
      ]
    },
    {
      "cell_type": "code",
      "source": [
        "mae_arma = mean_absolute_error(dtest, arma_pred)\n",
        "mse_arma = mean_squared_error(dtest, arma_pred)\n",
        "rmse_arma = np.sqrt(mean_squared_error(dtest, arma_pred))"
      ],
      "metadata": {
        "id": "W8Ee6aNmfZbm"
      },
      "execution_count": null,
      "outputs": []
    },
    {
      "cell_type": "code",
      "source": [
        "arma_perf = {'mae_arma':mae_arma,\n",
        "            'mse_arma':mse_arma,\n",
        "            'rmse_arma':rmse_arma}\n",
        "arma_perf = pd.DataFrame([arma_perf])\n",
        "arma_perf"
      ],
      "metadata": {
        "id": "Fo5d2k-KfdAB",
        "colab": {
          "base_uri": "https://localhost:8080/",
          "height": 81
        },
        "outputId": "acf47750-c745-4b99-986d-2a4b2482f5ea"
      },
      "execution_count": null,
      "outputs": [
        {
          "output_type": "execute_result",
          "data": {
            "text/plain": [
              "       mae_arma      mse_arma     rmse_arma\n",
              "0  1.942005e+06  9.325340e+12  3.053742e+06"
            ],
            "text/html": [
              "\n",
              "  <div id=\"df-29fb521e-f0af-4eee-b787-be4a863f196a\">\n",
              "    <div class=\"colab-df-container\">\n",
              "      <div>\n",
              "<style scoped>\n",
              "    .dataframe tbody tr th:only-of-type {\n",
              "        vertical-align: middle;\n",
              "    }\n",
              "\n",
              "    .dataframe tbody tr th {\n",
              "        vertical-align: top;\n",
              "    }\n",
              "\n",
              "    .dataframe thead th {\n",
              "        text-align: right;\n",
              "    }\n",
              "</style>\n",
              "<table border=\"1\" class=\"dataframe\">\n",
              "  <thead>\n",
              "    <tr style=\"text-align: right;\">\n",
              "      <th></th>\n",
              "      <th>mae_arma</th>\n",
              "      <th>mse_arma</th>\n",
              "      <th>rmse_arma</th>\n",
              "    </tr>\n",
              "  </thead>\n",
              "  <tbody>\n",
              "    <tr>\n",
              "      <th>0</th>\n",
              "      <td>1.942005e+06</td>\n",
              "      <td>9.325340e+12</td>\n",
              "      <td>3.053742e+06</td>\n",
              "    </tr>\n",
              "  </tbody>\n",
              "</table>\n",
              "</div>\n",
              "      <button class=\"colab-df-convert\" onclick=\"convertToInteractive('df-29fb521e-f0af-4eee-b787-be4a863f196a')\"\n",
              "              title=\"Convert this dataframe to an interactive table.\"\n",
              "              style=\"display:none;\">\n",
              "        \n",
              "  <svg xmlns=\"http://www.w3.org/2000/svg\" height=\"24px\"viewBox=\"0 0 24 24\"\n",
              "       width=\"24px\">\n",
              "    <path d=\"M0 0h24v24H0V0z\" fill=\"none\"/>\n",
              "    <path d=\"M18.56 5.44l.94 2.06.94-2.06 2.06-.94-2.06-.94-.94-2.06-.94 2.06-2.06.94zm-11 1L8.5 8.5l.94-2.06 2.06-.94-2.06-.94L8.5 2.5l-.94 2.06-2.06.94zm10 10l.94 2.06.94-2.06 2.06-.94-2.06-.94-.94-2.06-.94 2.06-2.06.94z\"/><path d=\"M17.41 7.96l-1.37-1.37c-.4-.4-.92-.59-1.43-.59-.52 0-1.04.2-1.43.59L10.3 9.45l-7.72 7.72c-.78.78-.78 2.05 0 2.83L4 21.41c.39.39.9.59 1.41.59.51 0 1.02-.2 1.41-.59l7.78-7.78 2.81-2.81c.8-.78.8-2.07 0-2.86zM5.41 20L4 18.59l7.72-7.72 1.47 1.35L5.41 20z\"/>\n",
              "  </svg>\n",
              "      </button>\n",
              "      \n",
              "  <style>\n",
              "    .colab-df-container {\n",
              "      display:flex;\n",
              "      flex-wrap:wrap;\n",
              "      gap: 12px;\n",
              "    }\n",
              "\n",
              "    .colab-df-convert {\n",
              "      background-color: #E8F0FE;\n",
              "      border: none;\n",
              "      border-radius: 50%;\n",
              "      cursor: pointer;\n",
              "      display: none;\n",
              "      fill: #1967D2;\n",
              "      height: 32px;\n",
              "      padding: 0 0 0 0;\n",
              "      width: 32px;\n",
              "    }\n",
              "\n",
              "    .colab-df-convert:hover {\n",
              "      background-color: #E2EBFA;\n",
              "      box-shadow: 0px 1px 2px rgba(60, 64, 67, 0.3), 0px 1px 3px 1px rgba(60, 64, 67, 0.15);\n",
              "      fill: #174EA6;\n",
              "    }\n",
              "\n",
              "    [theme=dark] .colab-df-convert {\n",
              "      background-color: #3B4455;\n",
              "      fill: #D2E3FC;\n",
              "    }\n",
              "\n",
              "    [theme=dark] .colab-df-convert:hover {\n",
              "      background-color: #434B5C;\n",
              "      box-shadow: 0px 1px 3px 1px rgba(0, 0, 0, 0.15);\n",
              "      filter: drop-shadow(0px 1px 2px rgba(0, 0, 0, 0.3));\n",
              "      fill: #FFFFFF;\n",
              "    }\n",
              "  </style>\n",
              "\n",
              "      <script>\n",
              "        const buttonEl =\n",
              "          document.querySelector('#df-29fb521e-f0af-4eee-b787-be4a863f196a button.colab-df-convert');\n",
              "        buttonEl.style.display =\n",
              "          google.colab.kernel.accessAllowed ? 'block' : 'none';\n",
              "\n",
              "        async function convertToInteractive(key) {\n",
              "          const element = document.querySelector('#df-29fb521e-f0af-4eee-b787-be4a863f196a');\n",
              "          const dataTable =\n",
              "            await google.colab.kernel.invokeFunction('convertToInteractive',\n",
              "                                                     [key], {});\n",
              "          if (!dataTable) return;\n",
              "\n",
              "          const docLinkHtml = 'Like what you see? Visit the ' +\n",
              "            '<a target=\"_blank\" href=https://colab.research.google.com/notebooks/data_table.ipynb>data table notebook</a>'\n",
              "            + ' to learn more about interactive tables.';\n",
              "          element.innerHTML = '';\n",
              "          dataTable['output_type'] = 'display_data';\n",
              "          await google.colab.output.renderOutput(dataTable, element);\n",
              "          const docLink = document.createElement('div');\n",
              "          docLink.innerHTML = docLinkHtml;\n",
              "          element.appendChild(docLink);\n",
              "        }\n",
              "      </script>\n",
              "    </div>\n",
              "  </div>\n",
              "  "
            ]
          },
          "metadata": {},
          "execution_count": 52
        }
      ]
    },
    {
      "cell_type": "code",
      "source": [
        "forecast_index = pd.date_range(dtest_arm.index[-1]+ pd.DateOffset(months=1), periods=24 ,freq = 'MS')"
      ],
      "metadata": {
        "id": "l_OPemncqaXw"
      },
      "execution_count": null,
      "outputs": []
    },
    {
      "cell_type": "code",
      "source": [
        "arma_model = ARIMA(df_diff, order=(3, 0, 6)).fit()\n",
        "arma_forecast = arma_model.forecast(steps=24)\n",
        "arma_forecast.index = forecast_index"
      ],
      "metadata": {
        "id": "oelxj6A_fgP4"
      },
      "execution_count": null,
      "outputs": []
    },
    {
      "cell_type": "code",
      "source": [
        "plt.plot(df_diff, label='Actual')\n",
        "plt.plot(arma_forecast, label='Forecast')\n",
        "plt.title('ARMA Forecast')\n",
        "plt.xlabel('Date')\n",
        "plt.legend()\n",
        "plt.show()"
      ],
      "metadata": {
        "id": "kRvE65Mxfz7j",
        "colab": {
          "base_uri": "https://localhost:8080/",
          "height": 295
        },
        "outputId": "4d03fe01-2452-429a-d0d0-496b0060584b"
      },
      "execution_count": null,
      "outputs": [
        {
          "output_type": "display_data",
          "data": {
            "text/plain": [
              "<Figure size 432x288 with 1 Axes>"
            ],
            "image/png": "[encoded data removed]"
          },
          "metadata": {
            "needs_background": "light"
          }
        }
      ]
    },
    {
      "cell_type": "markdown",
      "source": [
        "## ARIMA"
      ],
      "metadata": {
        "id": "VHZSJRK3gHgV"
      }
    },
    {
      "cell_type": "code",
      "source": [
        "train_len = int(len(df) * 0.75)\n",
        "train = df[:train_len]\n",
        "test  = df[train_len:]"
      ],
      "metadata": {
        "id": "8oq3L9DFgp8y"
      },
      "execution_count": null,
      "outputs": []
    },
    {
      "cell_type": "code",
      "source": [
        "arima_model = ARIMA(train, order=(3,1,6))\n",
        "arima_results = arima_model.fit()"
      ],
      "metadata": {
        "id": "1IPQ7zmnf4ZH"
      },
      "execution_count": null,
      "outputs": []
    },
    {
      "cell_type": "code",
      "source": [
        "arima_predict = arima_results.predict(start, end)\n",
        "arima_predict.index = test.index\n",
        "\n",
        "\n",
        "# arima_predict = arima_results.predict(start, end)\n",
        "# arima_predict.index = test.index"
      ],
      "metadata": {
        "id": "1617JGgqgMtX"
      },
      "execution_count": null,
      "outputs": []
    },
    {
      "cell_type": "code",
      "source": [
        "plt.plot(train, label='Train')\n",
        "plt.plot(test, label='Test')\n",
        "plt.plot(arima_predict, label='Predictions')\n",
        "plt.title('ARIMA Predictions')\n",
        "plt.legend()\n",
        "plt.xlabel('Year')\n",
        "plt.show()"
      ],
      "metadata": {
        "id": "sGugYHqKhEKY",
        "colab": {
          "base_uri": "https://localhost:8080/",
          "height": 295
        },
        "outputId": "c3fe192d-e01b-4483-81d0-029ecfcc7692"
      },
      "execution_count": null,
      "outputs": [
        {
          "output_type": "display_data",
          "data": {
            "text/plain": [
              "<Figure size 432x288 with 1 Axes>"
            ],
            "image/png": "[encoded data removed]"
          },
          "metadata": {
            "needs_background": "light"
          }
        }
      ]
    },
    {
      "cell_type": "code",
      "source": [
        "arima_pred_diff = arima_predict.diff().dropna()"
      ],
      "metadata": {
        "id": "B2ljRhTqN49I"
      },
      "execution_count": null,
      "outputs": []
    },
    {
      "cell_type": "code",
      "source": [
        "mae_arima = mean_absolute_error(dtest.iloc[1:], arima_pred_diff)\n",
        "mse_arima = mean_squared_error(dtest.iloc[1:], arima_pred_diff)\n",
        "rmse_arima = np.sqrt(mean_squared_error(dtest.iloc[1:], arima_pred_diff))"
      ],
      "metadata": {
        "id": "EXTnUKjgN_a4"
      },
      "execution_count": null,
      "outputs": []
    },
    {
      "cell_type": "code",
      "source": [
        "arima_perf = {'mae_arima': mae_arima,\n",
        "             'mse_arima':mse_arima,\n",
        "             'rmse_arima':rmse_arima}\n",
        "arima_perf = pd.DataFrame([arima_perf])\n",
        "arima_perf"
      ],
      "metadata": {
        "id": "n0IwjSHYOgK7",
        "colab": {
          "base_uri": "https://localhost:8080/",
          "height": 81
        },
        "outputId": "c8c5d754-932f-428e-f662-da074d309ada"
      },
      "execution_count": null,
      "outputs": [
        {
          "output_type": "execute_result",
          "data": {
            "text/plain": [
              "      mae_arima     mse_arima    rmse_arima\n",
              "0  1.948824e+06  9.210013e+12  3.034800e+06"
            ],
            "text/html": [
              "\n",
              "  <div id=\"df-554794b4-d3df-4b7c-a7ac-84c7cb387fe8\">\n",
              "    <div class=\"colab-df-container\">\n",
              "      <div>\n",
              "<style scoped>\n",
              "    .dataframe tbody tr th:only-of-type {\n",
              "        vertical-align: middle;\n",
              "    }\n",
              "\n",
              "    .dataframe tbody tr th {\n",
              "        vertical-align: top;\n",
              "    }\n",
              "\n",
              "    .dataframe thead th {\n",
              "        text-align: right;\n",
              "    }\n",
              "</style>\n",
              "<table border=\"1\" class=\"dataframe\">\n",
              "  <thead>\n",
              "    <tr style=\"text-align: right;\">\n",
              "      <th></th>\n",
              "      <th>mae_arima</th>\n",
              "      <th>mse_arima</th>\n",
              "      <th>rmse_arima</th>\n",
              "    </tr>\n",
              "  </thead>\n",
              "  <tbody>\n",
              "    <tr>\n",
              "      <th>0</th>\n",
              "      <td>1.948824e+06</td>\n",
              "      <td>9.210013e+12</td>\n",
              "      <td>3.034800e+06</td>\n",
              "    </tr>\n",
              "  </tbody>\n",
              "</table>\n",
              "</div>\n",
              "      <button class=\"colab-df-convert\" onclick=\"convertToInteractive('df-554794b4-d3df-4b7c-a7ac-84c7cb387fe8')\"\n",
              "              title=\"Convert this dataframe to an interactive table.\"\n",
              "              style=\"display:none;\">\n",
              "        \n",
              "  <svg xmlns=\"http://www.w3.org/2000/svg\" height=\"24px\"viewBox=\"0 0 24 24\"\n",
              "       width=\"24px\">\n",
              "    <path d=\"M0 0h24v24H0V0z\" fill=\"none\"/>\n",
              "    <path d=\"M18.56 5.44l.94 2.06.94-2.06 2.06-.94-2.06-.94-.94-2.06-.94 2.06-2.06.94zm-11 1L8.5 8.5l.94-2.06 2.06-.94-2.06-.94L8.5 2.5l-.94 2.06-2.06.94zm10 10l.94 2.06.94-2.06 2.06-.94-2.06-.94-.94-2.06-.94 2.06-2.06.94z\"/><path d=\"M17.41 7.96l-1.37-1.37c-.4-.4-.92-.59-1.43-.59-.52 0-1.04.2-1.43.59L10.3 9.45l-7.72 7.72c-.78.78-.78 2.05 0 2.83L4 21.41c.39.39.9.59 1.41.59.51 0 1.02-.2 1.41-.59l7.78-7.78 2.81-2.81c.8-.78.8-2.07 0-2.86zM5.41 20L4 18.59l7.72-7.72 1.47 1.35L5.41 20z\"/>\n",
              "  </svg>\n",
              "      </button>\n",
              "      \n",
              "  <style>\n",
              "    .colab-df-container {\n",
              "      display:flex;\n",
              "      flex-wrap:wrap;\n",
              "      gap: 12px;\n",
              "    }\n",
              "\n",
              "    .colab-df-convert {\n",
              "      background-color: #E8F0FE;\n",
              "      border: none;\n",
              "      border-radius: 50%;\n",
              "      cursor: pointer;\n",
              "      display: none;\n",
              "      fill: #1967D2;\n",
              "      height: 32px;\n",
              "      padding: 0 0 0 0;\n",
              "      width: 32px;\n",
              "    }\n",
              "\n",
              "    .colab-df-convert:hover {\n",
              "      background-color: #E2EBFA;\n",
              "      box-shadow: 0px 1px 2px rgba(60, 64, 67, 0.3), 0px 1px 3px 1px rgba(60, 64, 67, 0.15);\n",
              "      fill: #174EA6;\n",
              "    }\n",
              "\n",
              "    [theme=dark] .colab-df-convert {\n",
              "      background-color: #3B4455;\n",
              "      fill: #D2E3FC;\n",
              "    }\n",
              "\n",
              "    [theme=dark] .colab-df-convert:hover {\n",
              "      background-color: #434B5C;\n",
              "      box-shadow: 0px 1px 3px 1px rgba(0, 0, 0, 0.15);\n",
              "      filter: drop-shadow(0px 1px 2px rgba(0, 0, 0, 0.3));\n",
              "      fill: #FFFFFF;\n",
              "    }\n",
              "  </style>\n",
              "\n",
              "      <script>\n",
              "        const buttonEl =\n",
              "          document.querySelector('#df-554794b4-d3df-4b7c-a7ac-84c7cb387fe8 button.colab-df-convert');\n",
              "        buttonEl.style.display =\n",
              "          google.colab.kernel.accessAllowed ? 'block' : 'none';\n",
              "\n",
              "        async function convertToInteractive(key) {\n",
              "          const element = document.querySelector('#df-554794b4-d3df-4b7c-a7ac-84c7cb387fe8');\n",
              "          const dataTable =\n",
              "            await google.colab.kernel.invokeFunction('convertToInteractive',\n",
              "                                                     [key], {});\n",
              "          if (!dataTable) return;\n",
              "\n",
              "          const docLinkHtml = 'Like what you see? Visit the ' +\n",
              "            '<a target=\"_blank\" href=https://colab.research.google.com/notebooks/data_table.ipynb>data table notebook</a>'\n",
              "            + ' to learn more about interactive tables.';\n",
              "          element.innerHTML = '';\n",
              "          dataTable['output_type'] = 'display_data';\n",
              "          await google.colab.output.renderOutput(dataTable, element);\n",
              "          const docLink = document.createElement('div');\n",
              "          docLink.innerHTML = docLinkHtml;\n",
              "          element.appendChild(docLink);\n",
              "        }\n",
              "      </script>\n",
              "    </div>\n",
              "  </div>\n",
              "  "
            ]
          },
          "metadata": {},
          "execution_count": 62
        }
      ]
    },
    {
      "cell_type": "code",
      "source": [
        "forecast_index = pd.date_range(test.index[-1]+ pd.DateOffset(months=1), periods=24 ,freq = 'MS')"
      ],
      "metadata": {
        "id": "NZeJdhwLqv_Q"
      },
      "execution_count": null,
      "outputs": []
    },
    {
      "cell_type": "code",
      "source": [
        "arima_model = ARIMA(df, order=(3, 1, 6)).fit()\n",
        "arima_forecast = arima_model.forecast(steps=24)\n",
        "arima_forecast.index = forecast_index\n",
        "\n",
        "\n",
        "# arima_model = ARIMA(df, order=(7, 1, 6)).fit()\n",
        "# arima_forecast = arima_model.forecast(steps=10)\n",
        "# arima_forecast.index = forecast_index"
      ],
      "metadata": {
        "id": "GOTo4247Og17"
      },
      "execution_count": null,
      "outputs": []
    },
    {
      "cell_type": "code",
      "source": [
        "plt.plot(df, label='Actual')\n",
        "plt.plot(arima_forecast, label='Forecast')\n",
        "plt.title('ARIMA Forecast')\n",
        "plt.xlabel('Year')\n",
        "plt.legend()\n",
        "plt.show()"
      ],
      "metadata": {
        "id": "tRfdvHb6OjPe",
        "colab": {
          "base_uri": "https://localhost:8080/",
          "height": 295
        },
        "outputId": "7dc838e4-98fd-49d3-d2d9-e8b199458f1c"
      },
      "execution_count": null,
      "outputs": [
        {
          "output_type": "display_data",
          "data": {
            "text/plain": [
              "<Figure size 432x288 with 1 Axes>"
            ],
            "image/png": "[encoded data removed]"
          },
          "metadata": {
            "needs_background": "light"
          }
        }
      ]
    },
    {
      "cell_type": "markdown",
      "source": [
        "## SARIMA"
      ],
      "metadata": {
        "id": "Ai6Qa9sj4bwL"
      }
    },
    {
      "cell_type": "code",
      "source": [
        "train_len = int(len(df) * 0.75)\n",
        "train = df[:train_len]\n",
        "test  = df[train_len:]"
      ],
      "metadata": {
        "id": "2EDxk5HzC6Tb"
      },
      "execution_count": null,
      "outputs": []
    },
    {
      "cell_type": "code",
      "source": [
        "from statsmodels.tsa.statespace.sarimax import SARIMAX"
      ],
      "metadata": {
        "id": "2nAFiGTM167V"
      },
      "execution_count": null,
      "outputs": []
    },
    {
      "cell_type": "code",
      "source": [
        "sarima_model = SARIMAX(train, order=(3, 1, 6), seasonal_order=(2 , 1 , 2 , 12))\n",
        "sarima_results = sarima_model.fit(disp=0)"
      ],
      "metadata": {
        "id": "eILHSuQFPB7x"
      },
      "execution_count": null,
      "outputs": []
    },
    {
      "cell_type": "code",
      "source": [
        "sarima_pred = sarima_results.predict(start, end)\n",
        "sarima_pred.index = test.index\n",
        "\n"
      ],
      "metadata": {
        "id": "J2lpqC_A2LOn"
      },
      "execution_count": null,
      "outputs": []
    },
    {
      "cell_type": "code",
      "source": [
        "plt.plot(train, label='Train')\n",
        "plt.plot(test, label='Test')\n",
        "plt.plot(sarima_pred, label='Prediction')\n",
        "plt.legend()\n",
        "plt.title('SARIMA Predictions')\n",
        "plt.xlabel('Date')\n",
        "plt.show()"
      ],
      "metadata": {
        "id": "IdzaY9u31JBF",
        "colab": {
          "base_uri": "https://localhost:8080/",
          "height": 295
        },
        "outputId": "a563395a-5317-4a33-cfd0-41edb4a54379"
      },
      "execution_count": null,
      "outputs": [
        {
          "output_type": "display_data",
          "data": {
            "text/plain": [
              "<Figure size 432x288 with 1 Axes>"
            ],
            "image/png": "[encoded data removed]"
          },
          "metadata": {
            "needs_background": "light"
          }
        }
      ]
    },
    {
      "cell_type": "code",
      "source": [
        "sarima_pred_diff = sarima_pred.diff().dropna()"
      ],
      "metadata": {
        "id": "X_I5JSiI2Hu1"
      },
      "execution_count": null,
      "outputs": []
    },
    {
      "cell_type": "code",
      "source": [
        "mae_sarima = mean_absolute_error(dtest.iloc[1:], sarima_pred_diff)\n",
        "mse_sarima = mean_squared_error(dtest.iloc[1:], sarima_pred_diff)\n",
        "rmse_sarima = np.sqrt(mean_squared_error(dtest.iloc[1:], sarima_pred_diff))"
      ],
      "metadata": {
        "id": "C774uTFl2O7-"
      },
      "execution_count": null,
      "outputs": []
    },
    {
      "cell_type": "code",
      "source": [
        "sarima_perf = {'mae_sarima': mae_sarima,\n",
        "             'mse_sarima':mse_sarima,\n",
        "             'rmse_sarima':rmse_sarima}\n",
        "sarima_perf = pd.DataFrame([sarima_perf])\n",
        "sarima_perf\n"
      ],
      "metadata": {
        "id": "z3Gd51uT2Qvc",
        "colab": {
          "base_uri": "https://localhost:8080/",
          "height": 81
        },
        "outputId": "ff03efd6-9a1f-4332-bdc2-41fce83d2c1d"
      },
      "execution_count": null,
      "outputs": [
        {
          "output_type": "execute_result",
          "data": {
            "text/plain": [
              "     mae_sarima    mse_sarima   rmse_sarima\n",
              "0  1.884872e+06  9.152446e+12  3.025301e+06"
            ],
            "text/html": [
              "\n",
              "  <div id=\"df-e49f318a-d68d-4b80-8171-0ee27d9662f8\">\n",
              "    <div class=\"colab-df-container\">\n",
              "      <div>\n",
              "<style scoped>\n",
              "    .dataframe tbody tr th:only-of-type {\n",
              "        vertical-align: middle;\n",
              "    }\n",
              "\n",
              "    .dataframe tbody tr th {\n",
              "        vertical-align: top;\n",
              "    }\n",
              "\n",
              "    .dataframe thead th {\n",
              "        text-align: right;\n",
              "    }\n",
              "</style>\n",
              "<table border=\"1\" class=\"dataframe\">\n",
              "  <thead>\n",
              "    <tr style=\"text-align: right;\">\n",
              "      <th></th>\n",
              "      <th>mae_sarima</th>\n",
              "      <th>mse_sarima</th>\n",
              "      <th>rmse_sarima</th>\n",
              "    </tr>\n",
              "  </thead>\n",
              "  <tbody>\n",
              "    <tr>\n",
              "      <th>0</th>\n",
              "      <td>1.884872e+06</td>\n",
              "      <td>9.152446e+12</td>\n",
              "      <td>3.025301e+06</td>\n",
              "    </tr>\n",
              "  </tbody>\n",
              "</table>\n",
              "</div>\n",
              "      <button class=\"colab-df-convert\" onclick=\"convertToInteractive('df-e49f318a-d68d-4b80-8171-0ee27d9662f8')\"\n",
              "              title=\"Convert this dataframe to an interactive table.\"\n",
              "              style=\"display:none;\">\n",
              "        \n",
              "  <svg xmlns=\"http://www.w3.org/2000/svg\" height=\"24px\"viewBox=\"0 0 24 24\"\n",
              "       width=\"24px\">\n",
              "    <path d=\"M0 0h24v24H0V0z\" fill=\"none\"/>\n",
              "    <path d=\"M18.56 5.44l.94 2.06.94-2.06 2.06-.94-2.06-.94-.94-2.06-.94 2.06-2.06.94zm-11 1L8.5 8.5l.94-2.06 2.06-.94-2.06-.94L8.5 2.5l-.94 2.06-2.06.94zm10 10l.94 2.06.94-2.06 2.06-.94-2.06-.94-.94-2.06-.94 2.06-2.06.94z\"/><path d=\"M17.41 7.96l-1.37-1.37c-.4-.4-.92-.59-1.43-.59-.52 0-1.04.2-1.43.59L10.3 9.45l-7.72 7.72c-.78.78-.78 2.05 0 2.83L4 21.41c.39.39.9.59 1.41.59.51 0 1.02-.2 1.41-.59l7.78-7.78 2.81-2.81c.8-.78.8-2.07 0-2.86zM5.41 20L4 18.59l7.72-7.72 1.47 1.35L5.41 20z\"/>\n",
              "  </svg>\n",
              "      </button>\n",
              "      \n",
              "  <style>\n",
              "    .colab-df-container {\n",
              "      display:flex;\n",
              "      flex-wrap:wrap;\n",
              "      gap: 12px;\n",
              "    }\n",
              "\n",
              "    .colab-df-convert {\n",
              "      background-color: #E8F0FE;\n",
              "      border: none;\n",
              "      border-radius: 50%;\n",
              "      cursor: pointer;\n",
              "      display: none;\n",
              "      fill: #1967D2;\n",
              "      height: 32px;\n",
              "      padding: 0 0 0 0;\n",
              "      width: 32px;\n",
              "    }\n",
              "\n",
              "    .colab-df-convert:hover {\n",
              "      background-color: #E2EBFA;\n",
              "      box-shadow: 0px 1px 2px rgba(60, 64, 67, 0.3), 0px 1px 3px 1px rgba(60, 64, 67, 0.15);\n",
              "      fill: #174EA6;\n",
              "    }\n",
              "\n",
              "    [theme=dark] .colab-df-convert {\n",
              "      background-color: #3B4455;\n",
              "      fill: #D2E3FC;\n",
              "    }\n",
              "\n",
              "    [theme=dark] .colab-df-convert:hover {\n",
              "      background-color: #434B5C;\n",
              "      box-shadow: 0px 1px 3px 1px rgba(0, 0, 0, 0.15);\n",
              "      filter: drop-shadow(0px 1px 2px rgba(0, 0, 0, 0.3));\n",
              "      fill: #FFFFFF;\n",
              "    }\n",
              "  </style>\n",
              "\n",
              "      <script>\n",
              "        const buttonEl =\n",
              "          document.querySelector('#df-e49f318a-d68d-4b80-8171-0ee27d9662f8 button.colab-df-convert');\n",
              "        buttonEl.style.display =\n",
              "          google.colab.kernel.accessAllowed ? 'block' : 'none';\n",
              "\n",
              "        async function convertToInteractive(key) {\n",
              "          const element = document.querySelector('#df-e49f318a-d68d-4b80-8171-0ee27d9662f8');\n",
              "          const dataTable =\n",
              "            await google.colab.kernel.invokeFunction('convertToInteractive',\n",
              "                                                     [key], {});\n",
              "          if (!dataTable) return;\n",
              "\n",
              "          const docLinkHtml = 'Like what you see? Visit the ' +\n",
              "            '<a target=\"_blank\" href=https://colab.research.google.com/notebooks/data_table.ipynb>data table notebook</a>'\n",
              "            + ' to learn more about interactive tables.';\n",
              "          element.innerHTML = '';\n",
              "          dataTable['output_type'] = 'display_data';\n",
              "          await google.colab.output.renderOutput(dataTable, element);\n",
              "          const docLink = document.createElement('div');\n",
              "          docLink.innerHTML = docLinkHtml;\n",
              "          element.appendChild(docLink);\n",
              "        }\n",
              "      </script>\n",
              "    </div>\n",
              "  </div>\n",
              "  "
            ]
          },
          "metadata": {},
          "execution_count": 73
        }
      ]
    },
    {
      "cell_type": "code",
      "source": [
        "forecast_index = pd.date_range(test.index[-1]+ pd.DateOffset(months=1), periods=12 ,freq = 'MS')"
      ],
      "metadata": {
        "id": "GVp-NvksrBTM"
      },
      "execution_count": null,
      "outputs": []
    },
    {
      "cell_type": "code",
      "source": [
        "sarima_model = SARIMAX(df, order=(3, 1, 6), seasonal_order=(2, 1, 2 , 12))\n",
        "sarima_results = sarima_model.fit(disp=0)\n",
        "sarima_forecast = sarima_results.forecast(steps=12)\n",
        "sarima_forecast.index = forecast_index"
      ],
      "metadata": {
        "id": "pkZS05zQ2W8M",
        "colab": {
          "base_uri": "https://localhost:8080/"
        },
        "outputId": "b2fef57b-0b57-4fdf-f926-6395020e409f"
      },
      "execution_count": null,
      "outputs": [
        {
          "output_type": "stream",
          "name": "stderr",
          "text": [
            "/usr/local/lib/python3.8/dist-packages/statsmodels/tsa/statespace/sarimax.py:997: UserWarning: Non-stationary starting seasonal autoregressive Using zeros as starting parameters.\n",
            "  warn('Non-stationary starting seasonal autoregressive'\n"
          ]
        }
      ]
    },
    {
      "cell_type": "code",
      "source": [
        "plt.plot(df, label='Actual')\n",
        "plt.plot(sarima_forecast, label='Forecast')\n",
        "plt.title('SARIMA Forecast')\n",
        "plt.legend()\n",
        "plt.xlabel('Date')\n",
        "plt.show()"
      ],
      "metadata": {
        "id": "5TlAQk6Q2f9M",
        "colab": {
          "base_uri": "https://localhost:8080/",
          "height": 295
        },
        "outputId": "451845e3-4332-49bb-a230-7592bacc0ad8"
      },
      "execution_count": null,
      "outputs": [
        {
          "output_type": "display_data",
          "data": {
            "text/plain": [
              "<Figure size 432x288 with 1 Axes>"
            ],
            "image/png": "[encoded data removed]"
          },
          "metadata": {
            "needs_background": "light"
          }
        }
      ]
    },
    {
      "cell_type": "markdown",
      "source": [
        "## Performance Measurment\n"
      ],
      "metadata": {
        "id": "7-NBQyBoLRA0"
      }
    },
    {
      "cell_type": "code",
      "source": [
        "basic_perf = pd.concat([ma_perf.T, ar_perf.T, arma_perf.T, arima_perf.T, sarima_perf.T])\n",
        "basic_perf = basic_perf.rename(columns={0:'results'})"
      ],
      "metadata": {
        "id": "9QFyOVhaLQCh"
      },
      "execution_count": null,
      "outputs": []
    },
    {
      "cell_type": "markdown",
      "source": [
        "#### Mean Absolute error\n",
        "- This is a commonly used performance evaluation metric in regression model \n",
        "- The discrepancy between the predicted value and the actual observations is known as the absolute error. This tells us how much on average the model predictions are off from the actual values."
      ],
      "metadata": {
        "id": "UghZhEMoqlJn"
      }
    },
    {
      "cell_type": "code",
      "source": [
        "basic_mae = basic_perf[basic_perf.index.str.contains('mae')] # Mean Absolute error\n",
        "basic_mae.sort_values(by=['results'], ascending=True)"
      ],
      "metadata": {
        "id": "ZsDPO5lONEV2",
        "colab": {
          "base_uri": "https://localhost:8080/",
          "height": 206
        },
        "outputId": "1b11a14e-b249-4405-b1df-15e42aa3d982"
      },
      "execution_count": null,
      "outputs": [
        {
          "output_type": "execute_result",
          "data": {
            "text/plain": [
              "                 results\n",
              "mae_sarima  1.884872e+06\n",
              "mae_arma    1.942005e+06\n",
              "mae_arima   1.948824e+06\n",
              "mae_MA      2.031937e+06\n",
              "mae_ARM     2.035881e+06"
            ],
            "text/html": [
              "\n",
              "  <div id=\"df-4a8ae76f-7ed1-4256-8401-880442bce86a\">\n",
              "    <div class=\"colab-df-container\">\n",
              "      <div>\n",
              "<style scoped>\n",
              "    .dataframe tbody tr th:only-of-type {\n",
              "        vertical-align: middle;\n",
              "    }\n",
              "\n",
              "    .dataframe tbody tr th {\n",
              "        vertical-align: top;\n",
              "    }\n",
              "\n",
              "    .dataframe thead th {\n",
              "        text-align: right;\n",
              "    }\n",
              "</style>\n",
              "<table border=\"1\" class=\"dataframe\">\n",
              "  <thead>\n",
              "    <tr style=\"text-align: right;\">\n",
              "      <th></th>\n",
              "      <th>results</th>\n",
              "    </tr>\n",
              "  </thead>\n",
              "  <tbody>\n",
              "    <tr>\n",
              "      <th>mae_sarima</th>\n",
              "      <td>1.884872e+06</td>\n",
              "    </tr>\n",
              "    <tr>\n",
              "      <th>mae_arma</th>\n",
              "      <td>1.942005e+06</td>\n",
              "    </tr>\n",
              "    <tr>\n",
              "      <th>mae_arima</th>\n",
              "      <td>1.948824e+06</td>\n",
              "    </tr>\n",
              "    <tr>\n",
              "      <th>mae_MA</th>\n",
              "      <td>2.031937e+06</td>\n",
              "    </tr>\n",
              "    <tr>\n",
              "      <th>mae_ARM</th>\n",
              "      <td>2.035881e+06</td>\n",
              "    </tr>\n",
              "  </tbody>\n",
              "</table>\n",
              "</div>\n",
              "      <button class=\"colab-df-convert\" onclick=\"convertToInteractive('df-4a8ae76f-7ed1-4256-8401-880442bce86a')\"\n",
              "              title=\"Convert this dataframe to an interactive table.\"\n",
              "              style=\"display:none;\">\n",
              "        \n",
              "  <svg xmlns=\"http://www.w3.org/2000/svg\" height=\"24px\"viewBox=\"0 0 24 24\"\n",
              "       width=\"24px\">\n",
              "    <path d=\"M0 0h24v24H0V0z\" fill=\"none\"/>\n",
              "    <path d=\"M18.56 5.44l.94 2.06.94-2.06 2.06-.94-2.06-.94-.94-2.06-.94 2.06-2.06.94zm-11 1L8.5 8.5l.94-2.06 2.06-.94-2.06-.94L8.5 2.5l-.94 2.06-2.06.94zm10 10l.94 2.06.94-2.06 2.06-.94-2.06-.94-.94-2.06-.94 2.06-2.06.94z\"/><path d=\"M17.41 7.96l-1.37-1.37c-.4-.4-.92-.59-1.43-.59-.52 0-1.04.2-1.43.59L10.3 9.45l-7.72 7.72c-.78.78-.78 2.05 0 2.83L4 21.41c.39.39.9.59 1.41.59.51 0 1.02-.2 1.41-.59l7.78-7.78 2.81-2.81c.8-.78.8-2.07 0-2.86zM5.41 20L4 18.59l7.72-7.72 1.47 1.35L5.41 20z\"/>\n",
              "  </svg>\n",
              "      </button>\n",
              "      \n",
              "  <style>\n",
              "    .colab-df-container {\n",
              "      display:flex;\n",
              "      flex-wrap:wrap;\n",
              "      gap: 12px;\n",
              "    }\n",
              "\n",
              "    .colab-df-convert {\n",
              "      background-color: #E8F0FE;\n",
              "      border: none;\n",
              "      border-radius: 50%;\n",
              "      cursor: pointer;\n",
              "      display: none;\n",
              "      fill: #1967D2;\n",
              "      height: 32px;\n",
              "      padding: 0 0 0 0;\n",
              "      width: 32px;\n",
              "    }\n",
              "\n",
              "    .colab-df-convert:hover {\n",
              "      background-color: #E2EBFA;\n",
              "      box-shadow: 0px 1px 2px rgba(60, 64, 67, 0.3), 0px 1px 3px 1px rgba(60, 64, 67, 0.15);\n",
              "      fill: #174EA6;\n",
              "    }\n",
              "\n",
              "    [theme=dark] .colab-df-convert {\n",
              "      background-color: #3B4455;\n",
              "      fill: #D2E3FC;\n",
              "    }\n",
              "\n",
              "    [theme=dark] .colab-df-convert:hover {\n",
              "      background-color: #434B5C;\n",
              "      box-shadow: 0px 1px 3px 1px rgba(0, 0, 0, 0.15);\n",
              "      filter: drop-shadow(0px 1px 2px rgba(0, 0, 0, 0.3));\n",
              "      fill: #FFFFFF;\n",
              "    }\n",
              "  </style>\n",
              "\n",
              "      <script>\n",
              "        const buttonEl =\n",
              "          document.querySelector('#df-4a8ae76f-7ed1-4256-8401-880442bce86a button.colab-df-convert');\n",
              "        buttonEl.style.display =\n",
              "          google.colab.kernel.accessAllowed ? 'block' : 'none';\n",
              "\n",
              "        async function convertToInteractive(key) {\n",
              "          const element = document.querySelector('#df-4a8ae76f-7ed1-4256-8401-880442bce86a');\n",
              "          const dataTable =\n",
              "            await google.colab.kernel.invokeFunction('convertToInteractive',\n",
              "                                                     [key], {});\n",
              "          if (!dataTable) return;\n",
              "\n",
              "          const docLinkHtml = 'Like what you see? Visit the ' +\n",
              "            '<a target=\"_blank\" href=https://colab.research.google.com/notebooks/data_table.ipynb>data table notebook</a>'\n",
              "            + ' to learn more about interactive tables.';\n",
              "          element.innerHTML = '';\n",
              "          dataTable['output_type'] = 'display_data';\n",
              "          await google.colab.output.renderOutput(dataTable, element);\n",
              "          const docLink = document.createElement('div');\n",
              "          docLink.innerHTML = docLinkHtml;\n",
              "          element.appendChild(docLink);\n",
              "        }\n",
              "      </script>\n",
              "    </div>\n",
              "  </div>\n",
              "  "
            ]
          },
          "metadata": {},
          "execution_count": 91
        }
      ]
    },
    {
      "cell_type": "markdown",
      "source": [
        "#### Mean Squared Error\n",
        "- MSE provides information on how much forecasts deviate from actual values, this is just like MAE does."
      ],
      "metadata": {
        "id": "3OBtxs7-rFMN"
      }
    },
    {
      "cell_type": "code",
      "source": [
        "basic_mse = basic_perf[basic_perf.index.str.contains('^mse')] # mean square error\n",
        "basic_mse.sort_values(by=['results'], ascending=True)"
      ],
      "metadata": {
        "id": "hA8Y0SI9NHo9",
        "colab": {
          "base_uri": "https://localhost:8080/",
          "height": 206
        },
        "outputId": "c28f5e99-89f5-4463-e6d1-e90d537b8be8"
      },
      "execution_count": null,
      "outputs": [
        {
          "output_type": "execute_result",
          "data": {
            "text/plain": [
              "                 results\n",
              "mse_sarima  9.152446e+12\n",
              "mse_arima   9.210013e+12\n",
              "mse_arma    9.325340e+12\n",
              "mse_ARM     9.518188e+12\n",
              "mse_MA      9.532595e+12"
            ],
            "text/html": [
              "\n",
              "  <div id=\"df-e5e050ef-034d-49a0-b923-12351533480a\">\n",
              "    <div class=\"colab-df-container\">\n",
              "      <div>\n",
              "<style scoped>\n",
              "    .dataframe tbody tr th:only-of-type {\n",
              "        vertical-align: middle;\n",
              "    }\n",
              "\n",
              "    .dataframe tbody tr th {\n",
              "        vertical-align: top;\n",
              "    }\n",
              "\n",
              "    .dataframe thead th {\n",
              "        text-align: right;\n",
              "    }\n",
              "</style>\n",
              "<table border=\"1\" class=\"dataframe\">\n",
              "  <thead>\n",
              "    <tr style=\"text-align: right;\">\n",
              "      <th></th>\n",
              "      <th>results</th>\n",
              "    </tr>\n",
              "  </thead>\n",
              "  <tbody>\n",
              "    <tr>\n",
              "      <th>mse_sarima</th>\n",
              "      <td>9.152446e+12</td>\n",
              "    </tr>\n",
              "    <tr>\n",
              "      <th>mse_arima</th>\n",
              "      <td>9.210013e+12</td>\n",
              "    </tr>\n",
              "    <tr>\n",
              "      <th>mse_arma</th>\n",
              "      <td>9.325340e+12</td>\n",
              "    </tr>\n",
              "    <tr>\n",
              "      <th>mse_ARM</th>\n",
              "      <td>9.518188e+12</td>\n",
              "    </tr>\n",
              "    <tr>\n",
              "      <th>mse_MA</th>\n",
              "      <td>9.532595e+12</td>\n",
              "    </tr>\n",
              "  </tbody>\n",
              "</table>\n",
              "</div>\n",
              "      <button class=\"colab-df-convert\" onclick=\"convertToInteractive('df-e5e050ef-034d-49a0-b923-12351533480a')\"\n",
              "              title=\"Convert this dataframe to an interactive table.\"\n",
              "              style=\"display:none;\">\n",
              "        \n",
              "  <svg xmlns=\"http://www.w3.org/2000/svg\" height=\"24px\"viewBox=\"0 0 24 24\"\n",
              "       width=\"24px\">\n",
              "    <path d=\"M0 0h24v24H0V0z\" fill=\"none\"/>\n",
              "    <path d=\"M18.56 5.44l.94 2.06.94-2.06 2.06-.94-2.06-.94-.94-2.06-.94 2.06-2.06.94zm-11 1L8.5 8.5l.94-2.06 2.06-.94-2.06-.94L8.5 2.5l-.94 2.06-2.06.94zm10 10l.94 2.06.94-2.06 2.06-.94-2.06-.94-.94-2.06-.94 2.06-2.06.94z\"/><path d=\"M17.41 7.96l-1.37-1.37c-.4-.4-.92-.59-1.43-.59-.52 0-1.04.2-1.43.59L10.3 9.45l-7.72 7.72c-.78.78-.78 2.05 0 2.83L4 21.41c.39.39.9.59 1.41.59.51 0 1.02-.2 1.41-.59l7.78-7.78 2.81-2.81c.8-.78.8-2.07 0-2.86zM5.41 20L4 18.59l7.72-7.72 1.47 1.35L5.41 20z\"/>\n",
              "  </svg>\n",
              "      </button>\n",
              "      \n",
              "  <style>\n",
              "    .colab-df-container {\n",
              "      display:flex;\n",
              "      flex-wrap:wrap;\n",
              "      gap: 12px;\n",
              "    }\n",
              "\n",
              "    .colab-df-convert {\n",
              "      background-color: #E8F0FE;\n",
              "      border: none;\n",
              "      border-radius: 50%;\n",
              "      cursor: pointer;\n",
              "      display: none;\n",
              "      fill: #1967D2;\n",
              "      height: 32px;\n",
              "      padding: 0 0 0 0;\n",
              "      width: 32px;\n",
              "    }\n",
              "\n",
              "    .colab-df-convert:hover {\n",
              "      background-color: #E2EBFA;\n",
              "      box-shadow: 0px 1px 2px rgba(60, 64, 67, 0.3), 0px 1px 3px 1px rgba(60, 64, 67, 0.15);\n",
              "      fill: #174EA6;\n",
              "    }\n",
              "\n",
              "    [theme=dark] .colab-df-convert {\n",
              "      background-color: #3B4455;\n",
              "      fill: #D2E3FC;\n",
              "    }\n",
              "\n",
              "    [theme=dark] .colab-df-convert:hover {\n",
              "      background-color: #434B5C;\n",
              "      box-shadow: 0px 1px 3px 1px rgba(0, 0, 0, 0.15);\n",
              "      filter: drop-shadow(0px 1px 2px rgba(0, 0, 0, 0.3));\n",
              "      fill: #FFFFFF;\n",
              "    }\n",
              "  </style>\n",
              "\n",
              "      <script>\n",
              "        const buttonEl =\n",
              "          document.querySelector('#df-e5e050ef-034d-49a0-b923-12351533480a button.colab-df-convert');\n",
              "        buttonEl.style.display =\n",
              "          google.colab.kernel.accessAllowed ? 'block' : 'none';\n",
              "\n",
              "        async function convertToInteractive(key) {\n",
              "          const element = document.querySelector('#df-e5e050ef-034d-49a0-b923-12351533480a');\n",
              "          const dataTable =\n",
              "            await google.colab.kernel.invokeFunction('convertToInteractive',\n",
              "                                                     [key], {});\n",
              "          if (!dataTable) return;\n",
              "\n",
              "          const docLinkHtml = 'Like what you see? Visit the ' +\n",
              "            '<a target=\"_blank\" href=https://colab.research.google.com/notebooks/data_table.ipynb>data table notebook</a>'\n",
              "            + ' to learn more about interactive tables.';\n",
              "          element.innerHTML = '';\n",
              "          dataTable['output_type'] = 'display_data';\n",
              "          await google.colab.output.renderOutput(dataTable, element);\n",
              "          const docLink = document.createElement('div');\n",
              "          docLink.innerHTML = docLinkHtml;\n",
              "          element.appendChild(docLink);\n",
              "        }\n",
              "      </script>\n",
              "    </div>\n",
              "  </div>\n",
              "  "
            ]
          },
          "metadata": {},
          "execution_count": 79
        }
      ]
    },
    {
      "cell_type": "markdown",
      "source": [
        "#### Root Mean Squared Error\n",
        "- This is another similar performance metric. it calculate the difference between prediction and actual values, "
      ],
      "metadata": {
        "id": "_OiMoFg6ri4z"
      }
    },
    {
      "cell_type": "code",
      "source": [
        "basic_rmse = basic_perf[basic_perf.index.str.contains('rmse')] # rooot Mean Square error\n",
        "basic_rmse.sort_values(by=['results'], ascending=True)"
      ],
      "metadata": {
        "id": "SUClH_ABNJ-G",
        "colab": {
          "base_uri": "https://localhost:8080/",
          "height": 206
        },
        "outputId": "8d53328c-7ee1-4a4f-91c7-1c1dfa68a580"
      },
      "execution_count": null,
      "outputs": [
        {
          "output_type": "execute_result",
          "data": {
            "text/plain": [
              "                  results\n",
              "rmse_sarima  3.025301e+06\n",
              "rmse_arima   3.034800e+06\n",
              "rmse_arma    3.053742e+06\n",
              "rmse_ARM     3.085156e+06\n",
              "rmse_MA      3.087490e+06"
            ],
            "text/html": [
              "\n",
              "  <div id=\"df-2806d649-2c4f-4485-9a62-35a69b0e12fb\">\n",
              "    <div class=\"colab-df-container\">\n",
              "      <div>\n",
              "<style scoped>\n",
              "    .dataframe tbody tr th:only-of-type {\n",
              "        vertical-align: middle;\n",
              "    }\n",
              "\n",
              "    .dataframe tbody tr th {\n",
              "        vertical-align: top;\n",
              "    }\n",
              "\n",
              "    .dataframe thead th {\n",
              "        text-align: right;\n",
              "    }\n",
              "</style>\n",
              "<table border=\"1\" class=\"dataframe\">\n",
              "  <thead>\n",
              "    <tr style=\"text-align: right;\">\n",
              "      <th></th>\n",
              "      <th>results</th>\n",
              "    </tr>\n",
              "  </thead>\n",
              "  <tbody>\n",
              "    <tr>\n",
              "      <th>rmse_sarima</th>\n",
              "      <td>3.025301e+06</td>\n",
              "    </tr>\n",
              "    <tr>\n",
              "      <th>rmse_arima</th>\n",
              "      <td>3.034800e+06</td>\n",
              "    </tr>\n",
              "    <tr>\n",
              "      <th>rmse_arma</th>\n",
              "      <td>3.053742e+06</td>\n",
              "    </tr>\n",
              "    <tr>\n",
              "      <th>rmse_ARM</th>\n",
              "      <td>3.085156e+06</td>\n",
              "    </tr>\n",
              "    <tr>\n",
              "      <th>rmse_MA</th>\n",
              "      <td>3.087490e+06</td>\n",
              "    </tr>\n",
              "  </tbody>\n",
              "</table>\n",
              "</div>\n",
              "      <button class=\"colab-df-convert\" onclick=\"convertToInteractive('df-2806d649-2c4f-4485-9a62-35a69b0e12fb')\"\n",
              "              title=\"Convert this dataframe to an interactive table.\"\n",
              "              style=\"display:none;\">\n",
              "        \n",
              "  <svg xmlns=\"http://www.w3.org/2000/svg\" height=\"24px\"viewBox=\"0 0 24 24\"\n",
              "       width=\"24px\">\n",
              "    <path d=\"M0 0h24v24H0V0z\" fill=\"none\"/>\n",
              "    <path d=\"M18.56 5.44l.94 2.06.94-2.06 2.06-.94-2.06-.94-.94-2.06-.94 2.06-2.06.94zm-11 1L8.5 8.5l.94-2.06 2.06-.94-2.06-.94L8.5 2.5l-.94 2.06-2.06.94zm10 10l.94 2.06.94-2.06 2.06-.94-2.06-.94-.94-2.06-.94 2.06-2.06.94z\"/><path d=\"M17.41 7.96l-1.37-1.37c-.4-.4-.92-.59-1.43-.59-.52 0-1.04.2-1.43.59L10.3 9.45l-7.72 7.72c-.78.78-.78 2.05 0 2.83L4 21.41c.39.39.9.59 1.41.59.51 0 1.02-.2 1.41-.59l7.78-7.78 2.81-2.81c.8-.78.8-2.07 0-2.86zM5.41 20L4 18.59l7.72-7.72 1.47 1.35L5.41 20z\"/>\n",
              "  </svg>\n",
              "      </button>\n",
              "      \n",
              "  <style>\n",
              "    .colab-df-container {\n",
              "      display:flex;\n",
              "      flex-wrap:wrap;\n",
              "      gap: 12px;\n",
              "    }\n",
              "\n",
              "    .colab-df-convert {\n",
              "      background-color: #E8F0FE;\n",
              "      border: none;\n",
              "      border-radius: 50%;\n",
              "      cursor: pointer;\n",
              "      display: none;\n",
              "      fill: #1967D2;\n",
              "      height: 32px;\n",
              "      padding: 0 0 0 0;\n",
              "      width: 32px;\n",
              "    }\n",
              "\n",
              "    .colab-df-convert:hover {\n",
              "      background-color: #E2EBFA;\n",
              "      box-shadow: 0px 1px 2px rgba(60, 64, 67, 0.3), 0px 1px 3px 1px rgba(60, 64, 67, 0.15);\n",
              "      fill: #174EA6;\n",
              "    }\n",
              "\n",
              "    [theme=dark] .colab-df-convert {\n",
              "      background-color: #3B4455;\n",
              "      fill: #D2E3FC;\n",
              "    }\n",
              "\n",
              "    [theme=dark] .colab-df-convert:hover {\n",
              "      background-color: #434B5C;\n",
              "      box-shadow: 0px 1px 3px 1px rgba(0, 0, 0, 0.15);\n",
              "      filter: drop-shadow(0px 1px 2px rgba(0, 0, 0, 0.3));\n",
              "      fill: #FFFFFF;\n",
              "    }\n",
              "  </style>\n",
              "\n",
              "      <script>\n",
              "        const buttonEl =\n",
              "          document.querySelector('#df-2806d649-2c4f-4485-9a62-35a69b0e12fb button.colab-df-convert');\n",
              "        buttonEl.style.display =\n",
              "          google.colab.kernel.accessAllowed ? 'block' : 'none';\n",
              "\n",
              "        async function convertToInteractive(key) {\n",
              "          const element = document.querySelector('#df-2806d649-2c4f-4485-9a62-35a69b0e12fb');\n",
              "          const dataTable =\n",
              "            await google.colab.kernel.invokeFunction('convertToInteractive',\n",
              "                                                     [key], {});\n",
              "          if (!dataTable) return;\n",
              "\n",
              "          const docLinkHtml = 'Like what you see? Visit the ' +\n",
              "            '<a target=\"_blank\" href=https://colab.research.google.com/notebooks/data_table.ipynb>data table notebook</a>'\n",
              "            + ' to learn more about interactive tables.';\n",
              "          element.innerHTML = '';\n",
              "          dataTable['output_type'] = 'display_data';\n",
              "          await google.colab.output.renderOutput(dataTable, element);\n",
              "          const docLink = document.createElement('div');\n",
              "          docLink.innerHTML = docLinkHtml;\n",
              "          element.appendChild(docLink);\n",
              "        }\n",
              "      </script>\n",
              "    </div>\n",
              "  </div>\n",
              "  "
            ]
          },
          "metadata": {},
          "execution_count": 80
        }
      ]
    },
    {
      "cell_type": "code",
      "source": [
        "print('Results of Dickey Fuller Test:')\n",
        "dftest = adfuller(df, autolag='AIC')\n",
        "\n",
        "dfoutput = pd.Series(dftest[0:4], index=['Test Statistic','p-value','#Lags Used','Number of Observations Used'])\n",
        "for key,value in dftest[4].items():\n",
        "    dfoutput['Critical Value (%s)'%key] = value\n",
        "    \n",
        "print(dfoutput)"
      ],
      "metadata": {
        "id": "DkxxY1q61npT",
        "colab": {
          "base_uri": "https://localhost:8080/"
        },
        "outputId": "20b40c2a-976d-4960-b91a-64506a1295d7"
      },
      "execution_count": null,
      "outputs": [
        {
          "output_type": "stream",
          "name": "stdout",
          "text": [
            "Results of Dickey Fuller Test:\n",
            "Test Statistic                  -1.921827\n",
            "p-value                          0.321864\n",
            "#Lags Used                      10.000000\n",
            "Number of Observations Used    257.000000\n",
            "Critical Value (1%)             -3.456054\n",
            "Critical Value (5%)             -2.872853\n",
            "Critical Value (10%)            -2.572799\n",
            "dtype: float64\n"
          ]
        }
      ]
    },
    {
      "cell_type": "code",
      "source": [],
      "metadata": {
        "id": "mLpqTFG5IFaW"
      },
      "execution_count": null,
      "outputs": []
    }
  ]
}